{
  "cells": [
    {
      "cell_type": "markdown",
      "metadata": {
        "id": "grmac7ZYj02a"
      },
      "source": [
        "## Setup"
      ]
    },
    {
      "cell_type": "markdown",
      "metadata": {
        "id": "D_mi4NZeeB1l"
      },
      "source": [
        "### Install the TensorFlow Model Garden pip package"
      ]
    },
    {
      "cell_type": "markdown",
      "metadata": {
        "id": "tCk46-HdmIyD"
      },
      "source": [
        "`tf-nightly` is the nightly Model Garden package created daily automatically. We install it with pip."
      ]
    },
    {
      "cell_type": "code",
      "execution_count": null,
      "metadata": {
        "colab": {
          "base_uri": "https://localhost:8080/"
        },
        "id": "mvO0_HcKx0_V",
        "outputId": "52706083-062a-4b1b-cc37-f8769b1db0b8"
      },
      "outputs": [
        {
          "output_type": "stream",
          "name": "stdout",
          "text": [
            "Requirement already satisfied: pip in /usr/local/lib/python3.7/dist-packages (21.1.3)\n",
            "Collecting pip\n",
            "  Downloading pip-22.0.4-py3-none-any.whl (2.1 MB)\n",
            "\u001b[K     |████████████████████████████████| 2.1 MB 4.3 MB/s \n",
            "\u001b[?25hInstalling collected packages: pip\n",
            "  Attempting uninstall: pip\n",
            "    Found existing installation: pip 21.1.3\n",
            "    Uninstalling pip-21.1.3:\n",
            "      Successfully uninstalled pip-21.1.3\n",
            "Successfully installed pip-22.0.4\n",
            "Requirement already satisfied: tensorflow in /usr/local/lib/python3.7/dist-packages (2.8.0)\n",
            "Requirement already satisfied: typing-extensions>=3.6.6 in /usr/local/lib/python3.7/dist-packages (from tensorflow) (3.10.0.2)\n",
            "Requirement already satisfied: astunparse>=1.6.0 in /usr/local/lib/python3.7/dist-packages (from tensorflow) (1.6.3)\n",
            "Requirement already satisfied: tensorflow-io-gcs-filesystem>=0.23.1 in /usr/local/lib/python3.7/dist-packages (from tensorflow) (0.24.0)\n",
            "Requirement already satisfied: google-pasta>=0.1.1 in /usr/local/lib/python3.7/dist-packages (from tensorflow) (0.2.0)\n",
            "Requirement already satisfied: wrapt>=1.11.0 in /usr/local/lib/python3.7/dist-packages (from tensorflow) (1.14.0)\n",
            "Requirement already satisfied: termcolor>=1.1.0 in /usr/local/lib/python3.7/dist-packages (from tensorflow) (1.1.0)\n",
            "Requirement already satisfied: numpy>=1.20 in /usr/local/lib/python3.7/dist-packages (from tensorflow) (1.21.5)\n",
            "Requirement already satisfied: h5py>=2.9.0 in /usr/local/lib/python3.7/dist-packages (from tensorflow) (3.1.0)\n",
            "Requirement already satisfied: absl-py>=0.4.0 in /usr/local/lib/python3.7/dist-packages (from tensorflow) (1.0.0)\n",
            "Requirement already satisfied: six>=1.12.0 in /usr/local/lib/python3.7/dist-packages (from tensorflow) (1.15.0)\n",
            "Collecting tf-estimator-nightly==2.8.0.dev2021122109\n",
            "  Downloading tf_estimator_nightly-2.8.0.dev2021122109-py2.py3-none-any.whl (462 kB)\n",
            "\u001b[2K     \u001b[90m━━━━━━━━━━━━━━━━━━━━━━━━━━━━━━━━━━━━━━━\u001b[0m \u001b[32m462.5/462.5 KB\u001b[0m \u001b[31m8.9 MB/s\u001b[0m eta \u001b[36m0:00:00\u001b[0m\n",
            "\u001b[?25hRequirement already satisfied: setuptools in /usr/local/lib/python3.7/dist-packages (from tensorflow) (57.4.0)\n",
            "Requirement already satisfied: keras-preprocessing>=1.1.1 in /usr/local/lib/python3.7/dist-packages (from tensorflow) (1.1.2)\n",
            "Requirement already satisfied: opt-einsum>=2.3.2 in /usr/local/lib/python3.7/dist-packages (from tensorflow) (3.3.0)\n",
            "Requirement already satisfied: keras<2.9,>=2.8.0rc0 in /usr/local/lib/python3.7/dist-packages (from tensorflow) (2.8.0)\n",
            "Requirement already satisfied: flatbuffers>=1.12 in /usr/local/lib/python3.7/dist-packages (from tensorflow) (2.0)\n",
            "Requirement already satisfied: protobuf>=3.9.2 in /usr/local/lib/python3.7/dist-packages (from tensorflow) (3.17.3)\n",
            "Requirement already satisfied: grpcio<2.0,>=1.24.3 in /usr/local/lib/python3.7/dist-packages (from tensorflow) (1.44.0)\n",
            "Requirement already satisfied: libclang>=9.0.1 in /usr/local/lib/python3.7/dist-packages (from tensorflow) (13.0.0)\n",
            "Requirement already satisfied: gast>=0.2.1 in /usr/local/lib/python3.7/dist-packages (from tensorflow) (0.5.3)\n",
            "Requirement already satisfied: tensorboard<2.9,>=2.8 in /usr/local/lib/python3.7/dist-packages (from tensorflow) (2.8.0)\n",
            "Requirement already satisfied: wheel<1.0,>=0.23.0 in /usr/local/lib/python3.7/dist-packages (from astunparse>=1.6.0->tensorflow) (0.37.1)\n",
            "Requirement already satisfied: cached-property in /usr/local/lib/python3.7/dist-packages (from h5py>=2.9.0->tensorflow) (1.5.2)\n",
            "Requirement already satisfied: markdown>=2.6.8 in /usr/local/lib/python3.7/dist-packages (from tensorboard<2.9,>=2.8->tensorflow) (3.3.6)\n",
            "Requirement already satisfied: tensorboard-data-server<0.7.0,>=0.6.0 in /usr/local/lib/python3.7/dist-packages (from tensorboard<2.9,>=2.8->tensorflow) (0.6.1)\n",
            "Requirement already satisfied: werkzeug>=0.11.15 in /usr/local/lib/python3.7/dist-packages (from tensorboard<2.9,>=2.8->tensorflow) (1.0.1)\n",
            "Requirement already satisfied: google-auth-oauthlib<0.5,>=0.4.1 in /usr/local/lib/python3.7/dist-packages (from tensorboard<2.9,>=2.8->tensorflow) (0.4.6)\n",
            "Requirement already satisfied: tensorboard-plugin-wit>=1.6.0 in /usr/local/lib/python3.7/dist-packages (from tensorboard<2.9,>=2.8->tensorflow) (1.8.1)\n",
            "Requirement already satisfied: google-auth<3,>=1.6.3 in /usr/local/lib/python3.7/dist-packages (from tensorboard<2.9,>=2.8->tensorflow) (1.35.0)\n",
            "Requirement already satisfied: requests<3,>=2.21.0 in /usr/local/lib/python3.7/dist-packages (from tensorboard<2.9,>=2.8->tensorflow) (2.23.0)\n",
            "Requirement already satisfied: cachetools<5.0,>=2.0.0 in /usr/local/lib/python3.7/dist-packages (from google-auth<3,>=1.6.3->tensorboard<2.9,>=2.8->tensorflow) (4.2.4)\n",
            "Requirement already satisfied: rsa<5,>=3.1.4 in /usr/local/lib/python3.7/dist-packages (from google-auth<3,>=1.6.3->tensorboard<2.9,>=2.8->tensorflow) (4.8)\n",
            "Requirement already satisfied: pyasn1-modules>=0.2.1 in /usr/local/lib/python3.7/dist-packages (from google-auth<3,>=1.6.3->tensorboard<2.9,>=2.8->tensorflow) (0.2.8)\n",
            "Requirement already satisfied: requests-oauthlib>=0.7.0 in /usr/local/lib/python3.7/dist-packages (from google-auth-oauthlib<0.5,>=0.4.1->tensorboard<2.9,>=2.8->tensorflow) (1.3.1)\n",
            "Requirement already satisfied: importlib-metadata>=4.4 in /usr/local/lib/python3.7/dist-packages (from markdown>=2.6.8->tensorboard<2.9,>=2.8->tensorflow) (4.11.3)\n",
            "Requirement already satisfied: certifi>=2017.4.17 in /usr/local/lib/python3.7/dist-packages (from requests<3,>=2.21.0->tensorboard<2.9,>=2.8->tensorflow) (2021.10.8)\n",
            "Requirement already satisfied: urllib3!=1.25.0,!=1.25.1,<1.26,>=1.21.1 in /usr/local/lib/python3.7/dist-packages (from requests<3,>=2.21.0->tensorboard<2.9,>=2.8->tensorflow) (1.24.3)\n",
            "Requirement already satisfied: chardet<4,>=3.0.2 in /usr/local/lib/python3.7/dist-packages (from requests<3,>=2.21.0->tensorboard<2.9,>=2.8->tensorflow) (3.0.4)\n",
            "Requirement already satisfied: idna<3,>=2.5 in /usr/local/lib/python3.7/dist-packages (from requests<3,>=2.21.0->tensorboard<2.9,>=2.8->tensorflow) (2.10)\n",
            "Requirement already satisfied: zipp>=0.5 in /usr/local/lib/python3.7/dist-packages (from importlib-metadata>=4.4->markdown>=2.6.8->tensorboard<2.9,>=2.8->tensorflow) (3.7.0)\n",
            "Requirement already satisfied: pyasn1<0.5.0,>=0.4.6 in /usr/local/lib/python3.7/dist-packages (from pyasn1-modules>=0.2.1->google-auth<3,>=1.6.3->tensorboard<2.9,>=2.8->tensorflow) (0.4.8)\n",
            "Requirement already satisfied: oauthlib>=3.0.0 in /usr/local/lib/python3.7/dist-packages (from requests-oauthlib>=0.7.0->google-auth-oauthlib<0.5,>=0.4.1->tensorboard<2.9,>=2.8->tensorflow) (3.2.0)\n",
            "Installing collected packages: tf-estimator-nightly\n",
            "Successfully installed tf-estimator-nightly-2.8.0.dev2021122109\n",
            "\u001b[33mWARNING: Running pip as the 'root' user can result in broken permissions and conflicting behaviour with the system package manager. It is recommended to use a virtual environment instead: https://pip.pypa.io/warnings/venv\u001b[0m\u001b[33m\n",
            "\u001b[0mCollecting tfds-nightly\n",
            "  Downloading tfds_nightly-4.5.2.dev202204120045-py3-none-any.whl (4.3 MB)\n",
            "\u001b[2K     \u001b[90m━━━━━━━━━━━━━━━━━━━━━━━━━━━━━━━━━━━━━━━━\u001b[0m \u001b[32m4.3/4.3 MB\u001b[0m \u001b[31m37.4 MB/s\u001b[0m eta \u001b[36m0:00:00\u001b[0m\n",
            "\u001b[?25hCollecting toml\n",
            "  Downloading toml-0.10.2-py2.py3-none-any.whl (16 kB)\n",
            "Requirement already satisfied: promise in /usr/local/lib/python3.7/dist-packages (from tfds-nightly) (2.3)\n",
            "Requirement already satisfied: six in /usr/local/lib/python3.7/dist-packages (from tfds-nightly) (1.15.0)\n",
            "Requirement already satisfied: typing-extensions in /usr/local/lib/python3.7/dist-packages (from tfds-nightly) (3.10.0.2)\n",
            "Requirement already satisfied: dill in /usr/local/lib/python3.7/dist-packages (from tfds-nightly) (0.3.4)\n",
            "Requirement already satisfied: requests>=2.19.0 in /usr/local/lib/python3.7/dist-packages (from tfds-nightly) (2.23.0)\n",
            "Collecting etils[epath-no-tf]\n",
            "  Downloading etils-0.5.0-py3-none-any.whl (86 kB)\n",
            "\u001b[2K     \u001b[90m━━━━━━━━━━━━━━━━━━━━━━━━━━━━━━━━━━━━━━━━\u001b[0m \u001b[32m86.3/86.3 KB\u001b[0m \u001b[31m10.2 MB/s\u001b[0m eta \u001b[36m0:00:00\u001b[0m\n",
            "\u001b[?25hRequirement already satisfied: numpy in /usr/local/lib/python3.7/dist-packages (from tfds-nightly) (1.21.5)\n",
            "Requirement already satisfied: tensorflow-metadata in /usr/local/lib/python3.7/dist-packages (from tfds-nightly) (1.7.0)\n",
            "Requirement already satisfied: absl-py in /usr/local/lib/python3.7/dist-packages (from tfds-nightly) (1.0.0)\n",
            "Requirement already satisfied: protobuf>=3.12.2 in /usr/local/lib/python3.7/dist-packages (from tfds-nightly) (3.17.3)\n",
            "Requirement already satisfied: termcolor in /usr/local/lib/python3.7/dist-packages (from tfds-nightly) (1.1.0)\n",
            "Requirement already satisfied: tqdm in /usr/local/lib/python3.7/dist-packages (from tfds-nightly) (4.63.0)\n",
            "Requirement already satisfied: importlib-resources in /usr/local/lib/python3.7/dist-packages (from tfds-nightly) (5.4.0)\n",
            "Requirement already satisfied: urllib3!=1.25.0,!=1.25.1,<1.26,>=1.21.1 in /usr/local/lib/python3.7/dist-packages (from requests>=2.19.0->tfds-nightly) (1.24.3)\n",
            "Requirement already satisfied: chardet<4,>=3.0.2 in /usr/local/lib/python3.7/dist-packages (from requests>=2.19.0->tfds-nightly) (3.0.4)\n",
            "Requirement already satisfied: idna<3,>=2.5 in /usr/local/lib/python3.7/dist-packages (from requests>=2.19.0->tfds-nightly) (2.10)\n",
            "Requirement already satisfied: certifi>=2017.4.17 in /usr/local/lib/python3.7/dist-packages (from requests>=2.19.0->tfds-nightly) (2021.10.8)\n",
            "Requirement already satisfied: zipp in /usr/local/lib/python3.7/dist-packages (from etils[epath-no-tf]->tfds-nightly) (3.7.0)\n",
            "Requirement already satisfied: googleapis-common-protos<2,>=1.52.0 in /usr/local/lib/python3.7/dist-packages (from tensorflow-metadata->tfds-nightly) (1.56.0)\n",
            "Installing collected packages: toml, etils, tfds-nightly\n",
            "Successfully installed etils-0.5.0 tfds-nightly-4.5.2.dev202204120045 toml-0.10.2\n",
            "\u001b[33mWARNING: Running pip as the 'root' user can result in broken permissions and conflicting behaviour with the system package manager. It is recommended to use a virtual environment instead: https://pip.pypa.io/warnings/venv\u001b[0m\u001b[33m\n",
            "\u001b[0m"
          ]
        }
      ],
      "source": [
        "!pip install --upgrade pip\n",
        "!pip install tensorflow\n",
        "!pip install tfds-nightly"
      ]
    },
    {
      "cell_type": "markdown",
      "metadata": {
        "id": "p2wqyg-7mbfV"
      },
      "source": [
        "### Install the Sequence Projection Models package"
      ]
    },
    {
      "cell_type": "markdown",
      "metadata": {
        "id": "1JRZS_aSeINK"
      },
      "source": [
        "Install Bazel: This will allow us to build custom TensorFlow ops used by the PRADO architecture."
      ]
    },
    {
      "cell_type": "code",
      "execution_count": null,
      "metadata": {
        "colab": {
          "base_uri": "https://localhost:8080/"
        },
        "id": "N00X4P229Ppm",
        "outputId": "b873bc98-6985-4611-ac27-50ed6f08ee32"
      },
      "outputs": [
        {
          "output_type": "stream",
          "name": "stdout",
          "text": [
            "Reading package lists... Done\n",
            "Building dependency tree       \n",
            "Reading state information... Done\n",
            "curl is already the newest version (7.58.0-2ubuntu3.16).\n",
            "gnupg is already the newest version (2.2.4-1ubuntu1.4).\n",
            "gnupg set to manually installed.\n",
            "0 upgraded, 0 newly installed, 0 to remove and 39 not upgraded.\n",
            "  % Total    % Received % Xferd  Average Speed   Time    Time     Time  Current\n",
            "                                 Dload  Upload   Total   Spent    Left  Speed\n",
            "100  3199  100  3199    0     0  12644      0 --:--:-- --:--:-- --:--:-- 12594\n",
            "OK\n",
            "deb [arch=amd64] https://storage.googleapis.com/bazel-apt stable jdk1.8\n",
            "Get:1 https://cloud.r-project.org/bin/linux/ubuntu bionic-cran40/ InRelease [3,626 B]\n",
            "Get:2 https://storage.googleapis.com/bazel-apt stable InRelease [2,256 B]\n",
            "Ign:3 https://developer.download.nvidia.com/compute/cuda/repos/ubuntu1804/x86_64  InRelease\n",
            "Get:4 http://security.ubuntu.com/ubuntu bionic-security InRelease [88.7 kB]\n",
            "Ign:5 https://developer.download.nvidia.com/compute/machine-learning/repos/ubuntu1804/x86_64  InRelease\n",
            "Hit:6 https://developer.download.nvidia.com/compute/cuda/repos/ubuntu1804/x86_64  Release\n",
            "Hit:7 https://developer.download.nvidia.com/compute/machine-learning/repos/ubuntu1804/x86_64  Release\n",
            "Get:8 https://storage.googleapis.com/bazel-apt stable/jdk1.8 amd64 Packages [7,358 B]\n",
            "Get:9 http://ppa.launchpad.net/c2d4u.team/c2d4u4.0+/ubuntu bionic InRelease [15.9 kB]\n",
            "Hit:12 http://archive.ubuntu.com/ubuntu bionic InRelease\n",
            "Get:13 http://archive.ubuntu.com/ubuntu bionic-updates InRelease [88.7 kB]\n",
            "Get:14 http://security.ubuntu.com/ubuntu bionic-security/main amd64 Packages [2,694 kB]\n",
            "Hit:15 http://ppa.launchpad.net/cran/libgit2/ubuntu bionic InRelease\n",
            "Get:16 http://archive.ubuntu.com/ubuntu bionic-backports InRelease [74.6 kB]\n",
            "Get:17 http://ppa.launchpad.net/deadsnakes/ppa/ubuntu bionic InRelease [15.9 kB]\n",
            "Get:18 http://archive.ubuntu.com/ubuntu bionic-updates/main amd64 Packages [3,133 kB]\n",
            "Hit:19 http://ppa.launchpad.net/graphics-drivers/ppa/ubuntu bionic InRelease\n",
            "Get:20 http://ppa.launchpad.net/c2d4u.team/c2d4u4.0+/ubuntu bionic/main Sources [1,946 kB]\n",
            "Get:21 http://ppa.launchpad.net/c2d4u.team/c2d4u4.0+/ubuntu bionic/main amd64 Packages [995 kB]\n",
            "Get:22 http://ppa.launchpad.net/deadsnakes/ppa/ubuntu bionic/main amd64 Packages [45.3 kB]\n",
            "Fetched 9,111 kB in 8s (1,134 kB/s)\n",
            "Reading package lists... Done\n",
            "Building dependency tree       \n",
            "Reading state information... Done\n",
            "40 packages can be upgraded. Run 'apt list --upgradable' to see them.\n",
            "Reading package lists... Done\n",
            "Building dependency tree       \n",
            "Reading state information... Done\n",
            "Suggested packages:\n",
            "  bash-completion\n",
            "The following NEW packages will be installed:\n",
            "  bazel\n",
            "0 upgraded, 1 newly installed, 0 to remove and 40 not upgraded.\n",
            "Need to get 48.5 MB of archives.\n",
            "After this operation, 0 B of additional disk space will be used.\n",
            "Get:1 https://storage.googleapis.com/bazel-apt stable/jdk1.8 amd64 bazel amd64 5.1.1 [48.5 MB]\n",
            "Fetched 48.5 MB in 2s (20.6 MB/s)\n",
            "debconf: unable to initialize frontend: Dialog\n",
            "debconf: (No usable dialog-like program is installed, so the dialog based frontend cannot be used. at /usr/share/perl5/Debconf/FrontEnd/Dialog.pm line 76, <> line 1.)\n",
            "debconf: falling back to frontend: Readline\n",
            "debconf: unable to initialize frontend: Readline\n",
            "debconf: (This frontend requires a controlling tty.)\n",
            "debconf: falling back to frontend: Teletype\n",
            "dpkg-preconfigure: unable to re-open stdin: \n",
            "Selecting previously unselected package bazel.\n",
            "(Reading database ... 155455 files and directories currently installed.)\n",
            "Preparing to unpack .../archives/bazel_5.1.1_amd64.deb ...\n",
            "Unpacking bazel (5.1.1) ...\n",
            "Setting up bazel (5.1.1) ...\n"
          ]
        }
      ],
      "source": [
        "!sudo apt install curl gnupg\n",
        "!curl https://bazel.build/bazel-release.pub.gpg | sudo apt-key add -\n",
        "!echo \"deb [arch=amd64] https://storage.googleapis.com/bazel-apt stable jdk1.8\" | sudo tee /etc/apt/sources.list.d/bazel.list\n",
        "!sudo apt update\n",
        "!sudo apt install bazel"
      ]
    },
    {
      "cell_type": "markdown",
      "metadata": {
        "id": "9JeSDpZFelL5"
      },
      "source": [
        "Install the library:\n",
        "* `seq_flow_lite` includes the PRADO architecture and custom ops.\n",
        "* We download the code from GitHub, and then build and install the TF and TFLite ops used by the model.\n"
      ]
    },
    {
      "cell_type": "code",
      "execution_count": null,
      "metadata": {
        "id": "vfj8OCkkPqXe"
      },
      "outputs": [],
      "source": [
        "#only run if you're rerunning cells below\n",
        "!rm -rf tensorflow/models\n",
        "!rm -rf models"
      ]
    },
    {
      "cell_type": "code",
      "execution_count": null,
      "metadata": {
        "colab": {
          "base_uri": "https://localhost:8080/"
        },
        "id": "mktlCYcd9iLG",
        "outputId": "15a896b9-1b3d-48eb-a774-91819fd9c5d9"
      },
      "outputs": [
        {
          "output_type": "stream",
          "name": "stdout",
          "text": [
            "Cloning into 'models'...\n",
            "warning: redirecting to https://github.com/tensorflow/models.git/\n",
            "remote: Enumerating objects: 71858, done.\u001b[K\n",
            "remote: Counting objects: 100% (14/14), done.\u001b[K\n",
            "remote: Compressing objects: 100% (13/13), done.\u001b[K\n",
            "remote: Total 71858 (delta 1), reused 12 (delta 1), pack-reused 71844\u001b[K\n",
            "Receiving objects: 100% (71858/71858), 578.91 MiB | 11.76 MiB/s, done.\n",
            "Resolving deltas: 100% (50825/50825), done.\n",
            "Processing ./models/research/seq_flow_lite\n",
            "  Preparing metadata (setup.py) ... \u001b[?25l\u001b[?25hdone\n",
            "Building wheels for collected packages: seq-flow-lite\n",
            "  Building wheel for seq-flow-lite (setup.py) ... \u001b[?25l\u001b[?25hdone\n",
            "  Created wheel for seq-flow-lite: filename=seq_flow_lite-0.1-py3-none-any.whl size=772854 sha256=f8034805d9e604a6270630412794fcd1a03ab274c9c542015a941278fcf91a76\n",
            "  Stored in directory: /tmp/pip-ephem-wheel-cache-w1fb4ncm/wheels/26/bb/63/aa462b33ec699deb2e67d7ff95cf71cd0f2838dcf19f49f5d5\n",
            "Successfully built seq-flow-lite\n",
            "Installing collected packages: seq-flow-lite\n",
            "Successfully installed seq-flow-lite-0.1\n",
            "\u001b[33mWARNING: Running pip as the 'root' user can result in broken permissions and conflicting behaviour with the system package manager. It is recommended to use a virtual environment instead: https://pip.pypa.io/warnings/venv\u001b[0m\u001b[33m\n",
            "\u001b[0m"
          ]
        }
      ],
      "source": [
        "!git clone https://www.github.com/tensorflow/models\n",
        "!models/research/seq_flow_lite/demo/colab/setup_workspace.sh\n",
        "!pip install models/research/seq_flow_lite\n",
        "!rm -rf models/research/seq_flow_lite/tf_ops\n",
        "!rm -rf models/research/seq_flow_lite/tflite_ops"
      ]
    },
    {
      "cell_type": "markdown",
      "metadata": {
        "id": "rP8iKa4Il4mL"
      },
      "source": [
        "## Training an Emotion Prediction Model\n",
        "\n",
        "* First, we load the GoEmotions data from TFDS.\n",
        "* Next, we prepare the PRADO model for training. We set up the model configuration, including hyperparameters and labels. We also prepare the dataset, which involves projecting the inputs from the dataset, and passing the projections to the model.  This is needed because a model training on TPU can not handle string inputs.\n",
        "* Finally, we train and evaluate the model and produce model-level and per-label metrics."
      ]
    },
    {
      "cell_type": "markdown",
      "metadata": {
        "id": "YtvR40K8K0Bn"
      },
      "source": [
        "***Start here on Runtime reset***, once the packages above are properly installed:\n",
        "* Go to the `seq_flow_lite` directory."
      ]
    },
    {
      "cell_type": "code",
      "execution_count": null,
      "metadata": {
        "colab": {
          "base_uri": "https://localhost:8080/"
        },
        "id": "ImEejssVKvxR",
        "outputId": "7023ddf4-5efb-48a1-ee0d-62c6cbedc9b6"
      },
      "outputs": [
        {
          "output_type": "stream",
          "name": "stdout",
          "text": [
            "/content/models/research/seq_flow_lite\n"
          ]
        }
      ],
      "source": [
        "%cd models/research/seq_flow_lite"
      ]
    },
    {
      "cell_type": "markdown",
      "metadata": {
        "id": "uwSPqHXAeQ6H"
      },
      "source": [
        "* Import the Tensorflow and Tensorflow Dataset libraries."
      ]
    },
    {
      "cell_type": "code",
      "execution_count": null,
      "metadata": {
        "id": "kc4y4n80eL_b"
      },
      "outputs": [],
      "source": [
        "import tensorflow as tf\n",
        "import tensorflow_datasets as tfds\n",
        "from tensorflow import keras\n",
        "from keras import layers\n",
        "import pandas as pd\n",
        "import io"
      ]
    },
    {
      "cell_type": "markdown",
      "metadata": {
        "id": "j-CtG3cagPgl"
      },
      "source": [
        "### The data: GoEmotions\n",
        "In this tutorial, we use the [GoEmotions dataset from TFDS](https://www.tensorflow.org/datasets/catalog/goemotions).\n",
        "\n",
        "GoEmotions is a corpus of comments extracted from Reddit, with human annotations to 27 emotion categories or Neutral.\n",
        "\n",
        "*   Number of labels: 27.\n",
        "*   Size of training dataset: 43,410.\n",
        "*   Size of evaluation dataset: 5,427.\n",
        "*   Maximum sequence length in training and evaluation datasets: 30.\n",
        "\n",
        "The emotion categories are admiration, amusement, anger, annoyance, approval, caring, confusion, curiosity, desire, disappointment, disapproval, disgust, embarrassment, excitement, fear, gratitude, grief, joy, love, nervousness, optimism, pride, realization, relief, remorse, sadness, surprise.\n"
      ]
    },
    {
      "cell_type": "markdown",
      "metadata": {
        "id": "Bvsn_s3S0SAt"
      },
      "source": [
        "Load the data from TFDS:"
      ]
    },
    {
      "cell_type": "code",
      "execution_count": null,
      "metadata": {
        "id": "BopEwM8pEHmQ"
      },
      "outputs": [],
      "source": [
        "LABELS = [\n",
        "    'admiration',\n",
        "    'amusement',\n",
        "    'anger',\n",
        "    'annoyance',\n",
        "    'approval',\n",
        "    'caring',\n",
        "    'confusion',\n",
        "    'curiosity',\n",
        "    'desire',\n",
        "    'disappointment',\n",
        "    'disapproval',\n",
        "    'disgust',\n",
        "    'embarrassment',\n",
        "    'excitement',\n",
        "    'fear',\n",
        "    'gratitude',\n",
        "    'grief',\n",
        "    'joy',\n",
        "    'love',\n",
        "    'nervousness',\n",
        "    'optimism',\n",
        "    'pride',\n",
        "    'realization',\n",
        "    'relief',\n",
        "    'remorse',\n",
        "    'sadness',\n",
        "    'surprise',\n",
        "    'neutral',\n",
        "]"
      ]
    },
    {
      "cell_type": "code",
      "execution_count": null,
      "metadata": {
        "colab": {
          "base_uri": "https://localhost:8080/",
          "height": 322,
          "referenced_widgets": [
            "f46be4652f2b46e2866c29ca74be6af0",
            "b7e95cd8f2c44952b2f9f5e528bcedb8",
            "01d9740914664294bdc2f7abb7363323",
            "421b88f7dc694be5afdbfa8af3e0081f",
            "f1311e2bdc6c49b2838c2ea0c945dbdc",
            "8c2de234efad47938f47510f6d9e3c84",
            "aed576527a07482899abc5c9af530b36",
            "e7ff19cd8d5245bcb9396de5bb49a69c",
            "5731efb3735640c1a5935903577d338d",
            "ec1b9eddd6b246419c6022d52feb91d5",
            "983df59e01c74704853c1473b6844eee",
            "634dfa92444a481d88ff4aeb8b8ee220",
            "519ca538f99f4bd986decfd65a4f74e6",
            "db92a5abcdc548cdacc2a1b45a945c28",
            "2b0038dd2a5b46a9bf852c4efceff63a",
            "d4161bc42f5248dfb9d796b814a0b8d9",
            "d26c0608af864c5089bd0b0c01f148ff",
            "f13c279bd0b34f72a08acbd88889f03c",
            "3bd5720a59ad4f39b1838456880c87d9",
            "d1503fa7c63c4ea3bcb68764ed452925",
            "3324e1e9f8d445e5a32da7335eb37e26",
            "0a238ade089c408b843e86dfae53b8fc",
            "d6d734534bb7412b97d8ef2f310d6f3f",
            "5d2f6d47713947b8a59954faa8bc1b9c",
            "30b8d4d7bd634e63a2adf37545bf3683",
            "b00d735519cd42239137fd481d81fa75",
            "75847ff94f8f4b6193cf13943436f783",
            "677d2c4e87b54b5fac894015a2862599",
            "9fa32a111f9540feaf0fb1b330b9d6e3",
            "20e1ee350da845d681e7d633f3bf7558",
            "d5e1818d357f47ca88c44e6949a8f1f7",
            "3fc5fbbcf1894cf5b3b95b407eab45ce",
            "3545a1bb560a4dc38cef688879db39bd",
            "301df2d8151b464b9671bb0cf5512d2f",
            "ea68363dc5c94292a919444a9bd886ab",
            "58ccf5557497498ba987bc664cb7504e",
            "0e918639c33d48b3a1cad326fe8c74f0",
            "d428a7a3c659495fb494ce58ee3caf21",
            "e007e9a6b0f049b9b7526a64fcc37c57",
            "b7df5722d58b4290a42daed71297b318",
            "6264b42203964b518b65eb3a36737a79",
            "f8ee01ea27fc4dda96b32607469b4718",
            "a557b7ba13084e6ca1f4d2ea0379765b",
            "14835fa947d74143a9ec4115b00d0251",
            "6ac72ee26de64c518f47cddb79d7e22a",
            "14328d74fc644945a14985cfa1347d62",
            "6bf57c8f52544331822e276a3b806f26",
            "aebd95c99b824ba99fa4fd33e6b6972a",
            "00b69db44e5b4d958405b99f54189490",
            "da1b1acf845d42acb71fdd2b87840f4c",
            "9fed05c85a1b45698c94922b4c9a4d59",
            "c51e9a4ce03a4a9d8c82eb9588444642",
            "d13341f5a4ef4aed8f8c68a350cb6f12",
            "f0e06246abf445a0a8c273f7c23229e8",
            "1a9890682aad404fa67aa06fea63e58b",
            "a8a67e90e3d94af899c5d0dc5691b9d2",
            "9d4cd322e6e5499788fb1c856104293c",
            "c53967ca466145cfbf242891c5e5dc93",
            "b8db85c1a4254279bb207d41859c1b96",
            "9deb7ce8b2dc4733b421d12431238e56",
            "83c6198093a9499a825883012081026a",
            "e0432fce35b04624885efa121c38572b",
            "242fbe30270a49b79bcc7c3c0b5a398b",
            "b3cdc27a366b4e87bee95167aff0b70a",
            "5dfb3b3d7a0e408fa07273de0fe21d0b",
            "8c9ab4645ee24c12b6c73bc881b9bec1",
            "23b03c467258492cab5b2ddb80b4d3de",
            "ea220738c17b4368871e766d20885562",
            "882c2f19fc78420799eedfe5b86be596",
            "86c4fdc086f042ca84e06f91cd2e8dd8",
            "92c8d7c61c534f089114d54de0907328",
            "2bcb5d4dab7f41eea4eb7b9260beadca",
            "b3a3218fffcc478c89e2de11fb939830",
            "2660b2ad15274abdab76efc548d79b81",
            "92e384cb408448b9bf3f6adc2d4544e4",
            "230f9ee158154ffb9625d4025c74b9b6",
            "b45db35de9554c4abfa81cf03e830db6",
            "fce549909b434b9684f6fd793b898121",
            "21209dfb570d48b58ad28b818ef4064b",
            "df13f7fc8098449eafd7606b0079c6b6",
            "8f16645c2e994217b3181a76e6fa6ab0",
            "e11e6b5ebf404b57b55b7ab764e3ec0f",
            "f4f1d152a78f4883baabd625c99f7dcf",
            "d41903ccfe7243bc8b26ed678c89ca93",
            "df6719544588479d8dacac9d7ff41e58",
            "97c3932648b84f8795030512f57fa82d",
            "b8e3ec65db08478484333cee24441efc",
            "cd723fc3f89b45f38519bc006e4b8804"
          ]
        },
        "id": "KtTLwtEqwcR2",
        "outputId": "2e38e786-549d-40fe-bde6-aa4c16fd2f38"
      },
      "outputs": [
        {
          "output_type": "stream",
          "name": "stdout",
          "text": [
            "\u001b[1mDownloading and preparing dataset goemotions/0.1.0 (download: 4.19 MiB, generated: 32.25 MiB, total: 36.44 MiB) to /root/tensorflow_datasets/goemotions/0.1.0...\u001b[0m\n"
          ]
        },
        {
          "output_type": "display_data",
          "data": {
            "text/plain": [
              "Dl Completed...: 0 url [00:00, ? url/s]"
            ],
            "application/vnd.jupyter.widget-view+json": {
              "version_major": 2,
              "version_minor": 0,
              "model_id": "f46be4652f2b46e2866c29ca74be6af0"
            }
          },
          "metadata": {}
        },
        {
          "output_type": "display_data",
          "data": {
            "text/plain": [
              "Dl Size...: 0 MiB [00:00, ? MiB/s]"
            ],
            "application/vnd.jupyter.widget-view+json": {
              "version_major": 2,
              "version_minor": 0,
              "model_id": "634dfa92444a481d88ff4aeb8b8ee220"
            }
          },
          "metadata": {}
        },
        {
          "output_type": "stream",
          "name": "stdout",
          "text": [
            "\n",
            "\n"
          ]
        },
        {
          "output_type": "display_data",
          "data": {
            "text/plain": [
              "0 examples [00:00, ? examples/s]"
            ],
            "application/vnd.jupyter.widget-view+json": {
              "version_major": 2,
              "version_minor": 0,
              "model_id": "d6d734534bb7412b97d8ef2f310d6f3f"
            }
          },
          "metadata": {}
        },
        {
          "output_type": "stream",
          "name": "stdout",
          "text": [
            "Shuffling and writing examples to /root/tensorflow_datasets/goemotions/0.1.0.incompleteTTADI1/goemotions-train.tfrecord\n"
          ]
        },
        {
          "output_type": "display_data",
          "data": {
            "text/plain": [
              "  0%|          | 0/43410 [00:00<?, ? examples/s]"
            ],
            "application/vnd.jupyter.widget-view+json": {
              "version_major": 2,
              "version_minor": 0,
              "model_id": "301df2d8151b464b9671bb0cf5512d2f"
            }
          },
          "metadata": {}
        },
        {
          "output_type": "display_data",
          "data": {
            "text/plain": [
              "0 examples [00:00, ? examples/s]"
            ],
            "application/vnd.jupyter.widget-view+json": {
              "version_major": 2,
              "version_minor": 0,
              "model_id": "6ac72ee26de64c518f47cddb79d7e22a"
            }
          },
          "metadata": {}
        },
        {
          "output_type": "stream",
          "name": "stdout",
          "text": [
            "Shuffling and writing examples to /root/tensorflow_datasets/goemotions/0.1.0.incompleteTTADI1/goemotions-validation.tfrecord\n"
          ]
        },
        {
          "output_type": "display_data",
          "data": {
            "text/plain": [
              "  0%|          | 0/5426 [00:00<?, ? examples/s]"
            ],
            "application/vnd.jupyter.widget-view+json": {
              "version_major": 2,
              "version_minor": 0,
              "model_id": "a8a67e90e3d94af899c5d0dc5691b9d2"
            }
          },
          "metadata": {}
        },
        {
          "output_type": "display_data",
          "data": {
            "text/plain": [
              "0 examples [00:00, ? examples/s]"
            ],
            "application/vnd.jupyter.widget-view+json": {
              "version_major": 2,
              "version_minor": 0,
              "model_id": "23b03c467258492cab5b2ddb80b4d3de"
            }
          },
          "metadata": {}
        },
        {
          "output_type": "stream",
          "name": "stdout",
          "text": [
            "Shuffling and writing examples to /root/tensorflow_datasets/goemotions/0.1.0.incompleteTTADI1/goemotions-test.tfrecord\n"
          ]
        },
        {
          "output_type": "display_data",
          "data": {
            "text/plain": [
              "  0%|          | 0/5427 [00:00<?, ? examples/s]"
            ],
            "application/vnd.jupyter.widget-view+json": {
              "version_major": 2,
              "version_minor": 0,
              "model_id": "fce549909b434b9684f6fd793b898121"
            }
          },
          "metadata": {}
        },
        {
          "output_type": "stream",
          "name": "stdout",
          "text": [
            "\u001b[1mDataset goemotions downloaded and prepared to /root/tensorflow_datasets/goemotions/0.1.0. Subsequent calls will reuse this data.\u001b[0m\n"
          ]
        }
      ],
      "source": [
        "#only run this if loading in the goemotions data\n",
        "ds = tfds.load('goemotions', split='train')"
      ]
    },
    {
      "cell_type": "code",
      "execution_count": null,
      "metadata": {
        "id": "2Anm4MTp4RwM"
      },
      "outputs": [],
      "source": [
        "assert isinstance(ds, tf.data.Dataset)"
      ]
    },
    {
      "cell_type": "code",
      "execution_count": null,
      "metadata": {
        "colab": {
          "base_uri": "https://localhost:8080/"
        },
        "id": "VPBLVcP872yg",
        "outputId": "ae69b05e-95bf-4720-dafa-239903864cbb"
      },
      "outputs": [
        {
          "output_type": "stream",
          "name": "stdout",
          "text": [
            "<PrefetchDataset element_spec={'admiration': TensorSpec(shape=(), dtype=tf.bool, name=None), 'amusement': TensorSpec(shape=(), dtype=tf.bool, name=None), 'anger': TensorSpec(shape=(), dtype=tf.bool, name=None), 'annoyance': TensorSpec(shape=(), dtype=tf.bool, name=None), 'approval': TensorSpec(shape=(), dtype=tf.bool, name=None), 'caring': TensorSpec(shape=(), dtype=tf.bool, name=None), 'comment_text': TensorSpec(shape=(), dtype=tf.string, name=None), 'confusion': TensorSpec(shape=(), dtype=tf.bool, name=None), 'curiosity': TensorSpec(shape=(), dtype=tf.bool, name=None), 'desire': TensorSpec(shape=(), dtype=tf.bool, name=None), 'disappointment': TensorSpec(shape=(), dtype=tf.bool, name=None), 'disapproval': TensorSpec(shape=(), dtype=tf.bool, name=None), 'disgust': TensorSpec(shape=(), dtype=tf.bool, name=None), 'embarrassment': TensorSpec(shape=(), dtype=tf.bool, name=None), 'excitement': TensorSpec(shape=(), dtype=tf.bool, name=None), 'fear': TensorSpec(shape=(), dtype=tf.bool, name=None), 'gratitude': TensorSpec(shape=(), dtype=tf.bool, name=None), 'grief': TensorSpec(shape=(), dtype=tf.bool, name=None), 'joy': TensorSpec(shape=(), dtype=tf.bool, name=None), 'love': TensorSpec(shape=(), dtype=tf.bool, name=None), 'nervousness': TensorSpec(shape=(), dtype=tf.bool, name=None), 'neutral': TensorSpec(shape=(), dtype=tf.bool, name=None), 'optimism': TensorSpec(shape=(), dtype=tf.bool, name=None), 'pride': TensorSpec(shape=(), dtype=tf.bool, name=None), 'realization': TensorSpec(shape=(), dtype=tf.bool, name=None), 'relief': TensorSpec(shape=(), dtype=tf.bool, name=None), 'remorse': TensorSpec(shape=(), dtype=tf.bool, name=None), 'sadness': TensorSpec(shape=(), dtype=tf.bool, name=None), 'surprise': TensorSpec(shape=(), dtype=tf.bool, name=None)}>\n"
          ]
        }
      ],
      "source": [
        "print(ds)"
      ]
    },
    {
      "cell_type": "markdown",
      "metadata": {
        "id": "kPqMi-j06j9k"
      },
      "source": [
        "Load in Spotify data for later use"
      ]
    },
    {
      "cell_type": "code",
      "execution_count": null,
      "metadata": {
        "colab": {
          "base_uri": "https://localhost:8080/"
        },
        "id": "kNQdC8r4yqiz",
        "outputId": "44dc9c42-852c-4805-b354-dd645fcbc8cd"
      },
      "outputs": [
        {
          "output_type": "stream",
          "name": "stdout",
          "text": [
            "Mounted at /content/drive\n"
          ]
        }
      ],
      "source": [
        "from google.colab import drive\n",
        "drive.mount('/content/drive')"
      ]
    },
    {
      "cell_type": "code",
      "execution_count": null,
      "metadata": {
        "id": "zE1VzjHq6nb7"
      },
      "outputs": [],
      "source": [
        "sp_tr = pd.read_csv('/content/drive/MyDrive/266/strat_training.csv')\n",
        "sp_test = pd.read_csv('/content/drive/MyDrive/266/strat_test.csv')\n",
        "sp_dev = pd.read_csv('/content/drive/MyDrive/266/strat_val.csv')"
      ]
    },
    {
      "cell_type": "code",
      "execution_count": null,
      "metadata": {
        "id": "FHqeiV-Z7A0n"
      },
      "outputs": [],
      "source": [
        "sp_train_new = sp_tr.drop(['tag_agreement', 'string', 'top_tag', ' bad_string', 'id'], axis=1)\n",
        "sp_test_new = sp_test.drop(['tag_agreement', 'string', 'top_tag', ' bad_string', 'id'], axis=1)\n",
        "sp_dev_new = sp_test.drop(['tag_agreement', 'string', 'top_tag', ' bad_string', 'id'], axis=1)"
      ]
    },
    {
      "cell_type": "code",
      "execution_count": null,
      "metadata": {
        "id": "gywxxZSkFPCF"
      },
      "outputs": [],
      "source": [
        "sp_train_new = sp_train_new.rename(columns={\" amusement\": \"amusement\", \" anger\": \"anger\", \" annoyance\": \"annoyance\", \" approval\": \"approval\",\n",
        "                       \" caring\": \"caring\", \" confusion\": \"confusion\", \" curiosity\": \"curiosity\", \" desire\":\"desire\", \" disappointment\":\"disappointment\",\n",
        "                       \" disapproval\": \"disapproval\", \" disgust\": \"disgust\", \" embarrassment\":\"embarrassment\",\n",
        "                       \" excitement\": \"excitement\", \" fear\": \"fear\", \" gratitude\": \"gratitude\", \" grief\": \"grief\", \" joy\": \"joy\",\n",
        "                       \" love\": \"love\", \" nervousness\": \"nervousness\", \" optimism\": \"optimism\", \" pride\": \"pride\", \" realization\": \"realization\",\n",
        "                       \" relief\": \"relief\", \" sadness\":\"sadness\", \" surprise\": \"surprise\",\" neutral\": \"neutral\"})\n",
        "sp_test_new = sp_test_new.rename(columns={\" amusement\": \"amusement\", \" anger\": \"anger\", \" annoyance\": \"annoyance\", \" approval\": \"approval\",\n",
        "                       \" caring\": \"caring\", \" confusion\": \"confusion\", \" curiosity\": \"curiosity\", \" desire\":\"desire\", \" disappointment\":\"disappointment\",\n",
        "                       \" disapproval\": \"disapproval\", \" disgust\": \"disgust\", \" embarrassment\":\"embarrassment\",\n",
        "                       \" excitement\": \"excitement\", \" fear\": \"fear\", \" gratitude\": \"gratitude\", \" grief\": \"grief\", \" joy\": \"joy\",\n",
        "                       \" love\": \"love\", \" nervousness\": \"nervousness\", \" optimism\": \"optimism\", \" pride\": \"pride\", \" realization\": \"realization\",\n",
        "                       \" relief\": \"relief\", \" sadness\":\"sadness\", \" surprise\": \"surprise\",\" neutral\": \"neutral\"})\n",
        "sp_dev_new = sp_dev_new.rename(columns={\" amusement\": \"amusement\", \" anger\": \"anger\", \" annoyance\": \"annoyance\", \" approval\": \"approval\",\n",
        "                       \" caring\": \"caring\", \" confusion\": \"confusion\", \" curiosity\": \"curiosity\", \" desire\":\"desire\", \" disappointment\":\"disappointment\",\n",
        "                       \" disapproval\": \"disapproval\", \" disgust\": \"disgust\", \" embarrassment\":\"embarrassment\",\n",
        "                       \" excitement\": \"excitement\", \" fear\": \"fear\", \" gratitude\": \"gratitude\", \" grief\": \"grief\", \" joy\": \"joy\",\n",
        "                       \" love\": \"love\", \" nervousness\": \"nervousness\", \" optimism\": \"optimism\", \" pride\": \"pride\", \" realization\": \"realization\",\n",
        "                       \" relief\": \"relief\", \" sadness\":\"sadness\", \" surprise\": \"surprise\",\" neutral\": \"neutral\"})"
      ]
    },
    {
      "cell_type": "code",
      "execution_count": null,
      "metadata": {
        "id": "DWx3IRPJ66ha"
      },
      "outputs": [],
      "source": [
        "for label in LABELS:\n",
        "  sp_train_new[label] = sp_train_new[label].astype('bool')\n",
        "  sp_test_new[label] = sp_test_new[label].astype('bool')\n",
        "  sp_dev_new[label] = sp_dev_new[label].astype('bool')"
      ]
    },
    {
      "cell_type": "code",
      "execution_count": null,
      "metadata": {
        "id": "aQv9OXuzHvHV"
      },
      "outputs": [],
      "source": [
        "#sp_train = tf.data.Dataset.from_tensor_slices((sp_train_new['target_string'].values, sp_train_new.drop('target_string', axis=1).values))\n",
        "#sp_test = tf.data.Dataset.from_tensor_slices((sp_test_new['target_string'].values, sp_test_new.drop('target_string', axis=1).values))\n",
        "sp_train = tf.data.Dataset.from_tensor_slices(dict(sp_train_new))\n",
        "sp_test = tf.data.Dataset.from_tensor_slices(dict(sp_test_new))\n",
        "sp_dev = tf.data.Dataset.from_tensor_slices(dict(sp_dev_new))"
      ]
    },
    {
      "cell_type": "code",
      "execution_count": null,
      "metadata": {
        "id": "K4hUBg8nJJwc"
      },
      "outputs": [],
      "source": [
        "assert isinstance(sp_train, tf.data.Dataset)\n",
        "assert isinstance(sp_test, tf.data.Dataset)\n",
        "assert isinstance(sp_dev, tf.data.Dataset)"
      ]
    },
    {
      "cell_type": "markdown",
      "metadata": {
        "id": "UAz-tdQfuVBn"
      },
      "source": [
        "### The model: PRADO\n",
        "\n",
        "We train an Emotion Prediction model, based on the [PRADO architecture](https://github.com/tensorflow/models/blob/master/research/seq_flow_lite/models/prado.py) from the [Sequence Projection Models package](https://github.com/tensorflow/models/tree/master/research/seq_flow_lite).\n",
        "\n",
        "PRADO projects input sequences to fixed sized features. The idea behind this approach is to build embedding-free models that minimize the model size. Instead of using an embedding table to lookup embeddings, sequence projection models compute them on the fly, resulting in space-efficient models.\n",
        "\n",
        "In this section, we prepare the PRADO model for training.\n",
        "\n",
        "This GoEmotions dataset is not set up so that it can be directly fed into the PRADO model, so below, we also handle the necessary preprocessing by providing a dataset builder."
      ]
    },
    {
      "cell_type": "markdown",
      "metadata": {
        "id": "e9uPSZYpgBqP"
      },
      "source": [
        "Prepare the model configuration:\n",
        "* Enumerate the labels expected to be found in the GoEmotions dataset.\n",
        "* Prepare the `MODEL_CONFIG` dictionary which includes training parameters for the model. See sample configs for the PRADO model [here](https://github.com/tensorflow/models/tree/master/research/seq_flow_lite/configs)."
      ]
    },
    {
      "cell_type": "code",
      "execution_count": null,
      "metadata": {
        "id": "DkQMnTcLyFeR"
      },
      "outputs": [],
      "source": [
        "# Model training parameters.\n",
        "CONFIG = {\n",
        "    'name': 'models.prado',\n",
        "    'batch_size': 1024,\n",
        "    'train_steps': 10000,\n",
        "    'learning_rate': 0.0006,\n",
        "    'learning_rate_decay_steps': 340,\n",
        "    'learning_rate_decay_rate': 0.7,\n",
        "}\n",
        "\n",
        "# Limits the amount of logging output produced by the training run, in order to\n",
        "# avoid browser slowdowns.\n",
        "CONFIG['save_checkpoints_steps'] = int(CONFIG['train_steps'] / 10)\n",
        "\n",
        "MODEL_CONFIG = {\n",
        "    'labels': LABELS,\n",
        "    'multilabel': True,\n",
        "    'quantize': False,\n",
        "    'max_seq_len': 128,\n",
        "    'max_seq_len_inference': 128,\n",
        "    'exclude_nonalphaspace_unicodes': False,\n",
        "    'split_on_space': True,\n",
        "    'embedding_regularizer_scale': 0.035,\n",
        "    'embedding_size': 64,\n",
        "    'bigram_channels': 64,\n",
        "    'trigram_channels': 64,\n",
        "    'feature_size': 512,\n",
        "    'network_regularizer_scale': 0.0001,\n",
        "    'keep_prob': 0.5,\n",
        "    'word_novelty_bits': 0,\n",
        "    'doc_size_levels': 0,\n",
        "    'add_bos_tag': False,\n",
        "    'add_eos_tag': False,\n",
        "    'pre_logits_fc_layers': [],\n",
        "    'text_distortion_probability': 0.0,\n",
        "}\n",
        "\n",
        "CONFIG['model_config'] = MODEL_CONFIG"
      ]
    },
    {
      "cell_type": "markdown",
      "metadata": {
        "id": "R-pUW649gfzA"
      },
      "source": [
        "Write a function that builds the datasets for the model.  It will load the data, handle batching, and generate projections for the input text."
      ]
    },
    {
      "cell_type": "code",
      "execution_count": null,
      "metadata": {
        "id": "lVlB41l6S9Ie"
      },
      "outputs": [],
      "source": [
        "from layers import base_layers\n",
        "from layers import projection_layers\n",
        "\n",
        "def build_dataset(mode, inspect=False):\n",
        "  if mode == base_layers.TRAIN:\n",
        "    split = 'train'\n",
        "    count = None\n",
        "  elif mode == base_layers.EVAL:\n",
        "    split = 'test'\n",
        "    count = 1\n",
        "  else:\n",
        "    raise ValueError('mode={}, must be TRAIN or EVAL'.format(mode))\n",
        "\n",
        "  batch_size = CONFIG['batch_size']\n",
        "  if inspect:\n",
        "    batch_size = 1\n",
        "\n",
        "  # Convert examples from their dataset format into the model format.\n",
        "  def process_input(features):\n",
        "    # Generate the projection for each comment_text input.  The final tensor \n",
        "    # will have the shape [batch_size, number of tokens, feature size].\n",
        "    # Additionally, we generate a tensor containing the number of tokens for\n",
        "    # each comment_text (seq_length).  This is needed because the projection\n",
        "    # tensor is a full tensor, and we are not using EOS tokens.\n",
        "    text = features['comment_text']\n",
        "    text = tf.reshape(text, [batch_size])\n",
        "    projection_layer = projection_layers.ProjectionLayer(MODEL_CONFIG, mode)\n",
        "    projection, seq_length = projection_layer(text)\n",
        "\n",
        "    # Convert the labels into an indicator tensor, using the LABELS indices.\n",
        "    label = tf.stack([features[label] for label in LABELS], axis=-1)\n",
        "    label = tf.cast(label, tf.float32)\n",
        "    label = tf.reshape(label, [batch_size, len(LABELS)])\n",
        "\n",
        "    model_features = ({'projection': projection, 'sequence_length': seq_length}, label)\n",
        "\n",
        "    if inspect:\n",
        "      model_features = (model_features[0], model_features[1], features)\n",
        "\n",
        "    return model_features\n",
        "\n",
        "  ds = tfds.load('goemotions', split=split)\n",
        "  ds = ds.repeat(count=count)\n",
        "  ds = ds.shuffle(buffer_size=batch_size * 2)\n",
        "  ds = ds.batch(batch_size, drop_remainder=True)\n",
        "  ds = ds.map(process_input,\n",
        "              num_parallel_calls=tf.data.experimental.AUTOTUNE,\n",
        "              deterministic=False)\n",
        "  ds = ds.prefetch(buffer_size=tf.data.experimental.AUTOTUNE)\n",
        "  return ds\n",
        "\n",
        "train_dataset = build_dataset(base_layers.TRAIN)\n",
        "test_dataset = build_dataset(base_layers.EVAL)\n",
        "inspect_dataset = build_dataset(base_layers.TRAIN, inspect=True)"
      ]
    },
    {
      "cell_type": "markdown",
      "metadata": {
        "id": "CLDbHTIvvX11"
      },
      "source": [
        "### Train and Evaluate"
      ]
    },
    {
      "cell_type": "markdown",
      "metadata": {
        "id": "QqUTa7wXsHoO"
      },
      "source": [
        "First we define a function to build the model.  We vary the model inputs depending on task.  For training and evaluation, we'll take the projection and sequence length as inputs.  Otherwise, we'll take strings as inputs."
      ]
    },
    {
      "cell_type": "code",
      "execution_count": null,
      "metadata": {
        "id": "erEiNX3ToLZ1"
      },
      "outputs": [],
      "source": [
        "from models import prado\n",
        "\n",
        "def build_model(mode):\n",
        "  # First we define our inputs.\n",
        "  inputs = []\n",
        "  if mode == base_layers.TRAIN or mode == base_layers.EVAL:\n",
        "    # For TRAIN and EVAL, we'll be getting dataset examples,\n",
        "    # so we'll get projections and sequence_lengths.\n",
        "    projection = tf.keras.Input(\n",
        "        shape=(MODEL_CONFIG['max_seq_len'], MODEL_CONFIG['feature_size']),\n",
        "        name='projection',\n",
        "        dtype='float32')\n",
        "\n",
        "    sequence_length = tf.keras.Input(\n",
        "        shape=(), name='sequence_length', dtype='float32')\n",
        "    inputs = [projection, sequence_length]\n",
        "  else:\n",
        "    # Otherwise, we get string inputs which we need to project.\n",
        "    input = tf.keras.Input(shape=(), name='input', dtype='string')\n",
        "    projection_layer = projection_layers.ProjectionLayer(MODEL_CONFIG, mode)\n",
        "    projection, sequence_length = projection_layer(input)\n",
        "    inputs = [input]\n",
        "\n",
        "  # Next we add the model layer.\n",
        "  model_layer = prado.Encoder(MODEL_CONFIG, mode)\n",
        "  logits = model_layer(projection, sequence_length)\n",
        "\n",
        "  # Finally we add an activation layer.\n",
        "  if MODEL_CONFIG['multilabel']:\n",
        "    activation = tf.keras.layers.Activation('sigmoid', name='predictions')\n",
        "  else:\n",
        "    activation = tf.keras.layers.Activation('softmax', name='predictions')\n",
        "  predictions = activation(logits)\n",
        "\n",
        "  model = tf.keras.Model(\n",
        "      inputs=inputs,\n",
        "      outputs=[predictions])\n",
        "  \n",
        "  return model\n"
      ]
    },
    {
      "cell_type": "markdown",
      "metadata": {
        "id": "caHpK9Htv40g"
      },
      "source": [
        "Train the model:"
      ]
    },
    {
      "cell_type": "markdown",
      "metadata": {
        "id": "BLbJwRXPmnYz"
      },
      "source": [
        "Try to create callbacks using OS"
      ]
    },
    {
      "cell_type": "code",
      "execution_count": null,
      "metadata": {
        "colab": {
          "base_uri": "https://localhost:8080/"
        },
        "id": "GOvLNFfWnwAV",
        "outputId": "81f7a341-1d04-41c0-edbf-d80376040b77"
      },
      "outputs": [
        {
          "output_type": "stream",
          "name": "stdout",
          "text": [
            "checkpoint  fine_tune_best.data-00000-of-00001\tfine_tune_best.index\n"
          ]
        }
      ],
      "source": [
        "!ls '/content/drive/MyDrive/266/finetune_goemo'"
      ]
    },
    {
      "cell_type": "code",
      "execution_count": null,
      "metadata": {
        "id": "Jnlsbe26TiBJ"
      },
      "outputs": [],
      "source": [
        "from keras.callbacks import ModelCheckpoint"
      ]
    },
    {
      "cell_type": "markdown",
      "metadata": {
        "id": "F422h1EuYdWt"
      },
      "source": [
        "Do not re-run the following two cells. Instead, load in the original model to evaluate"
      ]
    },
    {
      "cell_type": "code",
      "execution_count": null,
      "metadata": {
        "id": "I1UDmawLSChM"
      },
      "outputs": [],
      "source": [
        "# https://cv-tricks.com/tensorflow-tutorial/save-restore-tensorflow-models-quick-complete-tutorial/\n",
        "checkpoint_filepath = '/content/drive/MyDrive/266/original_model/goemo_model'\n",
        "model_checkpoint_callback = ModelCheckpoint(\n",
        "    filepath = checkpoint_filepath, \n",
        "    save_weights_only=True,\n",
        "    verbose = 1)"
      ]
    },
    {
      "cell_type": "code",
      "execution_count": null,
      "metadata": {
        "id": "i3IgZ5cY9DuX"
      },
      "outputs": [],
      "source": [
        "from keras import backend as K\n",
        "def custom_f1(y_true, y_pred):\n",
        "  def recall_m(y_true, y_pred):\n",
        "      true_positives = K.sum(K.round(K.clip(y_true * y_pred, 0, 1)))\n",
        "      possible_positives = K.sum(K.round(K.clip(y_true, 0, 1)))\n",
        "      recall = true_positives / (possible_positives + K.epsilon())\n",
        "      return recall\n",
        "  def precision_m(y_true, y_pred):\n",
        "      true_positives = K.sum(K.round(K.clip(y_true * y_pred, 0, 1)))\n",
        "      predicted_positives = K.sum(K.round(K.clip(y_pred, 0, 1)))\n",
        "      precision = true_positives / (predicted_positives + K.epsilon())\n",
        "      return precision\n",
        "  precision = precision_m(y_true, y_pred)\n",
        "  recall = recall_m(y_true, y_pred)\n",
        "  return 2*((precision*recall)/(precision+recall+K.epsilon()))"
      ]
    },
    {
      "cell_type": "code",
      "execution_count": null,
      "metadata": {
        "colab": {
          "base_uri": "https://localhost:8080/"
        },
        "id": "2xM-2R38kogo",
        "outputId": "93b4d3b9-3c65-4b6a-d526-3ca303d38209"
      },
      "outputs": [
        {
          "name": "stdout",
          "output_type": "stream",
          "text": [
            "Epoch 1/10\n",
            "1000/1000 [==============================] - ETA: 0s - loss: 0.6065\n",
            "Epoch 1: saving model to /content/drive/MyDrive/266/finetune_goemo/goemo_model\n",
            "1000/1000 [==============================] - 161s 156ms/step - loss: 0.6065 - val_loss: 0.5201\n",
            "Epoch 2/10\n",
            "1000/1000 [==============================] - ETA: 0s - loss: 0.4885\n",
            "Epoch 2: saving model to /content/drive/MyDrive/266/finetune_goemo/goemo_model\n",
            "1000/1000 [==============================] - 155s 155ms/step - loss: 0.4885 - val_loss: 0.4682\n",
            "Epoch 3/10\n",
            "1000/1000 [==============================] - ETA: 0s - loss: 0.4560\n",
            "Epoch 3: saving model to /content/drive/MyDrive/266/finetune_goemo/goemo_model\n",
            "1000/1000 [==============================] - 155s 155ms/step - loss: 0.4560 - val_loss: 0.4518\n",
            "Epoch 4/10\n",
            "1000/1000 [==============================] - ETA: 0s - loss: 0.4449\n",
            "Epoch 4: saving model to /content/drive/MyDrive/266/finetune_goemo/goemo_model\n",
            "1000/1000 [==============================] - 153s 153ms/step - loss: 0.4449 - val_loss: 0.4448\n",
            "Epoch 5/10\n",
            "1000/1000 [==============================] - ETA: 0s - loss: 0.4409\n",
            "Epoch 5: saving model to /content/drive/MyDrive/266/finetune_goemo/goemo_model\n",
            "1000/1000 [==============================] - 153s 153ms/step - loss: 0.4409 - val_loss: 0.4410\n",
            "Epoch 6/10\n",
            "1000/1000 [==============================] - ETA: 0s - loss: 0.4395\n",
            "Epoch 6: saving model to /content/drive/MyDrive/266/finetune_goemo/goemo_model\n",
            "1000/1000 [==============================] - 153s 153ms/step - loss: 0.4395 - val_loss: 0.4429\n",
            "Epoch 7/10\n",
            "1000/1000 [==============================] - ETA: 0s - loss: 0.4391\n",
            "Epoch 7: saving model to /content/drive/MyDrive/266/finetune_goemo/goemo_model\n",
            "1000/1000 [==============================] - 153s 153ms/step - loss: 0.4391 - val_loss: 0.4406\n",
            "Epoch 8/10\n",
            "1000/1000 [==============================] - ETA: 0s - loss: 0.4389\n",
            "Epoch 8: saving model to /content/drive/MyDrive/266/finetune_goemo/goemo_model\n",
            "1000/1000 [==============================] - 153s 153ms/step - loss: 0.4389 - val_loss: 0.4398\n",
            "Epoch 9/10\n",
            "1000/1000 [==============================] - ETA: 0s - loss: 0.4388\n",
            "Epoch 9: saving model to /content/drive/MyDrive/266/finetune_goemo/goemo_model\n",
            "1000/1000 [==============================] - 153s 153ms/step - loss: 0.4388 - val_loss: 0.4416\n",
            "Epoch 10/10\n",
            "1000/1000 [==============================] - ETA: 0s - loss: 0.4388\n",
            "Epoch 10: saving model to /content/drive/MyDrive/266/finetune_goemo/goemo_model\n",
            "1000/1000 [==============================] - 153s 153ms/step - loss: 0.4388 - val_loss: 0.4411\n"
          ]
        }
      ],
      "source": [
        "# Remove any previous training data.\n",
        "!rm -rf model\n",
        "\n",
        "model = build_model(base_layers.TRAIN)\n",
        "\n",
        "# Create the optimizer.\n",
        "learning_rate = tf.keras.optimizers.schedules.ExponentialDecay(\n",
        "    initial_learning_rate=CONFIG['learning_rate'],\n",
        "    decay_rate=CONFIG['learning_rate_decay_rate'],\n",
        "    decay_steps=CONFIG['learning_rate_decay_steps'],\n",
        "    staircase=True)\n",
        "\n",
        "optimizer = tf.keras.optimizers.Adam(learning_rate=learning_rate)\n",
        "\n",
        "# Define the loss function.\n",
        "loss = tf.keras.losses.BinaryCrossentropy(from_logits=False)\n",
        "\n",
        "model.compile(optimizer=optimizer, loss=loss)\n",
        "\n",
        "epochs = int(CONFIG['train_steps'] / CONFIG['save_checkpoints_steps'])\n",
        "history = model.fit(\n",
        "    x=train_dataset,\n",
        "    epochs=epochs,\n",
        "    validation_data=test_dataset,\n",
        "    steps_per_epoch=CONFIG['save_checkpoints_steps'],\n",
        "    callbacks=[model_checkpoint_callback])"
      ]
    },
    {
      "cell_type": "markdown",
      "metadata": {
        "id": "uNlvj6KTYi9P"
      },
      "source": [
        "Plot loss vs. epochs"
      ]
    },
    {
      "cell_type": "code",
      "execution_count": null,
      "metadata": {
        "id": "lVTlbshZXfOr"
      },
      "outputs": [],
      "source": [
        "import matplotlib.pyplot as plt"
      ]
    },
    {
      "cell_type": "code",
      "execution_count": null,
      "metadata": {
        "colab": {
          "base_uri": "https://localhost:8080/",
          "height": 295
        },
        "id": "iJU57MC1XV9w",
        "outputId": "b76e0138-7682-46a6-f396-14feeb0f99a1"
      },
      "outputs": [
        {
          "data": {
            "image/png": "[encoded data removed]",
            "text/plain": [
              "<Figure size 432x288 with 1 Axes>"
            ]
          },
          "metadata": {},
          "output_type": "display_data"
        }
      ],
      "source": [
        "plt.plot(history.history['loss'])\n",
        "plt.plot(history.history['val_loss'])\n",
        "plt.title('model loss')\n",
        "plt.ylabel('loss')\n",
        "plt.xlabel('epoch')\n",
        "plt.legend(['train', 'test'], loc='upper left')\n",
        "plt.show()"
      ]
    },
    {
      "cell_type": "markdown",
      "metadata": {
        "id": "FDWQ3QSfYmbq"
      },
      "source": [
        "Load in the original model from checkpoints and evaluate on the test data"
      ]
    },
    {
      "cell_type": "code",
      "execution_count": null,
      "metadata": {
        "id": "-VyIbN8fDkz0"
      },
      "outputs": [],
      "source": [
        "original_model = '/content/drive/MyDrive/266/original_model/goemo_model'"
      ]
    },
    {
      "cell_type": "code",
      "execution_count": null,
      "metadata": {
        "colab": {
          "base_uri": "https://localhost:8080/"
        },
        "id": "A1qc9GNtF3s5",
        "outputId": "860f3f97-8cb2-4b2e-e6f9-4a06917fc321"
      },
      "outputs": [
        {
          "output_type": "stream",
          "name": "stdout",
          "text": [
            "3/3 [==============================] - 6s 37ms/step - loss: 0.4441 - precision@0.5/admiration: 0.1667 - recall@0.5/admiration: 0.1000 - precision@0.5/amusement: 0.0000e+00 - recall@0.5/amusement: 0.0000e+00 - precision@0.5/anger: 0.5000 - recall@0.5/anger: 0.3333 - precision@0.5/annoyance: 0.0000e+00 - recall@0.5/annoyance: 0.0000e+00 - precision@0.5/approval: 0.0000e+00 - recall@0.5/approval: 0.0000e+00 - precision@0.5/caring: 0.0000e+00 - recall@0.5/caring: 0.0000e+00 - precision@0.5/confusion: 0.0000e+00 - recall@0.5/confusion: 0.0000e+00 - precision@0.5/curiosity: 1.0000 - recall@0.5/curiosity: 0.2000 - precision@0.5/desire: 0.0000e+00 - recall@0.5/desire: 0.0000e+00 - precision@0.5/disappointment: 0.0000e+00 - recall@0.5/disappointment: 0.0000e+00 - precision@0.5/disapproval: 1.0000 - recall@0.5/disapproval: 0.0526 - precision@0.5/disgust: 0.0000e+00 - recall@0.5/disgust: 0.0000e+00 - precision@0.5/embarrassment: 0.0000e+00 - recall@0.5/embarrassment: 0.0000e+00 - precision@0.5/excitement: 0.0000e+00 - recall@0.5/excitement: 0.0000e+00 - precision@0.5/fear: 0.0000e+00 - recall@0.5/fear: 0.0000e+00 - precision@0.5/gratitude: 0.7500 - recall@0.5/gratitude: 1.0000 - precision@0.5/grief: 0.0000e+00 - recall@0.5/grief: 0.0000e+00 - precision@0.5/joy: 1.0000 - recall@0.5/joy: 1.0000 - precision@0.5/love: 1.0000 - recall@0.5/love: 0.5000 - precision@0.5/nervousness: 0.0000e+00 - recall@0.5/nervousness: 0.0000e+00 - precision@0.5/optimism: 0.0000e+00 - recall@0.5/optimism: 0.0000e+00 - precision@0.5/pride: 0.0000e+00 - recall@0.5/pride: 0.0000e+00 - precision@0.5/realization: 0.0000e+00 - recall@0.5/realization: 0.0000e+00 - precision@0.5/relief: 0.0000e+00 - recall@0.5/relief: 0.0000e+00 - precision@0.5/remorse: 0.0000e+00 - recall@0.5/remorse: 0.0000e+00 - precision@0.5/sadness: 0.0000e+00 - recall@0.5/sadness: 0.0000e+00 - precision@0.5/surprise: 0.0000e+00 - recall@0.5/surprise: 0.0000e+00 - precision@0.5/neutral: 0.5283 - recall@0.5/neutral: 0.4516 - precision@0.5/all: 0.5205 - recall@0.5/all: 0.1845\n"
          ]
        }
      ],
      "source": [
        "model = build_model(base_layers.EVAL)\n",
        "\n",
        "# Define metrics over each category.\n",
        "metrics = []\n",
        "for i, label in enumerate(LABELS):\n",
        "  metric = tf.keras.metrics.Precision(\n",
        "      thresholds=[0.5],\n",
        "      class_id=i,\n",
        "      name='precision@0.5/{}'.format(label))\n",
        "  metrics.append(metric)\n",
        "  metric = tf.keras.metrics.Recall(\n",
        "      thresholds=[0.5],\n",
        "      class_id=i,\n",
        "      name='recall@0.5/{}'.format(label))\n",
        "  metrics.append(metric)\n",
        "\n",
        "# Define metrics over the entire task.\n",
        "metric = tf.keras.metrics.Precision(thresholds=[0.5], name='precision@0.5/all')\n",
        "metrics.append(metric)\n",
        "metric = tf.keras.metrics.Recall(thresholds=[0.5], name='recall@0.5/all')\n",
        "metrics.append(metric)\n",
        "\n",
        "learning_rate = tf.keras.optimizers.schedules.ExponentialDecay(\n",
        "    initial_learning_rate=CONFIG['learning_rate'],\n",
        "    decay_rate=CONFIG['learning_rate_decay_rate'],\n",
        "    decay_steps=CONFIG['learning_rate_decay_steps'],\n",
        "    staircase=True)\n",
        "\n",
        "loss = tf.keras.losses.BinaryCrossentropy(from_logits=False)\n",
        "\n",
        "model.compile(metrics=metrics, loss=loss)\n",
        "\n",
        "model.load_weights(original_model)\n",
        "\n",
        "#results = model.evaluate(test_dataset, verbose = 1, steps = 1000)\n",
        "#model.load_weights('model/model_checkpoint')\n",
        "result = model.evaluate(x=test_dataset, return_dict=True)"
      ]
    },
    {
      "cell_type": "markdown",
      "metadata": {
        "id": "Namwa3enwQBc"
      },
      "source": [
        "Print evaluation metrics for the model, as well as per emotion label:"
      ]
    },
    {
      "cell_type": "code",
      "execution_count": null,
      "metadata": {
        "colab": {
          "base_uri": "https://localhost:8080/"
        },
        "id": "l420PosisfXN",
        "outputId": "1efbb271-09e5-4ae1-bdd1-3c31992018a8"
      },
      "outputs": [
        {
          "output_type": "stream",
          "name": "stdout",
          "text": [
            "admiration: (precision@0.5: 0.1666666716337204, recall@0.5: 0.10000000149011612)\n",
            "amusement: (precision@0.5: 0.0, recall@0.5: 0.0)\n",
            "anger: (precision@0.5: 0.5, recall@0.5: 0.3333333432674408)\n",
            "annoyance: (precision@0.5: 0.0, recall@0.5: 0.0)\n",
            "approval: (precision@0.5: 0.0, recall@0.5: 0.0)\n",
            "caring: (precision@0.5: 0.0, recall@0.5: 0.0)\n",
            "confusion: (precision@0.5: 0.0, recall@0.5: 0.0)\n",
            "curiosity: (precision@0.5: 1.0, recall@0.5: 0.20000000298023224)\n",
            "desire: (precision@0.5: 0.0, recall@0.5: 0.0)\n",
            "disappointment: (precision@0.5: 0.0, recall@0.5: 0.0)\n",
            "disapproval: (precision@0.5: 1.0, recall@0.5: 0.05263157933950424)\n",
            "disgust: (precision@0.5: 0.0, recall@0.5: 0.0)\n",
            "embarrassment: (precision@0.5: 0.0, recall@0.5: 0.0)\n",
            "excitement: (precision@0.5: 0.0, recall@0.5: 0.0)\n",
            "fear: (precision@0.5: 0.0, recall@0.5: 0.0)\n",
            "gratitude: (precision@0.5: 0.75, recall@0.5: 1.0)\n",
            "grief: (precision@0.5: 0.0, recall@0.5: 0.0)\n",
            "joy: (precision@0.5: 1.0, recall@0.5: 1.0)\n",
            "love: (precision@0.5: 1.0, recall@0.5: 0.5)\n",
            "nervousness: (precision@0.5: 0.0, recall@0.5: 0.0)\n",
            "optimism: (precision@0.5: 0.0, recall@0.5: 0.0)\n",
            "pride: (precision@0.5: 0.0, recall@0.5: 0.0)\n",
            "realization: (precision@0.5: 0.0, recall@0.5: 0.0)\n",
            "relief: (precision@0.5: 0.0, recall@0.5: 0.0)\n",
            "remorse: (precision@0.5: 0.0, recall@0.5: 0.0)\n",
            "sadness: (precision@0.5: 0.0, recall@0.5: 0.0)\n",
            "surprise: (precision@0.5: 0.0, recall@0.5: 0.0)\n",
            "neutral: (precision@0.5: 0.5283018946647644, recall@0.5: 0.4516128897666931)\n",
            "all: (precision@0.5: 0.5205479264259338, recall@0.5: 0.18446601927280426), f1-score 0.2724014309627194\n"
          ]
        }
      ],
      "source": [
        "for label in LABELS:\n",
        "  precision_key = 'precision@0.5/{}'.format(label)\n",
        "  recall_key = 'recall@0.5/{}'.format(label)\n",
        "  if precision_key in result and recall_key in result:\n",
        "    print('{}: (precision@0.5: {}, recall@0.5: {})'.format(\n",
        "        label, result[precision_key], result[recall_key]))\n",
        "    \n",
        "precision_key = 'precision@0.5/all'\n",
        "recall_key = 'recall@0.5/all'\n",
        "if precision_key in result and recall_key in result:\n",
        "  prec = result[precision_key]\n",
        "  rec = result[recall_key]\n",
        "  f1 = (2 * prec * rec) / (prec + rec)\n",
        "  print('all: (precision@0.5: {}, recall@0.5: {}), f1-score'.format(\n",
        "      result[precision_key], result[recall_key]), f1)"
      ]
    },
    {
      "cell_type": "markdown",
      "metadata": {
        "id": "LP0PDuh6HkMx"
      },
      "source": [
        "Get prediction accuracy of baseline model rather than evaluation F1 score"
      ]
    },
    {
      "cell_type": "code",
      "execution_count": null,
      "metadata": {
        "id": "tZBc0jBsHptR"
      },
      "outputs": [],
      "source": [
        "PREDICT_TEXT = [\n",
        "  b'Good for you!',\n",
        "  b'Happy birthday!',\n",
        "  b'I love you.',\n",
        "]"
      ]
    },
    {
      "cell_type": "code",
      "execution_count": null,
      "metadata": {
        "colab": {
          "base_uri": "https://localhost:8080/"
        },
        "id": "QLDLBPICIDzj",
        "outputId": "0560f481-7de5-4d05-b02b-791562894993"
      },
      "outputs": [
        {
          "name": "stdout",
          "output_type": "stream",
          "text": [
            "\n",
            "b'Good for you!':\n",
            "admiration: 0.836010217666626\n",
            "caring: 0.43613725900650024\n",
            "optimism: 0.4037437438964844\n",
            "\n",
            "b'Happy birthday!':\n",
            "excitement: 0.8367144465446472\n",
            "joy: 0.8083208799362183\n",
            "desire: 0.3934541642665863\n",
            "\n",
            "b'I love you.':\n",
            "love: 0.9999996423721313\n",
            "nervousness: 0.9998273253440857\n",
            "relief: 0.9997915029525757\n"
          ]
        }
      ],
      "source": [
        "model = build_model(base_layers.PREDICT)\n",
        "model.load_weights(original_model)\n",
        "\n",
        "for text in PREDICT_TEXT:\n",
        "  results = model.predict(x=[text])\n",
        "  print('')\n",
        "  print('{}:'.format(text))\n",
        "  labels = np.flip(np.argsort(results[0]))\n",
        "  for x in range(3):\n",
        "    label = LABELS[labels[x]]\n",
        "    print('{}: {}'.format(label, results[0][labels[x]]))"
      ]
    },
    {
      "cell_type": "markdown",
      "metadata": {
        "id": "OW9yP7M4wHFE"
      },
      "source": [
        "Now we want to re-train our saved model on our Spotify tagged strings data. So we need to: \n",
        "\n",
        "1.   Load in the Spotify data, making any manipulations so that it's compatible with our existing model\n",
        "2.   Build a shell model using build_model()\n",
        "3.   Load_weights to get pretraining\n",
        "4.   define optimizer and loss\n",
        "5.   .compile\n",
        "6.   .fit on spotify data\n",
        "7.   Conduct fine-tuning - change adam parameter and freezing layers\n",
        "\n"
      ]
    },
    {
      "cell_type": "markdown",
      "metadata": {
        "id": "tOsFde9vJmfK"
      },
      "source": [
        "This will build the spotify dataset to be ready for our model "
      ]
    },
    {
      "cell_type": "code",
      "execution_count": null,
      "metadata": {
        "id": "06eNeMEr4JGY"
      },
      "outputs": [],
      "source": [
        "from etils.epath.abstract_path import T\n",
        "# Model training parameters.\n",
        "CONFIG = {\n",
        "    'name': 'models.prado',\n",
        "    'batch_size': 53,\n",
        "    'train_steps': 10000,\n",
        "    'learning_rate': 0.0006,\n",
        "    'learning_rate_decay_steps': 340,\n",
        "    'learning_rate_decay_rate': 0.7,\n",
        "}\n",
        "\n",
        "CONFIG['save_checkpoints_steps'] = int(CONFIG['train_steps'] / 10)\n",
        "\n",
        "MODEL_CONFIG = {\n",
        "    'labels': LABELS,\n",
        "    'multilabel': True,\n",
        "    'quantize': False,\n",
        "    'max_seq_len': 400,\n",
        "    'max_seq_len_inference': 400,\n",
        "    'exclude_nonalphaspace_unicodes': False,\n",
        "    'split_on_space': True,\n",
        "    'embedding_regularizer_scale': 0.035,\n",
        "    'embedding_size': 64,\n",
        "    'bigram_channels': 64,\n",
        "    'trigram_channels': 64,\n",
        "    'feature_size': 512,\n",
        "    'network_regularizer_scale': 0.0001,\n",
        "    'keep_prob': 0.5,\n",
        "    'word_novelty_bits': 0,\n",
        "    'doc_size_levels': 0,\n",
        "    'add_bos_tag': False,\n",
        "    'add_eos_tag': False,\n",
        "    'pre_logits_fc_layers': [],\n",
        "    'text_distortion_probability': 0.0,\n",
        "}\n",
        "\n",
        "CONFIG['model_config'] = MODEL_CONFIG\n",
        "\n",
        "from layers import base_layers\n",
        "from layers import projection_layers\n",
        "\n",
        "def build_dataset(mode, inspect=False, dev = False):\n",
        "  if mode == base_layers.TRAIN:\n",
        "    split = 'train'\n",
        "    count = None\n",
        "  elif mode == base_layers.EVAL:\n",
        "    split = 'test'\n",
        "    count = 1\n",
        "  else:\n",
        "    raise ValueError('mode={}, must be TRAIN or EVAL'.format(mode))\n",
        "\n",
        "  batch_size = CONFIG['batch_size']\n",
        "  if inspect:\n",
        "    batch_size = 1\n",
        "\n",
        "  # Convert examples from their dataset format into the model format.\n",
        "  def process_input(features):\n",
        "    # Generate the projection for each comment_text input.  The final tensor \n",
        "    # will have the shape [batch_size, number of tokens, feature size].\n",
        "    # Additionally, we generate a tensor containing the number of tokens for\n",
        "    # each comment_text (seq_length).  This is needed because the projection\n",
        "    # tensor is a full tensor, and we are not using EOS tokens.\n",
        "    text = features['target_string']\n",
        "    text = tf.reshape(text, [batch_size])\n",
        "    projection_layer = projection_layers.ProjectionLayer(MODEL_CONFIG, mode)\n",
        "    projection, seq_length = projection_layer(text)\n",
        "\n",
        "    # Convert the labels into an indicator tensor, using the LABELS indices.\n",
        "    label = tf.stack([features[label] for label in LABELS], axis=-1)\n",
        "    label = tf.cast(label, tf.float32)\n",
        "    label = tf.reshape(label, [batch_size, len(LABELS)])\n",
        "\n",
        "    model_features = ({'projection': projection, 'sequence_length': seq_length}, label)\n",
        "\n",
        "    if inspect:\n",
        "      model_features = (model_features[0], model_features[1], features)\n",
        "\n",
        "    return model_features\n",
        "  if mode == base_layers.TRAIN:\n",
        "    ds = sp_train\n",
        "    ds = ds.repeat(count=count)\n",
        "    ds = ds.shuffle(buffer_size=batch_size * 2)\n",
        "    ds = ds.batch(batch_size, drop_remainder=True)\n",
        "    ds = ds.map(process_input, num_parallel_calls=tf.data.experimental.AUTOTUNE, deterministic=False)\n",
        "    ds = ds.prefetch(buffer_size=tf.data.experimental.AUTOTUNE)\n",
        "  elif mode == base_layers.EVAL and dev == True:\n",
        "    ds = sp_dev \n",
        "    ds = ds.shuffle(buffer_size=batch_size * 2)\n",
        "    ds = ds.batch(batch_size, drop_remainder=True)\n",
        "    ds = ds.map(process_input, num_parallel_calls=tf.data.experimental.AUTOTUNE, deterministic=False)\n",
        "    ds = ds.prefetch(buffer_size=tf.data.experimental.AUTOTUNE) \n",
        "  elif mode == base_layers.EVAL and dev == False:\n",
        "    ds = sp_test\n",
        "    ds = ds.shuffle(buffer_size=batch_size * 2)\n",
        "    ds = ds.batch(batch_size, drop_remainder=True)\n",
        "    ds = ds.map(process_input, num_parallel_calls=tf.data.experimental.AUTOTUNE, deterministic=False)\n",
        "    ds = ds.prefetch(buffer_size=tf.data.experimental.AUTOTUNE)\n",
        "  else:\n",
        "    raise ValueError('mode={}, must be TRAIN or EVAL'.format(mode))\n",
        "  \n",
        "  return ds\n",
        "\n",
        "train_dataset = build_dataset(base_layers.TRAIN)\n",
        "test_dataset = build_dataset(base_layers.EVAL, dev = False)\n",
        "val_dataset = build_dataset(base_layers.EVAL, dev = True)\n",
        "inspect_dataset = build_dataset(base_layers.TRAIN, inspect=True)"
      ]
    },
    {
      "cell_type": "markdown",
      "metadata": {
        "id": "Tu4-zF4VsWsW"
      },
      "source": [
        "First trial: Fine-tune all the layers without making any changes to the pretrained GoEmotions model"
      ]
    },
    {
      "cell_type": "code",
      "execution_count": null,
      "metadata": {
        "colab": {
          "base_uri": "https://localhost:8080/"
        },
        "id": "94pSfhE1fw8b",
        "outputId": "20f11099-d8a5-43a3-bc91-788b4a86f5e4"
      },
      "outputs": [
        {
          "output_type": "stream",
          "name": "stdout",
          "text": [
            "Epoch 1/10\n",
            " 999/1000 [============================>.] - ETA: 0s - loss: 0.4894 - accuracy: 0.1494 - custom_f1: 0.1636\n",
            "Epoch 1: saving model to /content/drive/MyDrive/266/finetune_nochanges/nochanges\n",
            "1000/1000 [==============================] - 41s 30ms/step - loss: 0.4894 - accuracy: 0.1495 - custom_f1: 0.1636 - val_loss: 0.4900 - val_accuracy: 0.1698 - val_custom_f1: 0.1372\n",
            "Epoch 2/10\n",
            " 999/1000 [============================>.] - ETA: 0s - loss: 0.4895 - accuracy: 0.1501 - custom_f1: 0.1624\n",
            "Epoch 2: saving model to /content/drive/MyDrive/266/finetune_nochanges/nochanges\n",
            "1000/1000 [==============================] - 28s 28ms/step - loss: 0.4895 - accuracy: 0.1502 - custom_f1: 0.1625 - val_loss: 0.4845 - val_accuracy: 0.1761 - val_custom_f1: 0.1556\n",
            "Epoch 3/10\n",
            " 999/1000 [============================>.] - ETA: 0s - loss: 0.4896 - accuracy: 0.1499 - custom_f1: 0.1627\n",
            "Epoch 3: saving model to /content/drive/MyDrive/266/finetune_nochanges/nochanges\n",
            "1000/1000 [==============================] - 28s 28ms/step - loss: 0.4895 - accuracy: 0.1499 - custom_f1: 0.1627 - val_loss: 0.4885 - val_accuracy: 0.2013 - val_custom_f1: 0.1486\n",
            "Epoch 4/10\n",
            " 999/1000 [============================>.] - ETA: 0s - loss: 0.4896 - accuracy: 0.1490 - custom_f1: 0.1633\n",
            "Epoch 4: saving model to /content/drive/MyDrive/266/finetune_nochanges/nochanges\n",
            "1000/1000 [==============================] - 28s 28ms/step - loss: 0.4896 - accuracy: 0.1490 - custom_f1: 0.1633 - val_loss: 0.4903 - val_accuracy: 0.2013 - val_custom_f1: 0.1625\n",
            "Epoch 5/10\n",
            " 999/1000 [============================>.] - ETA: 0s - loss: 0.4898 - accuracy: 0.1498 - custom_f1: 0.1628\n",
            "Epoch 5: saving model to /content/drive/MyDrive/266/finetune_nochanges/nochanges\n",
            "1000/1000 [==============================] - 28s 28ms/step - loss: 0.4898 - accuracy: 0.1498 - custom_f1: 0.1628 - val_loss: 0.4911 - val_accuracy: 0.1572 - val_custom_f1: 0.1580\n",
            "Epoch 6/10\n",
            " 999/1000 [============================>.] - ETA: 0s - loss: 0.4894 - accuracy: 0.1502 - custom_f1: 0.1627\n",
            "Epoch 6: saving model to /content/drive/MyDrive/266/finetune_nochanges/nochanges\n",
            "1000/1000 [==============================] - 28s 28ms/step - loss: 0.4894 - accuracy: 0.1502 - custom_f1: 0.1627 - val_loss: 0.4935 - val_accuracy: 0.1447 - val_custom_f1: 0.1237\n",
            "Epoch 7/10\n",
            " 999/1000 [============================>.] - ETA: 0s - loss: 0.4893 - accuracy: 0.1527 - custom_f1: 0.1639\n",
            "Epoch 7: saving model to /content/drive/MyDrive/266/finetune_nochanges/nochanges\n",
            "1000/1000 [==============================] - 28s 28ms/step - loss: 0.4893 - accuracy: 0.1526 - custom_f1: 0.1640 - val_loss: 0.4925 - val_accuracy: 0.1698 - val_custom_f1: 0.1457\n",
            "Epoch 8/10\n",
            " 999/1000 [============================>.] - ETA: 0s - loss: 0.4894 - accuracy: 0.1498 - custom_f1: 0.1638\n",
            "Epoch 8: saving model to /content/drive/MyDrive/266/finetune_nochanges/nochanges\n",
            "1000/1000 [==============================] - 28s 28ms/step - loss: 0.4894 - accuracy: 0.1498 - custom_f1: 0.1638 - val_loss: 0.4889 - val_accuracy: 0.1887 - val_custom_f1: 0.1689\n",
            "Epoch 9/10\n",
            " 999/1000 [============================>.] - ETA: 0s - loss: 0.4896 - accuracy: 0.1503 - custom_f1: 0.1612\n",
            "Epoch 9: saving model to /content/drive/MyDrive/266/finetune_nochanges/nochanges\n",
            "1000/1000 [==============================] - 28s 28ms/step - loss: 0.4896 - accuracy: 0.1504 - custom_f1: 0.1613 - val_loss: 0.4989 - val_accuracy: 0.1132 - val_custom_f1: 0.1115\n",
            "Epoch 10/10\n",
            " 999/1000 [============================>.] - ETA: 0s - loss: 0.4898 - accuracy: 0.1488 - custom_f1: 0.1624\n",
            "Epoch 10: saving model to /content/drive/MyDrive/266/finetune_nochanges/nochanges\n",
            "1000/1000 [==============================] - 28s 28ms/step - loss: 0.4898 - accuracy: 0.1488 - custom_f1: 0.1624 - val_loss: 0.4872 - val_accuracy: 0.1698 - val_custom_f1: 0.1695\n"
          ]
        }
      ],
      "source": [
        "# Remove any previous training data.\n",
        "!rm -rf model\n",
        "\n",
        "model = build_model(base_layers.TRAIN)\n",
        "\n",
        "# Create the optimizer.\n",
        "learning_rate = tf.keras.optimizers.schedules.ExponentialDecay(\n",
        "    initial_learning_rate=CONFIG['learning_rate'],\n",
        "    decay_rate=CONFIG['learning_rate_decay_rate'],\n",
        "    decay_steps=CONFIG['learning_rate_decay_steps'],\n",
        "    staircase=True)\n",
        "\n",
        "optimizer = tf.keras.optimizers.Adam(learning_rate=learning_rate)\n",
        "\n",
        "# Define the loss function.\n",
        "loss = tf.keras.losses.BinaryCrossentropy(from_logits=False)\n",
        "\n",
        "model.compile(optimizer=optimizer, loss=loss, metrics = ['accuracy', custom_f1])\n",
        "\n",
        "sp_filepath = '/content/drive/MyDrive/266/finetune_nochanges/nochanges'\n",
        "\n",
        "model_checkpoint_callback = ModelCheckpoint(\n",
        "    filepath = sp_filepath, \n",
        "    save_weights_only=True,\n",
        "    verbose = 1)\n",
        "\n",
        "model.load_weights(original_model)\n",
        "\n",
        "epochs = int(CONFIG['train_steps'] / CONFIG['save_checkpoints_steps'])\n",
        "history = model.fit(\n",
        "    x=train_dataset,\n",
        "    epochs=epochs,\n",
        "    validation_data=val_dataset,\n",
        "    steps_per_epoch=CONFIG['save_checkpoints_steps'],\n",
        "    callbacks=[model_checkpoint_callback])"
      ]
    },
    {
      "cell_type": "code",
      "execution_count": null,
      "metadata": {
        "colab": {
          "base_uri": "https://localhost:8080/"
        },
        "id": "PvuvHXfnBDVo",
        "outputId": "31635435-75f9-4911-d325-e3457cf72b05"
      },
      "outputs": [
        {
          "output_type": "stream",
          "name": "stdout",
          "text": [
            "dict_keys(['loss', 'accuracy', 'custom_f1', 'val_loss', 'val_accuracy', 'val_custom_f1'])\n"
          ]
        }
      ],
      "source": [
        "print(history.history.keys())"
      ]
    },
    {
      "cell_type": "code",
      "execution_count": null,
      "metadata": {
        "colab": {
          "base_uri": "https://localhost:8080/",
          "height": 295
        },
        "id": "1rOf4nUls4Mv",
        "outputId": "27ad9dcf-4be3-4d38-b7fd-f12b5c7ba8f9"
      },
      "outputs": [
        {
          "output_type": "display_data",
          "data": {
            "text/plain": [
              "<Figure size 432x288 with 1 Axes>"
            ],
            "image/png": "[encoded data removed]"
          },
          "metadata": {
            "needs_background": "light"
          }
        }
      ],
      "source": [
        "plt.plot(history.history['loss'])\n",
        "plt.plot(history.history['val_loss'])\n",
        "plt.title('model loss during training')\n",
        "plt.ylabel('loss')\n",
        "plt.xlabel('epoch')\n",
        "plt.legend(['train', 'dev'], loc='upper left')\n",
        "plt.show()"
      ]
    },
    {
      "cell_type": "code",
      "execution_count": null,
      "metadata": {
        "colab": {
          "base_uri": "https://localhost:8080/",
          "height": 295
        },
        "id": "Xd50ASd4w7Ic",
        "outputId": "f830fb19-e111-45e8-d608-a69a41cefc60"
      },
      "outputs": [
        {
          "output_type": "display_data",
          "data": {
            "text/plain": [
              "<Figure size 432x288 with 1 Axes>"
            ],
            "image/png": "[encoded data removed]"
          },
          "metadata": {
            "needs_background": "light"
          }
        }
      ],
      "source": [
        "plt.plot(history.history['custom_f1'])\n",
        "plt.plot(history.history['val_custom_f1'])\n",
        "plt.title('model f1-score during training')\n",
        "plt.ylabel('f1-score')\n",
        "plt.xlabel('epoch')\n",
        "plt.ylim([0,1])\n",
        "plt.legend(['train', 'dev'], loc='upper left')\n",
        "plt.show()"
      ]
    },
    {
      "cell_type": "code",
      "execution_count": null,
      "metadata": {
        "colab": {
          "base_uri": "https://localhost:8080/"
        },
        "id": "aplqoAXVilm0",
        "outputId": "b8d22ff2-2532-4cca-f3b2-6e7f7588d246"
      },
      "outputs": [
        {
          "output_type": "stream",
          "name": "stdout",
          "text": [
            "3/3 [==============================] - 10s 69ms/step - loss: 0.0000e+00 - precision@0.5/admiration: 0.4000 - recall@0.5/admiration: 0.5714 - precision@0.5/amusement: 0.0312 - recall@0.5/amusement: 1.0000 - precision@0.5/anger: 0.0556 - recall@0.5/anger: 0.3333 - precision@0.5/annoyance: 0.2000 - recall@0.5/annoyance: 0.1250 - precision@0.5/approval: 0.2000 - recall@0.5/approval: 0.0625 - precision@0.5/caring: 0.0000e+00 - recall@0.5/caring: 0.0000e+00 - precision@0.5/confusion: 0.0000e+00 - recall@0.5/confusion: 0.0000e+00 - precision@0.5/curiosity: 0.4000 - recall@0.5/curiosity: 0.4444 - precision@0.5/desire: 0.0000e+00 - recall@0.5/desire: 0.0000e+00 - precision@0.5/disappointment: 0.1000 - recall@0.5/disappointment: 0.1250 - precision@0.5/disapproval: 0.4545 - recall@0.5/disapproval: 0.2381 - precision@0.5/disgust: 0.0000e+00 - recall@0.5/disgust: 0.0000e+00 - precision@0.5/embarrassment: 0.0000e+00 - recall@0.5/embarrassment: 0.0000e+00 - precision@0.5/excitement: 0.0000e+00 - recall@0.5/excitement: 0.0000e+00 - precision@0.5/fear: 0.0000e+00 - recall@0.5/fear: 0.0000e+00 - precision@0.5/gratitude: 0.1304 - recall@0.5/gratitude: 1.0000 - precision@0.5/grief: 0.0000e+00 - recall@0.5/grief: 0.0000e+00 - precision@0.5/joy: 0.0000e+00 - recall@0.5/joy: 0.0000e+00 - precision@0.5/love: 0.0370 - recall@0.5/love: 0.5000 - precision@0.5/nervousness: 0.0000e+00 - recall@0.5/nervousness: 0.0000e+00 - precision@0.5/optimism: 0.0833 - recall@0.5/optimism: 0.1250 - precision@0.5/pride: 0.0000e+00 - recall@0.5/pride: 0.0000e+00 - precision@0.5/realization: 0.0000e+00 - recall@0.5/realization: 0.0000e+00 - precision@0.5/relief: 0.0000e+00 - recall@0.5/relief: 0.0000e+00 - precision@0.5/remorse: 0.0000e+00 - recall@0.5/remorse: 0.0000e+00 - precision@0.5/sadness: 0.0000e+00 - recall@0.5/sadness: 0.0000e+00 - precision@0.5/surprise: 0.0769 - recall@0.5/surprise: 0.2500 - precision@0.5/neutral: 0.5484 - recall@0.5/neutral: 0.2931 - precision@0.5/all: 0.1301 - recall@0.5/all: 0.2174 - custom_f1: 0.1632\n"
          ]
        }
      ],
      "source": [
        "model = build_model(base_layers.EVAL)\n",
        "\n",
        "# Define metrics over each category.\n",
        "metrics = []\n",
        "for i, label in enumerate(LABELS):\n",
        "  metric = tf.keras.metrics.Precision(\n",
        "      thresholds=[0.5],\n",
        "      class_id=i,\n",
        "      name='precision@0.5/{}'.format(label))\n",
        "  metrics.append(metric)\n",
        "  metric = tf.keras.metrics.Recall(\n",
        "      thresholds=[0.5],\n",
        "      class_id=i,\n",
        "      name='recall@0.5/{}'.format(label))\n",
        "  metrics.append(metric)\n",
        "\n",
        "# Define metrics over the entire task.\n",
        "metric = tf.keras.metrics.Precision(thresholds=[0.5], name='precision@0.5/all')\n",
        "metrics.append(metric)\n",
        "metric = tf.keras.metrics.Recall(thresholds=[0.5], name='recall@0.5/all')\n",
        "metrics.append(metric)\n",
        "metric = custom_f1\n",
        "metrics.append(metric)\n",
        "\n",
        "model.compile(metrics=metrics)\n",
        "\n",
        "model.load_weights(sp_filepath)\n",
        "\n",
        "#results = model.evaluate(test_dataset, verbose = 1, steps = 1000)\n",
        "#model.load_weights('model/model_checkpoint')\n",
        "result = model.evaluate(x=test_dataset, return_dict=True)"
      ]
    },
    {
      "cell_type": "code",
      "execution_count": null,
      "metadata": {
        "colab": {
          "base_uri": "https://localhost:8080/"
        },
        "id": "xmW8_k2VjXRK",
        "outputId": "579df88f-c8ce-42ca-c417-be2bd6d2d58e"
      },
      "outputs": [
        {
          "output_type": "stream",
          "name": "stdout",
          "text": [
            "admiration: (precision@0.5: 0.4000000059604645, recall@0.5: 0.5714285969734192)\n",
            "amusement: (precision@0.5: 0.03125, recall@0.5: 1.0)\n",
            "anger: (precision@0.5: 0.0555555559694767, recall@0.5: 0.3333333432674408)\n",
            "annoyance: (precision@0.5: 0.20000000298023224, recall@0.5: 0.125)\n",
            "approval: (precision@0.5: 0.20000000298023224, recall@0.5: 0.0625)\n",
            "caring: (precision@0.5: 0.0, recall@0.5: 0.0)\n",
            "confusion: (precision@0.5: 0.0, recall@0.5: 0.0)\n",
            "curiosity: (precision@0.5: 0.4000000059604645, recall@0.5: 0.4444444477558136)\n",
            "desire: (precision@0.5: 0.0, recall@0.5: 0.0)\n",
            "disappointment: (precision@0.5: 0.10000000149011612, recall@0.5: 0.125)\n",
            "disapproval: (precision@0.5: 0.4545454680919647, recall@0.5: 0.2380952388048172)\n",
            "disgust: (precision@0.5: 0.0, recall@0.5: 0.0)\n",
            "embarrassment: (precision@0.5: 0.0, recall@0.5: 0.0)\n",
            "excitement: (precision@0.5: 0.0, recall@0.5: 0.0)\n",
            "fear: (precision@0.5: 0.0, recall@0.5: 0.0)\n",
            "gratitude: (precision@0.5: 0.1304347813129425, recall@0.5: 1.0)\n",
            "grief: (precision@0.5: 0.0, recall@0.5: 0.0)\n",
            "joy: (precision@0.5: 0.0, recall@0.5: 0.0)\n",
            "love: (precision@0.5: 0.03703703731298447, recall@0.5: 0.5)\n",
            "nervousness: (precision@0.5: 0.0, recall@0.5: 0.0)\n",
            "optimism: (precision@0.5: 0.0833333358168602, recall@0.5: 0.125)\n",
            "pride: (precision@0.5: 0.0, recall@0.5: 0.0)\n",
            "realization: (precision@0.5: 0.0, recall@0.5: 0.0)\n",
            "relief: (precision@0.5: 0.0, recall@0.5: 0.0)\n",
            "remorse: (precision@0.5: 0.0, recall@0.5: 0.0)\n",
            "sadness: (precision@0.5: 0.0, recall@0.5: 0.0)\n",
            "surprise: (precision@0.5: 0.07692307978868484, recall@0.5: 0.25)\n",
            "neutral: (precision@0.5: 0.5483871102333069, recall@0.5: 0.2931034564971924)\n",
            "all: (precision@0.5: 0.13005779683589935, recall@0.5: 0.21739129722118378), f1-score 0.1627486365714353\n"
          ]
        }
      ],
      "source": [
        "for label in LABELS:\n",
        "  precision_key = 'precision@0.5/{}'.format(label)\n",
        "  recall_key = 'recall@0.5/{}'.format(label)\n",
        "  if precision_key in result and recall_key in result:\n",
        "    print('{}: (precision@0.5: {}, recall@0.5: {})'.format(\n",
        "        label, result[precision_key], result[recall_key]))\n",
        "    \n",
        "precision_key = 'precision@0.5/all'\n",
        "recall_key = 'recall@0.5/all'\n",
        "if precision_key in result and recall_key in result:\n",
        "  prec = result[precision_key]\n",
        "  rec = result[recall_key]\n",
        "  f1 = (2 * prec * rec) / (prec + rec)\n",
        "  print('all: (precision@0.5: {}, recall@0.5: {}), f1-score'.format(\n",
        "      result[precision_key], result[recall_key]), f1)"
      ]
    },
    {
      "cell_type": "markdown",
      "metadata": {
        "id": "NdvGTBaywuuq"
      },
      "source": [
        "Trial 2: Changing the learning rate "
      ]
    },
    {
      "cell_type": "code",
      "execution_count": null,
      "metadata": {
        "colab": {
          "base_uri": "https://localhost:8080/"
        },
        "id": "1Fmq8rDTwx_h",
        "outputId": "c4f803b4-36df-4f31-bc86-c0beb517f552"
      },
      "outputs": [
        {
          "output_type": "stream",
          "name": "stdout",
          "text": [
            "Epoch 1/10\n",
            " 999/1000 [============================>.] - ETA: 0s - loss: 0.4649 - accuracy: 0.8971 - precision: 0.1906 - recall: 0.3360 - custom_f1: 0.2475\n",
            "Epoch 1: saving model to /content/drive/MyDrive/266/finetune_changelr/changelr\n",
            "1000/1000 [==============================] - 33s 31ms/step - loss: 0.4649 - accuracy: 0.8971 - precision: 0.1906 - recall: 0.3361 - custom_f1: 0.2476 - val_loss: 0.4659 - val_accuracy: 0.8962 - val_precision: 0.1272 - val_recall: 0.2157 - val_custom_f1: 0.1700\n",
            "Epoch 2/10\n",
            " 999/1000 [============================>.] - ETA: 0s - loss: 0.4393 - accuracy: 0.9202 - precision: 0.2708 - recall: 0.3668 - custom_f1: 0.3148\n",
            "Epoch 2: saving model to /content/drive/MyDrive/266/finetune_changelr/changelr\n",
            "1000/1000 [==============================] - 29s 29ms/step - loss: 0.4393 - accuracy: 0.9202 - precision: 0.2707 - recall: 0.3668 - custom_f1: 0.3147 - val_loss: 0.4459 - val_accuracy: 0.9113 - val_precision: 0.1573 - val_recall: 0.2261 - val_custom_f1: 0.1861\n",
            "Epoch 3/10\n",
            " 999/1000 [============================>.] - ETA: 0s - loss: 0.4193 - accuracy: 0.9328 - precision: 0.3385 - recall: 0.3835 - custom_f1: 0.3618\n",
            "Epoch 3: saving model to /content/drive/MyDrive/266/finetune_changelr/changelr\n",
            "1000/1000 [==============================] - 29s 29ms/step - loss: 0.4193 - accuracy: 0.9328 - precision: 0.3384 - recall: 0.3836 - custom_f1: 0.3617 - val_loss: 0.4248 - val_accuracy: 0.9221 - val_precision: 0.2151 - val_recall: 0.2647 - val_custom_f1: 0.2347\n",
            "Epoch 4/10\n",
            " 999/1000 [============================>.] - ETA: 0s - loss: 0.4013 - accuracy: 0.9414 - precision: 0.4024 - recall: 0.3948 - custom_f1: 0.3997\n",
            "Epoch 4: saving model to /content/drive/MyDrive/266/finetune_changelr/changelr\n",
            "1000/1000 [==============================] - 29s 29ms/step - loss: 0.4013 - accuracy: 0.9414 - precision: 0.4024 - recall: 0.3948 - custom_f1: 0.3997 - val_loss: 0.4173 - val_accuracy: 0.9259 - val_precision: 0.2192 - val_recall: 0.2319 - val_custom_f1: 0.2266\n",
            "Epoch 5/10\n",
            " 999/1000 [============================>.] - ETA: 0s - loss: 0.3846 - accuracy: 0.9477 - precision: 0.4635 - recall: 0.4045 - custom_f1: 0.4329\n",
            "Epoch 5: saving model to /content/drive/MyDrive/266/finetune_changelr/changelr\n",
            "1000/1000 [==============================] - 29s 29ms/step - loss: 0.3846 - accuracy: 0.9476 - precision: 0.4634 - recall: 0.4045 - custom_f1: 0.4328 - val_loss: 0.4010 - val_accuracy: 0.9304 - val_precision: 0.2111 - val_recall: 0.1845 - val_custom_f1: 0.2027\n",
            "Epoch 6/10\n",
            " 999/1000 [============================>.] - ETA: 0s - loss: 0.3689 - accuracy: 0.9525 - precision: 0.5223 - recall: 0.4139 - custom_f1: 0.4623\n",
            "Epoch 6: saving model to /content/drive/MyDrive/266/finetune_changelr/changelr\n",
            "1000/1000 [==============================] - 29s 29ms/step - loss: 0.3689 - accuracy: 0.9525 - precision: 0.5223 - recall: 0.4139 - custom_f1: 0.4622 - val_loss: 0.3847 - val_accuracy: 0.9355 - val_precision: 0.2544 - val_recall: 0.2108 - val_custom_f1: 0.2284\n",
            "Epoch 7/10\n",
            " 999/1000 [============================>.] - ETA: 0s - loss: 0.3540 - accuracy: 0.9566 - precision: 0.5809 - recall: 0.4233 - custom_f1: 0.4900\n",
            "Epoch 7: saving model to /content/drive/MyDrive/266/finetune_changelr/changelr\n",
            "1000/1000 [==============================] - 29s 29ms/step - loss: 0.3540 - accuracy: 0.9566 - precision: 0.5808 - recall: 0.4233 - custom_f1: 0.4900 - val_loss: 0.3720 - val_accuracy: 0.9420 - val_precision: 0.3000 - val_recall: 0.2079 - val_custom_f1: 0.2463\n",
            "Epoch 8/10\n",
            " 999/1000 [============================>.] - ETA: 0s - loss: 0.3401 - accuracy: 0.9594 - precision: 0.6253 - recall: 0.4345 - custom_f1: 0.5129\n",
            "Epoch 8: saving model to /content/drive/MyDrive/266/finetune_changelr/changelr\n",
            "1000/1000 [==============================] - 29s 29ms/step - loss: 0.3401 - accuracy: 0.9594 - precision: 0.6254 - recall: 0.4345 - custom_f1: 0.5129 - val_loss: 0.3680 - val_accuracy: 0.9412 - val_precision: 0.2480 - val_recall: 0.1558 - val_custom_f1: 0.1914\n",
            "Epoch 9/10\n",
            " 999/1000 [============================>.] - ETA: 0s - loss: 0.3270 - accuracy: 0.9616 - precision: 0.6648 - recall: 0.4436 - custom_f1: 0.5324\n",
            "Epoch 9: saving model to /content/drive/MyDrive/266/finetune_changelr/changelr\n",
            "1000/1000 [==============================] - 29s 29ms/step - loss: 0.3270 - accuracy: 0.9616 - precision: 0.6647 - recall: 0.4436 - custom_f1: 0.5323 - val_loss: 0.3564 - val_accuracy: 0.9405 - val_precision: 0.2828 - val_recall: 0.2030 - val_custom_f1: 0.2351\n",
            "Epoch 10/10\n",
            " 999/1000 [============================>.] - ETA: 0s - loss: 0.3143 - accuracy: 0.9638 - precision: 0.7042 - recall: 0.4544 - custom_f1: 0.5523\n",
            "Epoch 10: saving model to /content/drive/MyDrive/266/finetune_changelr/changelr\n",
            "1000/1000 [==============================] - 29s 29ms/step - loss: 0.3143 - accuracy: 0.9638 - precision: 0.7043 - recall: 0.4545 - custom_f1: 0.5524 - val_loss: 0.3478 - val_accuracy: 0.9400 - val_precision: 0.2889 - val_recall: 0.1857 - val_custom_f1: 0.2262\n"
          ]
        }
      ],
      "source": [
        "# Remove any previous training data.\n",
        "!rm -rf model\n",
        "\n",
        "model = build_model(base_layers.TRAIN)\n",
        "\n",
        "optimizer = tf.keras.optimizers.Adam(learning_rate=0.00005)\n",
        "\n",
        "# Define the loss function.\n",
        "loss = tf.keras.losses.BinaryCrossentropy(from_logits=False)\n",
        "\n",
        "model.compile(optimizer=optimizer, loss=loss, metrics = [tf.keras.metrics.BinaryAccuracy('accuracy'),\n",
        "                                          tf.keras.metrics.Precision(),\n",
        "                                          tf.keras.metrics.Recall(),\n",
        "                                          custom_f1])\n",
        "\n",
        "sp_filepath = '/content/drive/MyDrive/266/finetune_changelr/changelr'\n",
        "\n",
        "model_checkpoint_callback = ModelCheckpoint(\n",
        "    filepath = sp_filepath, \n",
        "    save_weights_only=True,\n",
        "    verbose = 1)\n",
        "\n",
        "model.load_weights(original_model)\n",
        "\n",
        "epochs = int(CONFIG['train_steps'] / CONFIG['save_checkpoints_steps'])\n",
        "history_2 = model.fit(\n",
        "    x=train_dataset,\n",
        "    epochs=epochs,\n",
        "    validation_data=val_dataset,\n",
        "    steps_per_epoch=CONFIG['save_checkpoints_steps'],\n",
        "    callbacks=[model_checkpoint_callback])"
      ]
    },
    {
      "cell_type": "code",
      "execution_count": null,
      "metadata": {
        "colab": {
          "base_uri": "https://localhost:8080/",
          "height": 295
        },
        "id": "7B2K4cOF3S1R",
        "outputId": "c9c979d2-8b86-4ead-fb55-4cba3adeda3f"
      },
      "outputs": [
        {
          "output_type": "display_data",
          "data": {
            "text/plain": [
              "<Figure size 432x288 with 1 Axes>"
            ],
            "image/png": "[encoded data removed]"
          },
          "metadata": {
            "needs_background": "light"
          }
        }
      ],
      "source": [
        "plt.plot(history_2.history['custom_f1'])\n",
        "plt.plot(history_2.history['val_custom_f1'])\n",
        "plt.title('model f1-score during training')\n",
        "plt.ylabel('f1-score')\n",
        "plt.xlabel('epoch')\n",
        "plt.ylim([0,1])\n",
        "plt.legend(['train', 'test'], loc='upper left')\n",
        "plt.show()"
      ]
    },
    {
      "cell_type": "code",
      "execution_count": null,
      "metadata": {
        "colab": {
          "base_uri": "https://localhost:8080/",
          "height": 295
        },
        "id": "yS9iOsAc4jtV",
        "outputId": "eb1f4441-1748-4604-ec96-e4d530471107"
      },
      "outputs": [
        {
          "output_type": "display_data",
          "data": {
            "text/plain": [
              "<Figure size 432x288 with 1 Axes>"
            ],
            "image/png": "[encoded data removed]"
          },
          "metadata": {
            "needs_background": "light"
          }
        }
      ],
      "source": [
        "plt.plot(history_2.history['accuracy'])\n",
        "plt.plot(history_2.history['val_accuracy'])\n",
        "plt.title('model binary accuracy during training')\n",
        "plt.ylabel('binary accuracy')\n",
        "plt.xlabel('epoch')\n",
        "plt.legend(['train', 'dev'], loc='upper left')\n",
        "plt.show()"
      ]
    },
    {
      "cell_type": "code",
      "execution_count": null,
      "metadata": {
        "id": "iMy6cVAayuCd"
      },
      "outputs": [],
      "source": [
        "sp_filepath = '/content/drive/MyDrive/266/finetune_changelr/changelr'"
      ]
    },
    {
      "cell_type": "code",
      "execution_count": null,
      "metadata": {
        "colab": {
          "base_uri": "https://localhost:8080/"
        },
        "id": "XON64EMg_ZHF",
        "outputId": "51c388ce-941c-45c3-8655-91bc054de8b6"
      },
      "outputs": [
        {
          "output_type": "stream",
          "name": "stdout",
          "text": [
            "WARNING:tensorflow:Detecting that an object or model or tf.train.Checkpoint is being deleted with unrestored values. See the following logs for the specific values in question. To silence these warnings, use `status.expect_partial()`. See https://www.tensorflow.org/api_docs/python/tf/train/Checkpoint#restorefor details about the status object returned by the restore function.\n"
          ]
        },
        {
          "output_type": "stream",
          "name": "stderr",
          "text": [
            "WARNING:tensorflow:Detecting that an object or model or tf.train.Checkpoint is being deleted with unrestored values. See the following logs for the specific values in question. To silence these warnings, use `status.expect_partial()`. See https://www.tensorflow.org/api_docs/python/tf/train/Checkpoint#restorefor details about the status object returned by the restore function.\n"
          ]
        },
        {
          "output_type": "stream",
          "name": "stdout",
          "text": [
            "WARNING:tensorflow:Value in checkpoint could not be found in the restored object: (root).optimizer.iter\n"
          ]
        },
        {
          "output_type": "stream",
          "name": "stderr",
          "text": [
            "WARNING:tensorflow:Value in checkpoint could not be found in the restored object: (root).optimizer.iter\n"
          ]
        },
        {
          "output_type": "stream",
          "name": "stdout",
          "text": [
            "WARNING:tensorflow:Value in checkpoint could not be found in the restored object: (root).optimizer.beta_1\n"
          ]
        },
        {
          "output_type": "stream",
          "name": "stderr",
          "text": [
            "WARNING:tensorflow:Value in checkpoint could not be found in the restored object: (root).optimizer.beta_1\n"
          ]
        },
        {
          "output_type": "stream",
          "name": "stdout",
          "text": [
            "WARNING:tensorflow:Value in checkpoint could not be found in the restored object: (root).optimizer.beta_2\n"
          ]
        },
        {
          "output_type": "stream",
          "name": "stderr",
          "text": [
            "WARNING:tensorflow:Value in checkpoint could not be found in the restored object: (root).optimizer.beta_2\n"
          ]
        },
        {
          "output_type": "stream",
          "name": "stdout",
          "text": [
            "WARNING:tensorflow:Value in checkpoint could not be found in the restored object: (root).optimizer.decay\n"
          ]
        },
        {
          "output_type": "stream",
          "name": "stderr",
          "text": [
            "WARNING:tensorflow:Value in checkpoint could not be found in the restored object: (root).optimizer.decay\n"
          ]
        },
        {
          "output_type": "stream",
          "name": "stdout",
          "text": [
            "WARNING:tensorflow:5 out of the last 13 calls to <function Model.make_test_function.<locals>.test_function at 0x7eff03731290> triggered tf.function retracing. Tracing is expensive and the excessive number of tracings could be due to (1) creating @tf.function repeatedly in a loop, (2) passing tensors with different shapes, (3) passing Python objects instead of tensors. For (1), please define your @tf.function outside of the loop. For (2), @tf.function has experimental_relax_shapes=True option that relaxes argument shapes that can avoid unnecessary retracing. For (3), please refer to https://www.tensorflow.org/guide/function#controlling_retracing and https://www.tensorflow.org/api_docs/python/tf/function for  more details.\n"
          ]
        },
        {
          "output_type": "stream",
          "name": "stderr",
          "text": [
            "WARNING:tensorflow:5 out of the last 13 calls to <function Model.make_test_function.<locals>.test_function at 0x7eff03731290> triggered tf.function retracing. Tracing is expensive and the excessive number of tracings could be due to (1) creating @tf.function repeatedly in a loop, (2) passing tensors with different shapes, (3) passing Python objects instead of tensors. For (1), please define your @tf.function outside of the loop. For (2), @tf.function has experimental_relax_shapes=True option that relaxes argument shapes that can avoid unnecessary retracing. For (3), please refer to https://www.tensorflow.org/guide/function#controlling_retracing and https://www.tensorflow.org/api_docs/python/tf/function for  more details.\n"
          ]
        },
        {
          "output_type": "stream",
          "name": "stdout",
          "text": [
            "3/3 [==============================] - 10s 39ms/step - loss: 0.3326 - precision@0.5/admiration: 0.6667 - recall@0.5/admiration: 0.1250 - precision@0.5/amusement: 0.3333 - recall@0.5/amusement: 1.0000 - precision@0.5/anger: 0.0000e+00 - recall@0.5/anger: 0.0000e+00 - precision@0.5/annoyance: 0.0000e+00 - recall@0.5/annoyance: 0.0000e+00 - precision@0.5/approval: 0.0000e+00 - recall@0.5/approval: 0.0000e+00 - precision@0.5/caring: 0.0000e+00 - recall@0.5/caring: 0.0000e+00 - precision@0.5/confusion: 0.5000 - recall@0.5/confusion: 0.3333 - precision@0.5/curiosity: 0.2500 - recall@0.5/curiosity: 0.1667 - precision@0.5/desire: 0.0000e+00 - recall@0.5/desire: 0.0000e+00 - precision@0.5/disappointment: 0.0000e+00 - recall@0.5/disappointment: 0.0000e+00 - precision@0.5/disapproval: 0.6000 - recall@0.5/disapproval: 0.1667 - precision@0.5/disgust: 0.0000e+00 - recall@0.5/disgust: 0.0000e+00 - precision@0.5/embarrassment: 0.0000e+00 - recall@0.5/embarrassment: 0.0000e+00 - precision@0.5/excitement: 0.0000e+00 - recall@0.5/excitement: 0.0000e+00 - precision@0.5/fear: 0.0000e+00 - recall@0.5/fear: 0.0000e+00 - precision@0.5/gratitude: 0.5000 - recall@0.5/gratitude: 1.0000 - precision@0.5/grief: 0.0000e+00 - recall@0.5/grief: 0.0000e+00 - precision@0.5/joy: 1.0000 - recall@0.5/joy: 1.0000 - precision@0.5/love: 1.0000 - recall@0.5/love: 0.5000 - precision@0.5/nervousness: 0.0000e+00 - recall@0.5/nervousness: 0.0000e+00 - precision@0.5/optimism: 0.0000e+00 - recall@0.5/optimism: 0.0000e+00 - precision@0.5/pride: 0.0000e+00 - recall@0.5/pride: 0.0000e+00 - precision@0.5/realization: 0.0000e+00 - recall@0.5/realization: 0.0000e+00 - precision@0.5/relief: 0.0000e+00 - recall@0.5/relief: 0.0000e+00 - precision@0.5/remorse: 0.0000e+00 - recall@0.5/remorse: 0.0000e+00 - precision@0.5/sadness: 0.0000e+00 - recall@0.5/sadness: 0.0000e+00 - precision@0.5/surprise: 0.0000e+00 - recall@0.5/surprise: 0.0000e+00 - precision@0.5/neutral: 0.4516 - recall@0.5/neutral: 0.2414 - precision@0.5/all: 0.4127 - recall@0.5/all: 0.1320 - custom_f1: 0.1983 - accuracy: 0.9533\n"
          ]
        }
      ],
      "source": [
        "model = build_model(base_layers.EVAL)\n",
        "\n",
        "# Define metrics over each category.\n",
        "metrics = []\n",
        "for i, label in enumerate(LABELS):\n",
        "  metric = tf.keras.metrics.Precision(\n",
        "      thresholds=[0.5],\n",
        "      class_id=i,\n",
        "      name='precision@0.5/{}'.format(label))\n",
        "  metrics.append(metric)\n",
        "  metric = tf.keras.metrics.Recall(\n",
        "      thresholds=[0.5],\n",
        "      class_id=i,\n",
        "      name='recall@0.5/{}'.format(label))\n",
        "  metrics.append(metric)\n",
        "\n",
        "# Define metrics over the entire task.\n",
        "metric = tf.keras.metrics.Precision(thresholds=[0.5], name='precision@0.5/all')\n",
        "metrics.append(metric)\n",
        "metric = tf.keras.metrics.Recall(thresholds=[0.5], name='recall@0.5/all')\n",
        "metrics.append(metric)\n",
        "metric = custom_f1\n",
        "metrics.append(metric)\n",
        "metric = tf.keras.metrics.BinaryAccuracy('accuracy')\n",
        "metrics.append(metric)\n",
        "\n",
        "optimizer = tf.keras.optimizers.Adam(learning_rate=0.00005)\n",
        "\n",
        "loss = tf.keras.losses.BinaryCrossentropy(from_logits=False)\n",
        "\n",
        "model.compile(metrics=metrics, loss=loss)\n",
        "\n",
        "model.load_weights(sp_filepath)\n",
        "\n",
        "#results = model.evaluate(test_dataset, verbose = 1, steps = 1000)\n",
        "#model.load_weights('model/model_checkpoint')\n",
        "result = model.evaluate(x=test_dataset, return_dict=True)"
      ]
    },
    {
      "cell_type": "code",
      "execution_count": null,
      "metadata": {
        "colab": {
          "base_uri": "https://localhost:8080/"
        },
        "id": "-NMjzTUh_e8K",
        "outputId": "129afc2f-89fb-48fd-d7cd-ecbde4578501"
      },
      "outputs": [
        {
          "output_type": "stream",
          "name": "stdout",
          "text": [
            "admiration: (precision@0.5: 0.0, recall@0.5: 0.0)\n",
            "amusement: (precision@0.5: 0.5, recall@0.5: 1.0)\n",
            "anger: (precision@0.5: 1.0, recall@0.5: 0.3333333432674408)\n",
            "annoyance: (precision@0.5: 0.0, recall@0.5: 0.0)\n",
            "approval: (precision@0.5: 0.0, recall@0.5: 0.0)\n",
            "caring: (precision@0.5: 0.0, recall@0.5: 0.0)\n",
            "confusion: (precision@0.5: 0.5, recall@0.5: 0.20000000298023224)\n",
            "curiosity: (precision@0.5: 0.4000000059604645, recall@0.5: 0.25)\n",
            "desire: (precision@0.5: 0.0, recall@0.5: 0.0)\n",
            "disappointment: (precision@0.5: 0.0, recall@0.5: 0.0)\n",
            "disapproval: (precision@0.5: 0.5714285969734192, recall@0.5: 0.17391304671764374)\n",
            "disgust: (precision@0.5: 0.0, recall@0.5: 0.0)\n",
            "embarrassment: (precision@0.5: 0.0, recall@0.5: 0.0)\n",
            "excitement: (precision@0.5: 0.0, recall@0.5: 0.0)\n",
            "fear: (precision@0.5: 0.0, recall@0.5: 0.0)\n",
            "gratitude: (precision@0.5: 0.75, recall@0.5: 1.0)\n",
            "grief: (precision@0.5: 0.0, recall@0.5: 0.0)\n",
            "joy: (precision@0.5: 0.0, recall@0.5: 0.0)\n",
            "love: (precision@0.5: 0.0, recall@0.5: 0.0)\n",
            "nervousness: (precision@0.5: 0.0, recall@0.5: 0.0)\n",
            "optimism: (precision@0.5: 0.0, recall@0.5: 0.0)\n",
            "pride: (precision@0.5: 0.0, recall@0.5: 0.0)\n",
            "realization: (precision@0.5: 0.0, recall@0.5: 0.0)\n",
            "relief: (precision@0.5: 0.0, recall@0.5: 0.0)\n",
            "remorse: (precision@0.5: 0.0, recall@0.5: 0.0)\n",
            "sadness: (precision@0.5: 0.0, recall@0.5: 0.0)\n",
            "surprise: (precision@0.5: 0.0, recall@0.5: 0.0)\n",
            "neutral: (precision@0.5: 0.4838709533214569, recall@0.5: 0.2586206793785095)\n",
            "all: (precision@0.5: 0.4354838728904724, recall@0.5: 0.13106796145439148), f1-score 0.2014925378611476\n"
          ]
        }
      ],
      "source": [
        "for label in LABELS:\n",
        "  precision_key = 'precision@0.5/{}'.format(label)\n",
        "  recall_key = 'recall@0.5/{}'.format(label)\n",
        "  if precision_key in result and recall_key in result:\n",
        "    print('{}: (precision@0.5: {}, recall@0.5: {})'.format(\n",
        "        label, result[precision_key], result[recall_key]))\n",
        "    \n",
        "precision_key = 'precision@0.5/all'\n",
        "recall_key = 'recall@0.5/all'\n",
        "if precision_key in result and recall_key in result:\n",
        "  prec = result[precision_key]\n",
        "  rec = result[recall_key]\n",
        "  f1 = (2 * prec * rec) / (prec + rec)\n",
        "  print('all: (precision@0.5: {}, recall@0.5: {}), f1-score'.format(\n",
        "      result[precision_key], result[recall_key]), f1)"
      ]
    },
    {
      "cell_type": "code",
      "execution_count": null,
      "metadata": {
        "id": "dLxf9t8xEi1C"
      },
      "outputs": [],
      "source": [
        "import numpy as np\n",
        "import matplotlib.pyplot as plt\n",
        "from matplotlib import *\n",
        "import sys\n",
        "from pylab import *\n",
        "import seaborn as sns"
      ]
    },
    {
      "cell_type": "markdown",
      "metadata": {
        "id": "Ix67N_4Z7k4K"
      },
      "source": [
        "Freezing - Freeze all layers"
      ]
    },
    {
      "cell_type": "code",
      "execution_count": null,
      "metadata": {
        "colab": {
          "base_uri": "https://localhost:8080/"
        },
        "id": "AuSpQJiw1Udp",
        "outputId": "9bbb1ba2-1227-4014-d4f1-5b3333c62a96"
      },
      "outputs": [
        {
          "output_type": "stream",
          "name": "stdout",
          "text": [
            "Epoch 1/10\n",
            "1000/1000 [==============================] - ETA: 0s - loss: 0.4835 - accuracy: 0.8842 - precision_1: 0.1305 - recall_1: 0.2390 - custom_f1: 0.1710\n",
            "Epoch 1: saving model to /content/drive/MyDrive/266/freezing/all\n",
            "1000/1000 [==============================] - 48s 46ms/step - loss: 0.4835 - accuracy: 0.8842 - precision_1: 0.1305 - recall_1: 0.2390 - custom_f1: 0.1710 - val_loss: 0.4867 - val_accuracy: 0.8704 - val_precision_1: 0.1171 - val_recall_1: 0.2612 - val_custom_f1: 0.1617\n",
            "Epoch 2/10\n",
            "1000/1000 [==============================] - ETA: 0s - loss: 0.4835 - accuracy: 0.8840 - precision_1: 0.1307 - recall_1: 0.2402 - custom_f1: 0.1710\n",
            "Epoch 2: saving model to /content/drive/MyDrive/266/freezing/all\n",
            "1000/1000 [==============================] - 45s 45ms/step - loss: 0.4835 - accuracy: 0.8840 - precision_1: 0.1307 - recall_1: 0.2402 - custom_f1: 0.1710 - val_loss: 0.4856 - val_accuracy: 0.9079 - val_precision_1: 0.1526 - val_recall_1: 0.2302 - val_custom_f1: 0.1835\n",
            "Epoch 3/10\n",
            " 999/1000 [============================>.] - ETA: 0s - loss: 0.4833 - accuracy: 0.8841 - precision_1: 0.1315 - recall_1: 0.2418 - custom_f1: 0.1721\n",
            "Epoch 3: saving model to /content/drive/MyDrive/266/freezing/all\n",
            "1000/1000 [==============================] - 45s 45ms/step - loss: 0.4834 - accuracy: 0.8841 - precision_1: 0.1315 - recall_1: 0.2418 - custom_f1: 0.1721 - val_loss: 0.4914 - val_accuracy: 0.8539 - val_precision_1: 0.0755 - val_recall_1: 0.1953 - val_custom_f1: 0.1089\n",
            "Epoch 4/10\n",
            " 999/1000 [============================>.] - ETA: 0s - loss: 0.4833 - accuracy: 0.8848 - precision_1: 0.1312 - recall_1: 0.2385 - custom_f1: 0.1708\n",
            "Epoch 4: saving model to /content/drive/MyDrive/266/freezing/all\n",
            "1000/1000 [==============================] - 45s 45ms/step - loss: 0.4834 - accuracy: 0.8848 - precision_1: 0.1312 - recall_1: 0.2385 - custom_f1: 0.1708 - val_loss: 0.5004 - val_accuracy: 0.8443 - val_precision_1: 0.0836 - val_recall_1: 0.2441 - val_custom_f1: 0.1245\n",
            "Epoch 5/10\n",
            "1000/1000 [==============================] - ETA: 0s - loss: 0.4833 - accuracy: 0.8840 - precision_1: 0.1313 - recall_1: 0.2415 - custom_f1: 0.1723\n",
            "Epoch 5: saving model to /content/drive/MyDrive/266/freezing/all\n",
            "1000/1000 [==============================] - 45s 45ms/step - loss: 0.4833 - accuracy: 0.8840 - precision_1: 0.1313 - recall_1: 0.2415 - custom_f1: 0.1723 - val_loss: 0.4901 - val_accuracy: 0.8611 - val_precision_1: 0.0938 - val_recall_1: 0.2326 - val_custom_f1: 0.1336\n",
            "Epoch 6/10\n",
            "1000/1000 [==============================] - ETA: 0s - loss: 0.4832 - accuracy: 0.8842 - precision_1: 0.1313 - recall_1: 0.2408 - custom_f1: 0.1719\n",
            "Epoch 6: saving model to /content/drive/MyDrive/266/freezing/all\n",
            "1000/1000 [==============================] - 45s 45ms/step - loss: 0.4832 - accuracy: 0.8842 - precision_1: 0.1313 - recall_1: 0.2408 - custom_f1: 0.1719 - val_loss: 0.4809 - val_accuracy: 0.8782 - val_precision_1: 0.1472 - val_recall_1: 0.3385 - val_custom_f1: 0.2051\n",
            "Epoch 7/10\n",
            "1000/1000 [==============================] - ETA: 0s - loss: 0.4834 - accuracy: 0.8839 - precision_1: 0.1303 - recall_1: 0.2398 - custom_f1: 0.1707\n",
            "Epoch 7: saving model to /content/drive/MyDrive/266/freezing/all\n",
            "1000/1000 [==============================] - 45s 45ms/step - loss: 0.4834 - accuracy: 0.8839 - precision_1: 0.1303 - recall_1: 0.2398 - custom_f1: 0.1707 - val_loss: 0.4889 - val_accuracy: 0.8793 - val_precision_1: 0.1062 - val_recall_1: 0.2358 - val_custom_f1: 0.1465\n",
            "Epoch 8/10\n",
            "1000/1000 [==============================] - ETA: 0s - loss: 0.4834 - accuracy: 0.8841 - precision_1: 0.1309 - recall_1: 0.2402 - custom_f1: 0.1712\n",
            "Epoch 8: saving model to /content/drive/MyDrive/266/freezing/all\n",
            "1000/1000 [==============================] - 45s 45ms/step - loss: 0.4834 - accuracy: 0.8841 - precision_1: 0.1309 - recall_1: 0.2402 - custom_f1: 0.1712 - val_loss: 0.4845 - val_accuracy: 0.8711 - val_precision_1: 0.1111 - val_recall_1: 0.2538 - val_custom_f1: 0.1546\n",
            "Epoch 9/10\n",
            "1000/1000 [==============================] - ETA: 0s - loss: 0.4834 - accuracy: 0.8841 - precision_1: 0.1309 - recall_1: 0.2402 - custom_f1: 0.1712\n",
            "Epoch 9: saving model to /content/drive/MyDrive/266/freezing/all\n",
            "1000/1000 [==============================] - 45s 45ms/step - loss: 0.4834 - accuracy: 0.8841 - precision_1: 0.1309 - recall_1: 0.2402 - custom_f1: 0.1712 - val_loss: 0.4869 - val_accuracy: 0.8721 - val_precision_1: 0.1163 - val_recall_1: 0.2756 - val_custom_f1: 0.1636\n",
            "Epoch 10/10\n",
            " 999/1000 [============================>.] - ETA: 0s - loss: 0.4834 - accuracy: 0.8843 - precision_1: 0.1306 - recall_1: 0.2389 - custom_f1: 0.1709\n",
            "Epoch 10: saving model to /content/drive/MyDrive/266/freezing/all\n",
            "1000/1000 [==============================] - 45s 45ms/step - loss: 0.4834 - accuracy: 0.8843 - precision_1: 0.1306 - recall_1: 0.2389 - custom_f1: 0.1709 - val_loss: 0.4821 - val_accuracy: 0.8711 - val_precision_1: 0.1226 - val_recall_1: 0.2992 - val_custom_f1: 0.1739\n"
          ]
        },
        {
          "output_type": "execute_result",
          "data": {
            "text/plain": [
              "<keras.callbacks.History at 0x7f4528db6b10>"
            ]
          },
          "metadata": {},
          "execution_count": 49
        }
      ],
      "source": [
        "# Remove any previous training data.\n",
        "!rm -rf model\n",
        "\n",
        "model = build_model(base_layers.TRAIN)\n",
        "\n",
        "# Create the optimizer.\n",
        "learning_rate = tf.keras.optimizers.schedules.ExponentialDecay(\n",
        "    initial_learning_rate=CONFIG['learning_rate'],\n",
        "    decay_rate=CONFIG['learning_rate_decay_rate'],\n",
        "    decay_steps=CONFIG['learning_rate_decay_steps'],\n",
        "    staircase=True)\n",
        "\n",
        "optimizer = tf.keras.optimizers.Adam(learning_rate=learning_rate)\n",
        "\n",
        "# Define the loss function.\n",
        "loss = tf.keras.losses.BinaryCrossentropy(from_logits=False)\n",
        "\n",
        "model.compile(optimizer=optimizer, loss=loss, metrics = [tf.keras.metrics.BinaryAccuracy('accuracy'),\n",
        "                                          tf.keras.metrics.Precision(),\n",
        "                                          tf.keras.metrics.Recall(),\n",
        "                                          custom_f1])\n",
        "\n",
        "fl_filepath = '/content/drive/MyDrive/266/freezing/all'\n",
        "\n",
        "model_checkpoint_callback = ModelCheckpoint(\n",
        "    filepath = fl_filepath, \n",
        "    save_weights_only=True,\n",
        "    verbose = 1)\n",
        "\n",
        "model.load_weights(original_model)\n",
        "\n",
        "model.trainable = False\n",
        "\n",
        "epochs = int(CONFIG['train_steps'] / CONFIG['save_checkpoints_steps'])\n",
        "model.fit(\n",
        "    x=train_dataset,\n",
        "    epochs=epochs,\n",
        "    validation_data=val_dataset,\n",
        "    steps_per_epoch=CONFIG['save_checkpoints_steps'],\n",
        "    callbacks=[model_checkpoint_callback])"
      ]
    },
    {
      "cell_type": "code",
      "execution_count": null,
      "metadata": {
        "colab": {
          "base_uri": "https://localhost:8080/"
        },
        "id": "h6toPzy54QPZ",
        "outputId": "cf80d504-8e8a-4dd6-d109-d63f1a13f043"
      },
      "outputs": [
        {
          "output_type": "stream",
          "name": "stdout",
          "text": [
            "WARNING:tensorflow:Detecting that an object or model or tf.train.Checkpoint is being deleted with unrestored values. See the following logs for the specific values in question. To silence these warnings, use `status.expect_partial()`. See https://www.tensorflow.org/api_docs/python/tf/train/Checkpoint#restorefor details about the status object returned by the restore function.\n"
          ]
        },
        {
          "output_type": "stream",
          "name": "stderr",
          "text": [
            "WARNING:tensorflow:Detecting that an object or model or tf.train.Checkpoint is being deleted with unrestored values. See the following logs for the specific values in question. To silence these warnings, use `status.expect_partial()`. See https://www.tensorflow.org/api_docs/python/tf/train/Checkpoint#restorefor details about the status object returned by the restore function.\n"
          ]
        },
        {
          "output_type": "stream",
          "name": "stdout",
          "text": [
            "WARNING:tensorflow:Value in checkpoint could not be found in the restored object: (root).optimizer.iter\n"
          ]
        },
        {
          "output_type": "stream",
          "name": "stderr",
          "text": [
            "WARNING:tensorflow:Value in checkpoint could not be found in the restored object: (root).optimizer.iter\n"
          ]
        },
        {
          "output_type": "stream",
          "name": "stdout",
          "text": [
            "WARNING:tensorflow:Value in checkpoint could not be found in the restored object: (root).optimizer.beta_1\n"
          ]
        },
        {
          "output_type": "stream",
          "name": "stderr",
          "text": [
            "WARNING:tensorflow:Value in checkpoint could not be found in the restored object: (root).optimizer.beta_1\n"
          ]
        },
        {
          "output_type": "stream",
          "name": "stdout",
          "text": [
            "WARNING:tensorflow:Value in checkpoint could not be found in the restored object: (root).optimizer.beta_2\n"
          ]
        },
        {
          "output_type": "stream",
          "name": "stderr",
          "text": [
            "WARNING:tensorflow:Value in checkpoint could not be found in the restored object: (root).optimizer.beta_2\n"
          ]
        },
        {
          "output_type": "stream",
          "name": "stdout",
          "text": [
            "WARNING:tensorflow:Value in checkpoint could not be found in the restored object: (root).optimizer.decay\n"
          ]
        },
        {
          "output_type": "stream",
          "name": "stderr",
          "text": [
            "WARNING:tensorflow:Value in checkpoint could not be found in the restored object: (root).optimizer.decay\n"
          ]
        },
        {
          "output_type": "stream",
          "name": "stdout",
          "text": [
            "WARNING:tensorflow:Value in checkpoint could not be found in the restored object: (root).optimizer.learning_rate\n"
          ]
        },
        {
          "output_type": "stream",
          "name": "stderr",
          "text": [
            "WARNING:tensorflow:Value in checkpoint could not be found in the restored object: (root).optimizer.learning_rate\n"
          ]
        },
        {
          "output_type": "stream",
          "name": "stdout",
          "text": [
            "1/1 [==============================] - 6s 6s/step - loss: 0.0000e+00 - precision@0.5/admiration: 0.2857 - recall@0.5/admiration: 0.1538 - precision@0.5/amusement: 0.0667 - recall@0.5/amusement: 1.0000 - precision@0.5/anger: 0.0000e+00 - recall@0.5/anger: 0.0000e+00 - precision@0.5/annoyance: 0.0000e+00 - recall@0.5/annoyance: 0.0000e+00 - precision@0.5/approval: 0.5000 - recall@0.5/approval: 0.0909 - precision@0.5/caring: 0.0000e+00 - recall@0.5/caring: 0.0000e+00 - precision@0.5/confusion: 0.0000e+00 - recall@0.5/confusion: 0.0000e+00 - precision@0.5/curiosity: 0.3750 - recall@0.5/curiosity: 0.7500 - precision@0.5/desire: 0.0000e+00 - recall@0.5/desire: 0.0000e+00 - precision@0.5/disappointment: 0.0000e+00 - recall@0.5/disappointment: 0.0000e+00 - precision@0.5/disapproval: 0.1429 - recall@0.5/disapproval: 0.0667 - precision@0.5/disgust: 0.0000e+00 - recall@0.5/disgust: 0.0000e+00 - precision@0.5/embarrassment: 0.0000e+00 - recall@0.5/embarrassment: 0.0000e+00 - precision@0.5/excitement: 0.0000e+00 - recall@0.5/excitement: 0.0000e+00 - precision@0.5/fear: 0.0000e+00 - recall@0.5/fear: 0.0000e+00 - precision@0.5/gratitude: 0.6667 - recall@0.5/gratitude: 1.0000 - precision@0.5/grief: 0.0000e+00 - recall@0.5/grief: 0.0000e+00 - precision@0.5/joy: 0.0000e+00 - recall@0.5/joy: 0.0000e+00 - precision@0.5/love: 0.0500 - recall@0.5/love: 1.0000 - precision@0.5/nervousness: 0.0000e+00 - recall@0.5/nervousness: 0.0000e+00 - precision@0.5/optimism: 0.0769 - recall@0.5/optimism: 0.2000 - precision@0.5/pride: 0.0000e+00 - recall@0.5/pride: 0.0000e+00 - precision@0.5/realization: 0.0000e+00 - recall@0.5/realization: 0.0000e+00 - precision@0.5/relief: 0.0000e+00 - recall@0.5/relief: 0.0000e+00 - precision@0.5/remorse: 0.0000e+00 - recall@0.5/remorse: 0.0000e+00 - precision@0.5/sadness: 0.0000e+00 - recall@0.5/sadness: 0.0000e+00 - precision@0.5/surprise: 0.0000e+00 - recall@0.5/surprise: 0.0000e+00 - precision@0.5/neutral: 0.5263 - recall@0.5/neutral: 0.2381 - precision@0.5/all: 0.1477 - recall@0.5/all: 0.1705\n"
          ]
        }
      ],
      "source": [
        "model = build_model(base_layers.EVAL)\n",
        "\n",
        "# Define metrics over each category.\n",
        "metrics = []\n",
        "for i, label in enumerate(LABELS):\n",
        "  metric = tf.keras.metrics.Precision(\n",
        "      thresholds=[0.5],\n",
        "      class_id=i,\n",
        "      name='precision@0.5/{}'.format(label))\n",
        "  metrics.append(metric)\n",
        "  metric = tf.keras.metrics.Recall(\n",
        "      thresholds=[0.5],\n",
        "      class_id=i,\n",
        "      name='recall@0.5/{}'.format(label))\n",
        "  metrics.append(metric)\n",
        "\n",
        "# Define metrics over the entire task.\n",
        "metric = tf.keras.metrics.Precision(thresholds=[0.5], name='precision@0.5/all')\n",
        "metrics.append(metric)\n",
        "metric = tf.keras.metrics.Recall(thresholds=[0.5], name='recall@0.5/all')\n",
        "metrics.append(metric)\n",
        "\n",
        "model.compile(metrics=metrics)\n",
        "\n",
        "model.load_weights(fl_filepath)\n",
        "\n",
        "#results = model.evaluate(test_dataset, verbose = 1, steps = 1000)\n",
        "#model.load_weights('model/model_checkpoint')\n",
        "result = model.evaluate(x=test_dataset, return_dict=True)"
      ]
    },
    {
      "cell_type": "code",
      "execution_count": null,
      "metadata": {
        "colab": {
          "base_uri": "https://localhost:8080/"
        },
        "id": "8xGsnHiB4pby",
        "outputId": "b0df18ad-dc51-42e8-989f-8b7cbde8c20e"
      },
      "outputs": [
        {
          "output_type": "stream",
          "name": "stdout",
          "text": [
            "admiration: (precision@0.5: 0.2857142984867096, recall@0.5: 0.1538461595773697)\n",
            "amusement: (precision@0.5: 0.06666667014360428, recall@0.5: 1.0)\n",
            "anger: (precision@0.5: 0.0, recall@0.5: 0.0)\n",
            "annoyance: (precision@0.5: 0.0, recall@0.5: 0.0)\n",
            "approval: (precision@0.5: 0.5, recall@0.5: 0.09090909361839294)\n",
            "caring: (precision@0.5: 0.0, recall@0.5: 0.0)\n",
            "confusion: (precision@0.5: 0.0, recall@0.5: 0.0)\n",
            "curiosity: (precision@0.5: 0.375, recall@0.5: 0.75)\n",
            "desire: (precision@0.5: 0.0, recall@0.5: 0.0)\n",
            "disappointment: (precision@0.5: 0.0, recall@0.5: 0.0)\n",
            "disapproval: (precision@0.5: 0.1428571492433548, recall@0.5: 0.06666667014360428)\n",
            "disgust: (precision@0.5: 0.0, recall@0.5: 0.0)\n",
            "embarrassment: (precision@0.5: 0.0, recall@0.5: 0.0)\n",
            "excitement: (precision@0.5: 0.0, recall@0.5: 0.0)\n",
            "fear: (precision@0.5: 0.0, recall@0.5: 0.0)\n",
            "gratitude: (precision@0.5: 0.6666666865348816, recall@0.5: 1.0)\n",
            "grief: (precision@0.5: 0.0, recall@0.5: 0.0)\n",
            "joy: (precision@0.5: 0.0, recall@0.5: 0.0)\n",
            "love: (precision@0.5: 0.05000000074505806, recall@0.5: 1.0)\n",
            "nervousness: (precision@0.5: 0.0, recall@0.5: 0.0)\n",
            "optimism: (precision@0.5: 0.07692307978868484, recall@0.5: 0.20000000298023224)\n",
            "pride: (precision@0.5: 0.0, recall@0.5: 0.0)\n",
            "realization: (precision@0.5: 0.0, recall@0.5: 0.0)\n",
            "relief: (precision@0.5: 0.0, recall@0.5: 0.0)\n",
            "remorse: (precision@0.5: 0.0, recall@0.5: 0.0)\n",
            "sadness: (precision@0.5: 0.0, recall@0.5: 0.0)\n",
            "surprise: (precision@0.5: 0.0, recall@0.5: 0.0)\n",
            "neutral: (precision@0.5: 0.5263158082962036, recall@0.5: 0.2380952388048172)\n",
            "all: (precision@0.5: 0.14765100181102753, recall@0.5: 0.1705426424741745), f1-score 0.15827338141450628\n"
          ]
        }
      ],
      "source": [
        "for label in LABELS:\n",
        "  precision_key = 'precision@0.5/{}'.format(label)\n",
        "  recall_key = 'recall@0.5/{}'.format(label)\n",
        "  if precision_key in result and recall_key in result:\n",
        "    print('{}: (precision@0.5: {}, recall@0.5: {})'.format(\n",
        "        label, result[precision_key], result[recall_key]))\n",
        "    \n",
        "precision_key = 'precision@0.5/all'\n",
        "recall_key = 'recall@0.5/all'\n",
        "if precision_key in result and recall_key in result:\n",
        "  prec = result[precision_key]\n",
        "  rec = result[recall_key]\n",
        "  f1 = (2 * prec * rec) / (prec + rec)\n",
        "  print('all: (precision@0.5: {}, recall@0.5: {}), f1-score'.format(\n",
        "      result[precision_key], result[recall_key]), f1)"
      ]
    },
    {
      "cell_type": "markdown",
      "metadata": {
        "id": "2IvQvrqu4tD2"
      },
      "source": [
        "Try just freezing the first layer"
      ]
    },
    {
      "cell_type": "code",
      "execution_count": null,
      "metadata": {
        "id": "mgU-PXBG4wFE"
      },
      "outputs": [],
      "source": [
        "!rm -rf model\n",
        "\n",
        "model = build_model(base_layers.TRAIN)\n",
        "\n",
        "# Create the optimizer.\n",
        "learning_rate = tf.keras.optimizers.schedules.ExponentialDecay(\n",
        "    initial_learning_rate=CONFIG['learning_rate'],\n",
        "    decay_rate=CONFIG['learning_rate_decay_rate'],\n",
        "    decay_steps=CONFIG['learning_rate_decay_steps'],\n",
        "    staircase=True)\n",
        "\n",
        "optimizer = tf.keras.optimizers.Adam(learning_rate=learning_rate)\n",
        "\n",
        "# Define the loss function.\n",
        "loss = tf.keras.losses.BinaryCrossentropy(from_logits=False)\n",
        "\n",
        "model.compile(optimizer=optimizer, loss=loss, metrics = [tf.keras.metrics.BinaryAccuracy('accuracy'),\n",
        "                                          tf.keras.metrics.Precision(),\n",
        "                                          tf.keras.metrics.Recall(),\n",
        "                                          custom_f1])\n",
        "\n",
        "fl_filepath = '/content/drive/MyDrive/266/freeze_one/one'\n",
        "\n",
        "model_checkpoint_callback = ModelCheckpoint(\n",
        "    filepath = fl_filepath, \n",
        "    save_weights_only=True,\n",
        "    verbose = 1)\n",
        "\n",
        "model.load_weights(original_model)\n",
        "\n",
        "model.layers[3].trainable = False\n",
        "\n",
        "assert model.layers[3].trainable_weights == []"
      ]
    },
    {
      "cell_type": "code",
      "execution_count": null,
      "metadata": {
        "colab": {
          "base_uri": "https://localhost:8080/"
        },
        "id": "yNn0A-IRDWAH",
        "outputId": "d3dd9c9f-7dff-4346-f724-c699f77769db"
      },
      "outputs": [
        {
          "output_type": "stream",
          "name": "stdout",
          "text": [
            "Epoch 1/10\n",
            "1000/1000 [==============================] - ETA: 0s - loss: 0.4835 - accuracy: 0.8839 - precision_3: 0.1310 - recall_3: 0.2412 - custom_f1: 0.1719\n",
            "Epoch 1: saving model to /content/drive/MyDrive/266/freeze_one/one\n",
            "1000/1000 [==============================] - 48s 45ms/step - loss: 0.4835 - accuracy: 0.8839 - precision_3: 0.1310 - recall_3: 0.2412 - custom_f1: 0.1719 - val_loss: 0.4790 - val_accuracy: 0.8811 - val_precision_3: 0.1282 - val_recall_3: 0.2692 - val_custom_f1: 0.1737\n",
            "Epoch 2/10\n",
            "1000/1000 [==============================] - ETA: 0s - loss: 0.4836 - accuracy: 0.8835 - precision_3: 0.1303 - recall_3: 0.2411 - custom_f1: 0.1712\n",
            "Epoch 2: saving model to /content/drive/MyDrive/266/freeze_one/one\n",
            "1000/1000 [==============================] - 44s 44ms/step - loss: 0.4836 - accuracy: 0.8835 - precision_3: 0.1303 - recall_3: 0.2411 - custom_f1: 0.1712 - val_loss: 0.4802 - val_accuracy: 0.8689 - val_precision_3: 0.1071 - val_recall_3: 0.2640 - val_custom_f1: 0.1524\n",
            "Epoch 3/10\n",
            " 999/1000 [============================>.] - ETA: 0s - loss: 0.4832 - accuracy: 0.8843 - precision_3: 0.1312 - recall_3: 0.2403 - custom_f1: 0.1717\n",
            "Epoch 3: saving model to /content/drive/MyDrive/266/freeze_one/one\n",
            "1000/1000 [==============================] - 44s 44ms/step - loss: 0.4832 - accuracy: 0.8843 - precision_3: 0.1311 - recall_3: 0.2403 - custom_f1: 0.1716 - val_loss: 0.4915 - val_accuracy: 0.8596 - val_precision_3: 0.0890 - val_recall_3: 0.2320 - val_custom_f1: 0.1286\n",
            "Epoch 4/10\n",
            " 999/1000 [============================>.] - ETA: 0s - loss: 0.4832 - accuracy: 0.8848 - precision_3: 0.1315 - recall_3: 0.2395 - custom_f1: 0.1718\n",
            "Epoch 4: saving model to /content/drive/MyDrive/266/freeze_one/one\n",
            "1000/1000 [==============================] - 44s 44ms/step - loss: 0.4832 - accuracy: 0.8847 - precision_3: 0.1315 - recall_3: 0.2394 - custom_f1: 0.1718 - val_loss: 0.4960 - val_accuracy: 0.8646 - val_precision_3: 0.0897 - val_recall_3: 0.2276 - val_custom_f1: 0.1287\n",
            "Epoch 5/10\n",
            " 999/1000 [============================>.] - ETA: 0s - loss: 0.4834 - accuracy: 0.8845 - precision_3: 0.1313 - recall_3: 0.2398 - custom_f1: 0.1717\n",
            "Epoch 5: saving model to /content/drive/MyDrive/266/freeze_one/one\n",
            "1000/1000 [==============================] - 44s 44ms/step - loss: 0.4834 - accuracy: 0.8846 - precision_3: 0.1314 - recall_3: 0.2398 - custom_f1: 0.1717 - val_loss: 0.4854 - val_accuracy: 0.8679 - val_precision_3: 0.1133 - val_recall_3: 0.2672 - val_custom_f1: 0.1591\n",
            "Epoch 6/10\n",
            " 999/1000 [============================>.] - ETA: 0s - loss: 0.4835 - accuracy: 0.8840 - precision_3: 0.1306 - recall_3: 0.2400 - custom_f1: 0.1706\n",
            "Epoch 6: saving model to /content/drive/MyDrive/266/freeze_one/one\n",
            "1000/1000 [==============================] - 44s 44ms/step - loss: 0.4835 - accuracy: 0.8841 - precision_3: 0.1307 - recall_3: 0.2400 - custom_f1: 0.1706 - val_loss: 0.4821 - val_accuracy: 0.8793 - val_precision_3: 0.1139 - val_recall_3: 0.2645 - val_custom_f1: 0.1592\n",
            "Epoch 7/10\n",
            " 999/1000 [============================>.] - ETA: 0s - loss: 0.4834 - accuracy: 0.8844 - precision_3: 0.1316 - recall_3: 0.2409 - custom_f1: 0.1721\n",
            "Epoch 7: saving model to /content/drive/MyDrive/266/freeze_one/one\n",
            "1000/1000 [==============================] - 44s 44ms/step - loss: 0.4834 - accuracy: 0.8844 - precision_3: 0.1316 - recall_3: 0.2409 - custom_f1: 0.1721 - val_loss: 0.4838 - val_accuracy: 0.8861 - val_precision_3: 0.1139 - val_recall_3: 0.1985 - val_custom_f1: 0.1448\n",
            "Epoch 8/10\n",
            "1000/1000 [==============================] - ETA: 0s - loss: 0.4833 - accuracy: 0.8840 - precision_3: 0.1308 - recall_3: 0.2402 - custom_f1: 0.1710\n",
            "Epoch 8: saving model to /content/drive/MyDrive/266/freeze_one/one\n",
            "1000/1000 [==============================] - 44s 44ms/step - loss: 0.4833 - accuracy: 0.8840 - precision_3: 0.1308 - recall_3: 0.2402 - custom_f1: 0.1710 - val_loss: 0.4791 - val_accuracy: 0.8732 - val_precision_3: 0.1180 - val_recall_3: 0.2951 - val_custom_f1: 0.1686\n",
            "Epoch 9/10\n",
            " 999/1000 [============================>.] - ETA: 0s - loss: 0.4834 - accuracy: 0.8842 - precision_3: 0.1306 - recall_3: 0.2394 - custom_f1: 0.1708\n",
            "Epoch 9: saving model to /content/drive/MyDrive/266/freeze_one/one\n",
            "1000/1000 [==============================] - 44s 44ms/step - loss: 0.4834 - accuracy: 0.8842 - precision_3: 0.1306 - recall_3: 0.2394 - custom_f1: 0.1708 - val_loss: 0.4827 - val_accuracy: 0.8693 - val_precision_3: 0.1161 - val_recall_3: 0.2812 - val_custom_f1: 0.1644\n",
            "Epoch 10/10\n",
            "1000/1000 [==============================] - ETA: 0s - loss: 0.4833 - accuracy: 0.8844 - precision_3: 0.1309 - recall_3: 0.2394 - custom_f1: 0.1711\n",
            "Epoch 10: saving model to /content/drive/MyDrive/266/freeze_one/one\n",
            "1000/1000 [==============================] - 44s 44ms/step - loss: 0.4833 - accuracy: 0.8844 - precision_3: 0.1309 - recall_3: 0.2394 - custom_f1: 0.1711 - val_loss: 0.4787 - val_accuracy: 0.8829 - val_precision_3: 0.1328 - val_recall_3: 0.2791 - val_custom_f1: 0.1800\n"
          ]
        }
      ],
      "source": [
        "epochs = int(CONFIG['train_steps'] / CONFIG['save_checkpoints_steps'])\n",
        "history_f1 = model.fit(\n",
        "    x=train_dataset,\n",
        "    epochs=epochs,\n",
        "    validation_data=test_dataset,\n",
        "    steps_per_epoch=CONFIG['save_checkpoints_steps'],\n",
        "    callbacks=[model_checkpoint_callback])"
      ]
    },
    {
      "cell_type": "code",
      "execution_count": null,
      "metadata": {
        "colab": {
          "base_uri": "https://localhost:8080/"
        },
        "id": "fhoT5RrxDbgv",
        "outputId": "1ad7dd10-b08c-4fcb-a00d-311d7cec63c3"
      },
      "outputs": [
        {
          "output_type": "stream",
          "name": "stdout",
          "text": [
            "1/1 [==============================] - 5s 5s/step - loss: 0.0000e+00 - precision@0.5/admiration: 0.3750 - recall@0.5/admiration: 0.3333 - precision@0.5/amusement: 1.0000 - recall@0.5/amusement: 1.0000 - precision@0.5/anger: 1.0000 - recall@0.5/anger: 0.3333 - precision@0.5/annoyance: 0.2500 - recall@0.5/annoyance: 0.1667 - precision@0.5/approval: 0.5000 - recall@0.5/approval: 0.1111 - precision@0.5/caring: 0.0000e+00 - recall@0.5/caring: 0.0000e+00 - precision@0.5/confusion: 0.2000 - recall@0.5/confusion: 0.3333 - precision@0.5/curiosity: 0.3333 - recall@0.5/curiosity: 0.2500 - precision@0.5/desire: 0.0000e+00 - recall@0.5/desire: 0.0000e+00 - precision@0.5/disappointment: 0.0000e+00 - recall@0.5/disappointment: 0.0000e+00 - precision@0.5/disapproval: 0.4444 - recall@0.5/disapproval: 0.2857 - precision@0.5/disgust: 0.0000e+00 - recall@0.5/disgust: 0.0000e+00 - precision@0.5/embarrassment: 0.0000e+00 - recall@0.5/embarrassment: 0.0000e+00 - precision@0.5/excitement: 0.0000e+00 - recall@0.5/excitement: 0.0000e+00 - precision@0.5/fear: 0.0000e+00 - recall@0.5/fear: 0.0000e+00 - precision@0.5/gratitude: 0.5000 - recall@0.5/gratitude: 1.0000 - precision@0.5/grief: 0.0000e+00 - recall@0.5/grief: 0.0000e+00 - precision@0.5/joy: 0.0000e+00 - recall@0.5/joy: 0.0000e+00 - precision@0.5/love: 0.0476 - recall@0.5/love: 0.5000 - precision@0.5/nervousness: 0.0000e+00 - recall@0.5/nervousness: 0.0000e+00 - precision@0.5/optimism: 0.0769 - recall@0.5/optimism: 0.2000 - precision@0.5/pride: 0.0000e+00 - recall@0.5/pride: 0.0000e+00 - precision@0.5/realization: 0.0000e+00 - recall@0.5/realization: 0.0000e+00 - precision@0.5/relief: 0.0000e+00 - recall@0.5/relief: 0.0000e+00 - precision@0.5/remorse: 0.0000e+00 - recall@0.5/remorse: 0.0000e+00 - precision@0.5/sadness: 0.2000 - recall@0.5/sadness: 0.3333 - precision@0.5/surprise: 0.0000e+00 - recall@0.5/surprise: 0.0000e+00 - precision@0.5/neutral: 0.5000 - recall@0.5/neutral: 0.4571 - precision@0.5/all: 0.2075 - recall@0.5/all: 0.2578\n"
          ]
        }
      ],
      "source": [
        "model = build_model(base_layers.EVAL)\n",
        "\n",
        "# Define metrics over each category.\n",
        "metrics = []\n",
        "for i, label in enumerate(LABELS):\n",
        "  metric = tf.keras.metrics.Precision(\n",
        "      thresholds=[0.5],\n",
        "      class_id=i,\n",
        "      name='precision@0.5/{}'.format(label))\n",
        "  metrics.append(metric)\n",
        "  metric = tf.keras.metrics.Recall(\n",
        "      thresholds=[0.5],\n",
        "      class_id=i,\n",
        "      name='recall@0.5/{}'.format(label))\n",
        "  metrics.append(metric)\n",
        "\n",
        "# Define metrics over the entire task.\n",
        "metric = tf.keras.metrics.Precision(thresholds=[0.5], name='precision@0.5/all')\n",
        "metrics.append(metric)\n",
        "metric = tf.keras.metrics.Recall(thresholds=[0.5], name='recall@0.5/all')\n",
        "metrics.append(metric)\n",
        "\n",
        "model.compile(metrics=metrics)\n",
        "\n",
        "model.load_weights(fl_filepath)\n",
        "\n",
        "#results = model.evaluate(test_dataset, verbose = 1, steps = 1000)\n",
        "#model.load_weights('model/model_checkpoint')\n",
        "result = model.evaluate(x=test_dataset, return_dict=True)"
      ]
    },
    {
      "cell_type": "code",
      "execution_count": null,
      "metadata": {
        "colab": {
          "base_uri": "https://localhost:8080/"
        },
        "id": "NyA6hHqZIEkx",
        "outputId": "328ff14f-04ad-431b-9d7a-c11e781ba6a9"
      },
      "outputs": [
        {
          "output_type": "stream",
          "name": "stdout",
          "text": [
            "admiration: (precision@0.5: 0.375, recall@0.5: 0.3333333432674408)\n",
            "amusement: (precision@0.5: 1.0, recall@0.5: 1.0)\n",
            "anger: (precision@0.5: 1.0, recall@0.5: 0.3333333432674408)\n",
            "annoyance: (precision@0.5: 0.25, recall@0.5: 0.1666666716337204)\n",
            "approval: (precision@0.5: 0.5, recall@0.5: 0.1111111119389534)\n",
            "caring: (precision@0.5: 0.0, recall@0.5: 0.0)\n",
            "confusion: (precision@0.5: 0.20000000298023224, recall@0.5: 0.3333333432674408)\n",
            "curiosity: (precision@0.5: 0.3333333432674408, recall@0.5: 0.25)\n",
            "desire: (precision@0.5: 0.0, recall@0.5: 0.0)\n",
            "disappointment: (precision@0.5: 0.0, recall@0.5: 0.0)\n",
            "disapproval: (precision@0.5: 0.4444444477558136, recall@0.5: 0.2857142984867096)\n",
            "disgust: (precision@0.5: 0.0, recall@0.5: 0.0)\n",
            "embarrassment: (precision@0.5: 0.0, recall@0.5: 0.0)\n",
            "excitement: (precision@0.5: 0.0, recall@0.5: 0.0)\n",
            "fear: (precision@0.5: 0.0, recall@0.5: 0.0)\n",
            "gratitude: (precision@0.5: 0.5, recall@0.5: 1.0)\n",
            "grief: (precision@0.5: 0.0, recall@0.5: 0.0)\n",
            "joy: (precision@0.5: 0.0, recall@0.5: 0.0)\n",
            "love: (precision@0.5: 0.0476190485060215, recall@0.5: 0.5)\n",
            "nervousness: (precision@0.5: 0.0, recall@0.5: 0.0)\n",
            "optimism: (precision@0.5: 0.07692307978868484, recall@0.5: 0.20000000298023224)\n",
            "pride: (precision@0.5: 0.0, recall@0.5: 0.0)\n",
            "realization: (precision@0.5: 0.0, recall@0.5: 0.0)\n",
            "relief: (precision@0.5: 0.0, recall@0.5: 0.0)\n",
            "remorse: (precision@0.5: 0.0, recall@0.5: 0.0)\n",
            "sadness: (precision@0.5: 0.20000000298023224, recall@0.5: 0.3333333432674408)\n",
            "surprise: (precision@0.5: 0.0, recall@0.5: 0.0)\n",
            "neutral: (precision@0.5: 0.5, recall@0.5: 0.4571428596973419)\n",
            "all: (precision@0.5: 0.2075471729040146, recall@0.5: 0.2578125), f1-score 0.22996515869286727\n"
          ]
        }
      ],
      "source": [
        "for label in LABELS:\n",
        "  precision_key = 'precision@0.5/{}'.format(label)\n",
        "  recall_key = 'recall@0.5/{}'.format(label)\n",
        "  if precision_key in result and recall_key in result:\n",
        "    print('{}: (precision@0.5: {}, recall@0.5: {})'.format(\n",
        "        label, result[precision_key], result[recall_key]))\n",
        "    \n",
        "precision_key = 'precision@0.5/all'\n",
        "recall_key = 'recall@0.5/all'\n",
        "if precision_key in result and recall_key in result:\n",
        "  prec = result[precision_key]\n",
        "  rec = result[recall_key]\n",
        "  f1 = (2 * prec * rec) / (prec + rec)\n",
        "  print('all: (precision@0.5: {}, recall@0.5: {}), f1-score'.format(\n",
        "      result[precision_key], result[recall_key]), f1)"
      ]
    },
    {
      "cell_type": "markdown",
      "metadata": {
        "id": "gTAOPToX4xcc"
      },
      "source": [
        "## Try changing some other hyperparameters on completely fine tuned model\n"
      ]
    },
    {
      "cell_type": "markdown",
      "metadata": {
        "id": "b_ClAhQ7DBXW"
      },
      "source": [
        "# Binary CrossEntropy -> Categorical CrossEntropy\n",
        "\n"
      ]
    },
    {
      "cell_type": "code",
      "execution_count": null,
      "metadata": {
        "id": "sR4NKg1u77LD"
      },
      "outputs": [],
      "source": [
        "# Model training parameters.\n",
        "CONFIG = {\n",
        "    'name': 'models.prado',\n",
        "    'batch_size': 100,\n",
        "    'train_steps': 10000,\n",
        "    'learning_rate': 0.0006,\n",
        "    'learning_rate_decay_steps': 340,\n",
        "    'learning_rate_decay_rate': 0.7,\n",
        "}\n",
        "\n",
        "CONFIG['save_checkpoints_steps'] = int(CONFIG['train_steps'] / 10)\n",
        "\n",
        "MODEL_CONFIG = {\n",
        "    'labels': LABELS,\n",
        "    'multilabel': True,\n",
        "    'quantize': False,\n",
        "    'max_seq_len': 400,\n",
        "    'max_seq_len_inference': 400,\n",
        "    'exclude_nonalphaspace_unicodes': False,\n",
        "    'split_on_space': True,\n",
        "    'embedding_regularizer_scale': 0.035,\n",
        "    'embedding_size': 64,\n",
        "    'bigram_channels': 64,\n",
        "    'trigram_channels': 64,\n",
        "    'feature_size': 512,\n",
        "    'network_regularizer_scale': 0.0001,\n",
        "    'keep_prob': 0.5,\n",
        "    'word_novelty_bits': 0,\n",
        "    'doc_size_levels': 0,\n",
        "    'add_bos_tag': False,\n",
        "    'add_eos_tag': False,\n",
        "    'pre_logits_fc_layers': [],\n",
        "    'text_distortion_probability': 0.0,\n",
        "}\n",
        "\n",
        "CONFIG['model_config'] = MODEL_CONFIG\n",
        "\n",
        "from layers import base_layers\n",
        "from layers import projection_layers\n",
        "\n",
        "def build_dataset(mode, inspect=False):\n",
        "  if mode == base_layers.TRAIN:\n",
        "    split = 'train'\n",
        "    count = None\n",
        "  elif mode == base_layers.EVAL:\n",
        "    split = 'test'\n",
        "    count = 1\n",
        "  else:\n",
        "    raise ValueError('mode={}, must be TRAIN or EVAL'.format(mode))\n",
        "\n",
        "  batch_size = CONFIG['batch_size']\n",
        "  if inspect:\n",
        "    batch_size = 1\n",
        "\n",
        "  # Convert examples from their dataset format into the model format.\n",
        "  def process_input(features):\n",
        "    # Generate the projection for each comment_text input.  The final tensor \n",
        "    # will have the shape [batch_size, number of tokens, feature size].\n",
        "    # Additionally, we generate a tensor containing the number of tokens for\n",
        "    # each comment_text (seq_length).  This is needed because the projection\n",
        "    # tensor is a full tensor, and we are not using EOS tokens.\n",
        "    text = features['target_string']\n",
        "    text = tf.reshape(text, [batch_size])\n",
        "    projection_layer = projection_layers.ProjectionLayer(MODEL_CONFIG, mode)\n",
        "    projection, seq_length = projection_layer(text)\n",
        "\n",
        "    # Convert the labels into an indicator tensor, using the LABELS indices.\n",
        "    label = tf.stack([features[label] for label in LABELS], axis=-1)\n",
        "    label = tf.cast(label, tf.float32)\n",
        "    label = tf.reshape(label, [batch_size, len(LABELS)])\n",
        "\n",
        "    model_features = ({'projection': projection, 'sequence_length': seq_length}, label)\n",
        "\n",
        "    if inspect:\n",
        "      model_features = (model_features[0], model_features[1], features)\n",
        "\n",
        "    return model_features\n",
        "\n",
        "  ds = sp_train\n",
        "  ds = ds.repeat(count=count)\n",
        "  ds = ds.shuffle(buffer_size=batch_size * 2)\n",
        "  ds = ds.batch(batch_size, drop_remainder=True)\n",
        "  ds = ds.map(process_input, num_parallel_calls=tf.data.experimental.AUTOTUNE, deterministic=False)\n",
        "  ds = ds.prefetch(buffer_size=tf.data.experimental.AUTOTUNE)\n",
        "  return ds\n",
        "\n",
        "train_dataset = build_dataset(base_layers.TRAIN)\n",
        "test_dataset = build_dataset(base_layers.EVAL)\n",
        "inspect_dataset = build_dataset(base_layers.TRAIN, inspect=True)"
      ]
    },
    {
      "cell_type": "code",
      "execution_count": null,
      "metadata": {
        "colab": {
          "base_uri": "https://localhost:8080/"
        },
        "id": "m9CclLWj8DzE",
        "outputId": "759d8026-0827-4ac2-ee7f-166a18258ce8"
      },
      "outputs": [
        {
          "name": "stdout",
          "output_type": "stream",
          "text": [
            "Epoch 1/10\n",
            " 999/1000 [============================>.] - ETA: 0s - loss: 4.0952\n",
            "Epoch 1: saving model to /content/drive/MyDrive/266/finetune_goemo/goemo_model/fine_tune_sp_2\n",
            "1000/1000 [==============================] - 50s 48ms/step - loss: 4.0953 - val_loss: 3.8247\n",
            "Epoch 2/10\n",
            " 999/1000 [============================>.] - ETA: 0s - loss: 3.6707\n",
            "Epoch 2: saving model to /content/drive/MyDrive/266/finetune_goemo/goemo_model/fine_tune_sp_2\n",
            "1000/1000 [==============================] - 48s 48ms/step - loss: 3.6707 - val_loss: 3.5345\n",
            "Epoch 3/10\n",
            "1000/1000 [==============================] - ETA: 0s - loss: 3.4026\n",
            "Epoch 3: saving model to /content/drive/MyDrive/266/finetune_goemo/goemo_model/fine_tune_sp_2\n",
            "1000/1000 [==============================] - 48s 48ms/step - loss: 3.4026 - val_loss: 3.2880\n",
            "Epoch 4/10\n",
            " 999/1000 [============================>.] - ETA: 0s - loss: 3.1836\n",
            "Epoch 4: saving model to /content/drive/MyDrive/266/finetune_goemo/goemo_model/fine_tune_sp_2\n",
            "1000/1000 [==============================] - 48s 48ms/step - loss: 3.1835 - val_loss: 3.0597\n",
            "Epoch 5/10\n",
            " 999/1000 [============================>.] - ETA: 0s - loss: 2.9876\n",
            "Epoch 5: saving model to /content/drive/MyDrive/266/finetune_goemo/goemo_model/fine_tune_sp_2\n",
            "1000/1000 [==============================] - 48s 48ms/step - loss: 2.9872 - val_loss: 2.8739\n",
            "Epoch 6/10\n",
            " 999/1000 [============================>.] - ETA: 0s - loss: 2.8159\n",
            "Epoch 6: saving model to /content/drive/MyDrive/266/finetune_goemo/goemo_model/fine_tune_sp_2\n",
            "1000/1000 [==============================] - 48s 48ms/step - loss: 2.8156 - val_loss: 2.7380\n",
            "Epoch 7/10\n",
            " 999/1000 [============================>.] - ETA: 0s - loss: 2.6653\n",
            "Epoch 7: saving model to /content/drive/MyDrive/266/finetune_goemo/goemo_model/fine_tune_sp_2\n",
            "1000/1000 [==============================] - 48s 48ms/step - loss: 2.6649 - val_loss: 2.6050\n",
            "Epoch 8/10\n",
            " 999/1000 [============================>.] - ETA: 0s - loss: 2.5260\n",
            "Epoch 8: saving model to /content/drive/MyDrive/266/finetune_goemo/goemo_model/fine_tune_sp_2\n",
            "1000/1000 [==============================] - 48s 48ms/step - loss: 2.5260 - val_loss: 2.4720\n",
            "Epoch 9/10\n",
            " 999/1000 [============================>.] - ETA: 0s - loss: 2.4025\n",
            "Epoch 9: saving model to /content/drive/MyDrive/266/finetune_goemo/goemo_model/fine_tune_sp_2\n",
            "1000/1000 [==============================] - 48s 48ms/step - loss: 2.4023 - val_loss: 2.3234\n",
            "Epoch 10/10\n",
            "1000/1000 [==============================] - ETA: 0s - loss: 2.2849\n",
            "Epoch 10: saving model to /content/drive/MyDrive/266/finetune_goemo/goemo_model/fine_tune_sp_2\n",
            "1000/1000 [==============================] - 48s 48ms/step - loss: 2.2849 - val_loss: 2.2279\n"
          ]
        },
        {
          "data": {
            "text/plain": [
              "<keras.callbacks.History at 0x7f10f17ddf10>"
            ]
          },
          "execution_count": 31,
          "metadata": {},
          "output_type": "execute_result"
        }
      ],
      "source": [
        "# Remove any previous training data.\n",
        "!rm -rf model\n",
        "\n",
        "model = build_model(base_layers.TRAIN)\n",
        "\n",
        "# Create the optimizer.\n",
        "learning_rate = tf.keras.optimizers.schedules.ExponentialDecay(\n",
        "    initial_learning_rate=CONFIG['learning_rate'],\n",
        "    decay_rate=CONFIG['learning_rate_decay_rate'],\n",
        "    decay_steps=CONFIG['learning_rate_decay_steps'],\n",
        "    staircase=True)\n",
        "\n",
        "optimizer = tf.keras.optimizers.Adam(learning_rate=0.00005)\n",
        "\n",
        "# !!Changing the loss function from BinaryCrossEntropy to CrossEntropy!!\n",
        "loss = tf.keras.losses.CategoricalCrossentropy(from_logits=False)\n",
        "\n",
        "model.compile(optimizer=optimizer, loss=loss)\n",
        "\n",
        "sp_filepath = '/content/drive/MyDrive/266/finetune_goemo/goemo_model/fine_tune_sp_2'\n",
        "\n",
        "model_checkpoint_callback = ModelCheckpoint(\n",
        "    filepath = sp_filepath, \n",
        "    save_weights_only=True,\n",
        "    verbose = 1)\n",
        "\n",
        "model.load_weights(original_model)\n",
        "\n",
        "epochs = int(CONFIG['train_steps'] / CONFIG['save_checkpoints_steps'])\n",
        "model.fit(\n",
        "    x=train_dataset,\n",
        "    epochs=epochs,\n",
        "    validation_data=test_dataset,\n",
        "    steps_per_epoch=CONFIG['save_checkpoints_steps'],\n",
        "    callbacks=[model_checkpoint_callback])"
      ]
    },
    {
      "cell_type": "code",
      "execution_count": null,
      "metadata": {
        "colab": {
          "base_uri": "https://localhost:8080/"
        },
        "id": "IP2qezL68Jok",
        "outputId": "dc0d9d8f-3f11-4e15-828b-c1fd234b7b99"
      },
      "outputs": [
        {
          "name": "stdout",
          "output_type": "stream",
          "text": [
            "WARNING:tensorflow:Detecting that an object or model or tf.train.Checkpoint is being deleted with unrestored values. See the following logs for the specific values in question. To silence these warnings, use `status.expect_partial()`. See https://www.tensorflow.org/api_docs/python/tf/train/Checkpoint#restorefor details about the status object returned by the restore function.\n"
          ]
        },
        {
          "name": "stderr",
          "output_type": "stream",
          "text": [
            "WARNING:tensorflow:Detecting that an object or model or tf.train.Checkpoint is being deleted with unrestored values. See the following logs for the specific values in question. To silence these warnings, use `status.expect_partial()`. See https://www.tensorflow.org/api_docs/python/tf/train/Checkpoint#restorefor details about the status object returned by the restore function.\n"
          ]
        },
        {
          "name": "stdout",
          "output_type": "stream",
          "text": [
            "WARNING:tensorflow:Value in checkpoint could not be found in the restored object: (root).optimizer.iter\n"
          ]
        },
        {
          "name": "stderr",
          "output_type": "stream",
          "text": [
            "WARNING:tensorflow:Value in checkpoint could not be found in the restored object: (root).optimizer.iter\n"
          ]
        },
        {
          "name": "stdout",
          "output_type": "stream",
          "text": [
            "WARNING:tensorflow:Value in checkpoint could not be found in the restored object: (root).optimizer.beta_1\n"
          ]
        },
        {
          "name": "stderr",
          "output_type": "stream",
          "text": [
            "WARNING:tensorflow:Value in checkpoint could not be found in the restored object: (root).optimizer.beta_1\n"
          ]
        },
        {
          "name": "stdout",
          "output_type": "stream",
          "text": [
            "WARNING:tensorflow:Value in checkpoint could not be found in the restored object: (root).optimizer.beta_2\n"
          ]
        },
        {
          "name": "stderr",
          "output_type": "stream",
          "text": [
            "WARNING:tensorflow:Value in checkpoint could not be found in the restored object: (root).optimizer.beta_2\n"
          ]
        },
        {
          "name": "stdout",
          "output_type": "stream",
          "text": [
            "WARNING:tensorflow:Value in checkpoint could not be found in the restored object: (root).optimizer.decay\n"
          ]
        },
        {
          "name": "stderr",
          "output_type": "stream",
          "text": [
            "WARNING:tensorflow:Value in checkpoint could not be found in the restored object: (root).optimizer.decay\n"
          ]
        },
        {
          "name": "stdout",
          "output_type": "stream",
          "text": [
            "16/16 [==============================] - 7s 54ms/step - loss: 0.0000e+00 - precision@0.5/admiration: 0.5904 - recall@0.5/admiration: 1.0000 - precision@0.5/amusement: 0.1852 - recall@0.5/amusement: 0.9524 - precision@0.5/anger: 0.4154 - recall@0.5/anger: 0.8438 - precision@0.5/annoyance: 0.4386 - recall@0.5/annoyance: 0.9804 - precision@0.5/approval: 0.4649 - recall@0.5/approval: 1.0000 - precision@0.5/caring: 0.2119 - recall@0.5/caring: 0.9615 - precision@0.5/confusion: 0.2136 - recall@0.5/confusion: 0.9844 - precision@0.5/curiosity: 0.3569 - recall@0.5/curiosity: 0.9915 - precision@0.5/desire: 0.3008 - recall@0.5/desire: 1.0000 - precision@0.5/disappointment: 0.3569 - recall@0.5/disappointment: 0.9915 - precision@0.5/disapproval: 0.6463 - recall@0.5/disapproval: 0.9805 - precision@0.5/disgust: 0.2500 - recall@0.5/disgust: 1.0000 - precision@0.5/embarrassment: 0.0385 - recall@0.5/embarrassment: 0.2500 - precision@0.5/excitement: 0.2927 - recall@0.5/excitement: 0.9730 - precision@0.5/fear: 0.2449 - recall@0.5/fear: 1.0000 - precision@0.5/gratitude: 0.2282 - recall@0.5/gratitude: 1.0000 - precision@0.5/grief: 0.2394 - recall@0.5/grief: 0.8500 - precision@0.5/joy: 0.3469 - recall@0.5/joy: 0.7727 - precision@0.5/love: 0.4123 - recall@0.5/love: 0.9792 - precision@0.5/nervousness: 0.1339 - recall@0.5/nervousness: 0.7895 - precision@0.5/optimism: 0.3816 - recall@0.5/optimism: 1.0000 - precision@0.5/pride: 0.4586 - recall@0.5/pride: 0.9881 - precision@0.5/realization: 0.1908 - recall@0.5/realization: 1.0000 - precision@0.5/relief: 0.1471 - recall@0.5/relief: 0.7143 - precision@0.5/remorse: 0.1807 - recall@0.5/remorse: 1.0000 - precision@0.5/sadness: 0.3043 - recall@0.5/sadness: 0.9032 - precision@0.5/surprise: 0.1186 - recall@0.5/surprise: 0.7778 - precision@0.5/neutral: 0.7582 - recall@0.5/neutral: 1.0000 - precision@0.5/all: 0.3927 - recall@0.5/all: 0.9819\n"
          ]
        }
      ],
      "source": [
        "model = build_model(base_layers.EVAL)\n",
        "\n",
        "# Define metrics over each category.\n",
        "metrics = []\n",
        "for i, label in enumerate(LABELS):\n",
        "  metric = tf.keras.metrics.Precision(\n",
        "      thresholds=[0.5],\n",
        "      class_id=i,\n",
        "      name='precision@0.5/{}'.format(label))\n",
        "  metrics.append(metric)\n",
        "  metric = tf.keras.metrics.Recall(\n",
        "      thresholds=[0.5],\n",
        "      class_id=i,\n",
        "      name='recall@0.5/{}'.format(label))\n",
        "  metrics.append(metric)\n",
        "\n",
        "# Define metrics over the entire task.\n",
        "metric = tf.keras.metrics.Precision(thresholds=[0.5], name='precision@0.5/all')\n",
        "metrics.append(metric)\n",
        "metric = tf.keras.metrics.Recall(thresholds=[0.5], name='recall@0.5/all')\n",
        "metrics.append(metric)\n",
        "\n",
        "model.compile(metrics=metrics)\n",
        "\n",
        "model.load_weights(sp_filepath)\n",
        "\n",
        "#results = model.evaluate(test_dataset, verbose = 1, steps = 1000)\n",
        "#model.load_weights('model/model_checkpoint')\n",
        "result = model.evaluate(x=test_dataset, return_dict=True)"
      ]
    },
    {
      "cell_type": "code",
      "execution_count": null,
      "metadata": {
        "colab": {
          "base_uri": "https://localhost:8080/"
        },
        "id": "OPA6aQQpCg5E",
        "outputId": "3695e2db-b16a-4430-bdff-ed84a12cb518"
      },
      "outputs": [
        {
          "name": "stdout",
          "output_type": "stream",
          "text": [
            "admiration: (precision@0.5: 0.5904058814048767, recall@0.5: 1.0)\n",
            "amusement: (precision@0.5: 0.18518517911434174, recall@0.5: 0.9523809552192688)\n",
            "anger: (precision@0.5: 0.4153846204280853, recall@0.5: 0.84375)\n",
            "annoyance: (precision@0.5: 0.4385964870452881, recall@0.5: 0.9803921580314636)\n",
            "approval: (precision@0.5: 0.4648910462856293, recall@0.5: 1.0)\n",
            "caring: (precision@0.5: 0.2118644118309021, recall@0.5: 0.9615384340286255)\n",
            "confusion: (precision@0.5: 0.2135593146085739, recall@0.5: 0.984375)\n",
            "curiosity: (precision@0.5: 0.35692307353019714, recall@0.5: 0.9914529919624329)\n",
            "desire: (precision@0.5: 0.3008130192756653, recall@0.5: 1.0)\n",
            "disappointment: (precision@0.5: 0.35692307353019714, recall@0.5: 0.9914529919624329)\n",
            "disapproval: (precision@0.5: 0.6463022232055664, recall@0.5: 0.9804878234863281)\n",
            "disgust: (precision@0.5: 0.25, recall@0.5: 1.0)\n",
            "embarrassment: (precision@0.5: 0.03846153989434242, recall@0.5: 0.25)\n",
            "excitement: (precision@0.5: 0.2926829159259796, recall@0.5: 0.9729729890823364)\n",
            "fear: (precision@0.5: 0.2448979616165161, recall@0.5: 1.0)\n",
            "gratitude: (precision@0.5: 0.22815534472465515, recall@0.5: 1.0)\n",
            "grief: (precision@0.5: 0.23943662643432617, recall@0.5: 0.8500000238418579)\n",
            "joy: (precision@0.5: 0.3469387888908386, recall@0.5: 0.7727272510528564)\n",
            "love: (precision@0.5: 0.41228070855140686, recall@0.5: 0.9791666865348816)\n",
            "nervousness: (precision@0.5: 0.1339285671710968, recall@0.5: 0.7894737124443054)\n",
            "optimism: (precision@0.5: 0.3815789520740509, recall@0.5: 1.0)\n",
            "pride: (precision@0.5: 0.45856353640556335, recall@0.5: 0.988095223903656)\n",
            "realization: (precision@0.5: 0.1908046007156372, recall@0.5: 1.0)\n",
            "relief: (precision@0.5: 0.14705882966518402, recall@0.5: 0.7142857313156128)\n",
            "remorse: (precision@0.5: 0.1807228922843933, recall@0.5: 1.0)\n",
            "sadness: (precision@0.5: 0.30434781312942505, recall@0.5: 0.9032257795333862)\n",
            "surprise: (precision@0.5: 0.11864406615495682, recall@0.5: 0.7777777910232544)\n",
            "neutral: (precision@0.5: 0.758179247379303, recall@0.5: 1.0)\n",
            "all: (precision@0.5: 0.39266353845596313, recall@0.5: 0.9819250106811523), f1-score 0.560991359100883\n"
          ]
        }
      ],
      "source": [
        "for label in LABELS:\n",
        "  precision_key = 'precision@0.5/{}'.format(label)\n",
        "  recall_key = 'recall@0.5/{}'.format(label)\n",
        "  if precision_key in result and recall_key in result:\n",
        "    print('{}: (precision@0.5: {}, recall@0.5: {})'.format(\n",
        "        label, result[precision_key], result[recall_key]))\n",
        "    \n",
        "precision_key = 'precision@0.5/all'\n",
        "recall_key = 'recall@0.5/all'\n",
        "if precision_key in result and recall_key in result:\n",
        "  prec = result[precision_key]\n",
        "  rec = result[recall_key]\n",
        "  f1 = (2 * prec * rec) / (prec + rec)\n",
        "  print('all: (precision@0.5: {}, recall@0.5: {}), f1-score'.format(\n",
        "      result[precision_key], result[recall_key]), f1)"
      ]
    },
    {
      "cell_type": "markdown",
      "metadata": {
        "id": "PPzX1clGDJpt"
      },
      "source": [
        "# Model Config\n"
      ]
    },
    {
      "cell_type": "code",
      "execution_count": null,
      "metadata": {
        "id": "WtoSOHY-DPoP"
      },
      "outputs": [],
      "source": [
        "# Model training parameters.\n",
        "CONFIG = {\n",
        "    'name': 'models.prado',\n",
        "    'batch_size': 700,\n",
        "    'train_steps': 10000,\n",
        "    'learning_rate': 0.0006,\n",
        "    'learning_rate_decay_steps': 340,\n",
        "    'learning_rate_decay_rate': 0.7,\n",
        "}\n",
        "\n",
        "CONFIG['save_checkpoints_steps'] = int(CONFIG['train_steps'] / 10)\n",
        "\n",
        "MODEL_CONFIG = {\n",
        "    'labels': LABELS,\n",
        "    'multilabel': True,\n",
        "    'quantize': False,\n",
        "    'max_seq_len': 400,\n",
        "    'max_seq_len_inference': 400,\n",
        "    'exclude_nonalphaspace_unicodes': False,\n",
        "    'split_on_space': True,\n",
        "    'embedding_regularizer_scale': 0.035,\n",
        "    'embedding_size': 64,\n",
        "    'bigram_channels': 64,\n",
        "    'trigram_channels': 64,\n",
        "    'feature_size': 512,\n",
        "    'network_regularizer_scale': 0.0001,\n",
        "    'keep_prob': 0.5,\n",
        "    'word_novelty_bits': 0,\n",
        "    'doc_size_levels': 0,\n",
        "    'add_bos_tag': False,\n",
        "    'add_eos_tag': False,\n",
        "    'pre_logits_fc_layers': [],\n",
        "    'text_distortion_probability': 0.0,\n",
        "}\n",
        "\n",
        "CONFIG['model_config'] = MODEL_CONFIG\n",
        "\n",
        "from layers import base_layers\n",
        "from layers import projection_layers\n",
        "\n",
        "def build_dataset(mode, inspect=False):\n",
        "  if mode == base_layers.TRAIN:\n",
        "    split = 'train'\n",
        "    count = None\n",
        "  elif mode == base_layers.EVAL:\n",
        "    split = 'test'\n",
        "    count = 1\n",
        "  else:\n",
        "    raise ValueError('mode={}, must be TRAIN or EVAL'.format(mode))\n",
        "\n",
        "  batch_size = CONFIG['batch_size']\n",
        "  if inspect:\n",
        "    batch_size = 1\n",
        "\n",
        "  # Convert examples from their dataset format into the model format.\n",
        "  def process_input(features):\n",
        "    # Generate the projection for each comment_text input.  The final tensor \n",
        "    # will have the shape [batch_size, number of tokens, feature size].\n",
        "    # Additionally, we generate a tensor containing the number of tokens for\n",
        "    # each comment_text (seq_length).  This is needed because the projection\n",
        "    # tensor is a full tensor, and we are not using EOS tokens.\n",
        "    text = features['target_string']\n",
        "    text = tf.reshape(text, [batch_size])\n",
        "    projection_layer = projection_layers.ProjectionLayer(MODEL_CONFIG, mode)\n",
        "    projection, seq_length = projection_layer(text)\n",
        "\n",
        "    # Convert the labels into an indicator tensor, using the LABELS indices.\n",
        "    label = tf.stack([features[label] for label in LABELS], axis=-1)\n",
        "    label = tf.cast(label, tf.float32)\n",
        "    label = tf.reshape(label, [batch_size, len(LABELS)])\n",
        "\n",
        "    model_features = ({'projection': projection, 'sequence_length': seq_length}, label)\n",
        "\n",
        "    if inspect:\n",
        "      model_features = (model_features[0], model_features[1], features)\n",
        "\n",
        "    return model_features\n",
        "\n",
        "  ds = sp_train\n",
        "  ds = ds.repeat(count=count)\n",
        "  ds = ds.shuffle(buffer_size=batch_size * 2)\n",
        "  ds = ds.batch(batch_size, drop_remainder=True)\n",
        "  ds = ds.map(process_input, num_parallel_calls=tf.data.experimental.AUTOTUNE, deterministic=False)\n",
        "  ds = ds.prefetch(buffer_size=tf.data.experimental.AUTOTUNE)\n",
        "  return ds\n",
        "\n",
        "train_dataset = build_dataset(base_layers.TRAIN)\n",
        "test_dataset = build_dataset(base_layers.EVAL)\n",
        "inspect_dataset = build_dataset(base_layers.TRAIN, inspect=True)"
      ]
    },
    {
      "cell_type": "code",
      "execution_count": null,
      "metadata": {
        "colab": {
          "base_uri": "https://localhost:8080/"
        },
        "id": "efUgDLWnDYme",
        "outputId": "ad924a83-d262-4266-9b86-ff2170c2c67f"
      },
      "outputs": [
        {
          "output_type": "stream",
          "name": "stdout",
          "text": [
            "Epoch 1/10\n",
            "1000/1000 [==============================] - ETA: 0s - loss: 0.4442 - accuracy: 0.3382 - custom_f1: 0.3384\n",
            "Epoch 1: saving model to /content/drive/MyDrive/266/finetune_goemo/fine_tune_best\n",
            "1000/1000 [==============================] - 278s 266ms/step - loss: 0.4442 - accuracy: 0.3382 - custom_f1: 0.3384 - val_loss: 0.4277 - val_accuracy: 0.4057 - val_custom_f1: 0.4296\n",
            "Epoch 2/10\n",
            "1000/1000 [==============================] - ETA: 0s - loss: 0.4166 - accuracy: 0.4702 - custom_f1: 0.4839\n",
            "Epoch 2: saving model to /content/drive/MyDrive/266/finetune_goemo/fine_tune_best\n",
            "1000/1000 [==============================] - 265s 265ms/step - loss: 0.4166 - accuracy: 0.4702 - custom_f1: 0.4839 - val_loss: 0.4041 - val_accuracy: 0.5343 - val_custom_f1: 0.5415\n",
            "Epoch 3/10\n",
            "1000/1000 [==============================] - ETA: 0s - loss: 0.3943 - accuracy: 0.5611 - custom_f1: 0.5730\n",
            "Epoch 3: saving model to /content/drive/MyDrive/266/finetune_goemo/fine_tune_best\n",
            "1000/1000 [==============================] - 265s 265ms/step - loss: 0.3943 - accuracy: 0.5611 - custom_f1: 0.5730 - val_loss: 0.3831 - val_accuracy: 0.6014 - val_custom_f1: 0.6229\n",
            "Epoch 4/10\n",
            "1000/1000 [==============================] - ETA: 0s - loss: 0.3744 - accuracy: 0.6288 - custom_f1: 0.6419\n",
            "Epoch 4: saving model to /content/drive/MyDrive/266/finetune_goemo/fine_tune_best\n",
            "1000/1000 [==============================] - 265s 265ms/step - loss: 0.3744 - accuracy: 0.6288 - custom_f1: 0.6419 - val_loss: 0.3658 - val_accuracy: 0.6571 - val_custom_f1: 0.6751\n",
            "Epoch 5/10\n",
            "1000/1000 [==============================] - ETA: 0s - loss: 0.3562 - accuracy: 0.6756 - custom_f1: 0.6955\n",
            "Epoch 5: saving model to /content/drive/MyDrive/266/finetune_goemo/fine_tune_best\n",
            "1000/1000 [==============================] - 265s 265ms/step - loss: 0.3562 - accuracy: 0.6756 - custom_f1: 0.6955 - val_loss: 0.3472 - val_accuracy: 0.6936 - val_custom_f1: 0.7247\n",
            "Epoch 6/10\n",
            "1000/1000 [==============================] - ETA: 0s - loss: 0.3393 - accuracy: 0.7108 - custom_f1: 0.7382\n",
            "Epoch 6: saving model to /content/drive/MyDrive/266/finetune_goemo/fine_tune_best\n",
            "1000/1000 [==============================] - 265s 265ms/step - loss: 0.3393 - accuracy: 0.7108 - custom_f1: 0.7382 - val_loss: 0.3309 - val_accuracy: 0.7343 - val_custom_f1: 0.7587\n",
            "Epoch 7/10\n",
            "1000/1000 [==============================] - ETA: 0s - loss: 0.3236 - accuracy: 0.7357 - custom_f1: 0.7710\n",
            "Epoch 7: saving model to /content/drive/MyDrive/266/finetune_goemo/fine_tune_best\n",
            "1000/1000 [==============================] - 265s 265ms/step - loss: 0.3236 - accuracy: 0.7357 - custom_f1: 0.7710 - val_loss: 0.3160 - val_accuracy: 0.7643 - val_custom_f1: 0.7891\n",
            "Epoch 8/10\n",
            "1000/1000 [==============================] - ETA: 0s - loss: 0.3088 - accuracy: 0.7556 - custom_f1: 0.7991\n",
            "Epoch 8: saving model to /content/drive/MyDrive/266/finetune_goemo/fine_tune_best\n",
            "1000/1000 [==============================] - 265s 265ms/step - loss: 0.3088 - accuracy: 0.7556 - custom_f1: 0.7991 - val_loss: 0.3013 - val_accuracy: 0.7643 - val_custom_f1: 0.8067\n",
            "Epoch 9/10\n",
            "1000/1000 [==============================] - ETA: 0s - loss: 0.2948 - accuracy: 0.7704 - custom_f1: 0.8216\n",
            "Epoch 9: saving model to /content/drive/MyDrive/266/finetune_goemo/fine_tune_best\n",
            "1000/1000 [==============================] - 265s 265ms/step - loss: 0.2948 - accuracy: 0.7704 - custom_f1: 0.8216 - val_loss: 0.2872 - val_accuracy: 0.7757 - val_custom_f1: 0.8414\n",
            "Epoch 10/10\n",
            "1000/1000 [==============================] - ETA: 0s - loss: 0.2815 - accuracy: 0.7811 - custom_f1: 0.8406\n",
            "Epoch 10: saving model to /content/drive/MyDrive/266/finetune_goemo/fine_tune_best\n",
            "1000/1000 [==============================] - 265s 265ms/step - loss: 0.2815 - accuracy: 0.7811 - custom_f1: 0.8406 - val_loss: 0.2750 - val_accuracy: 0.7793 - val_custom_f1: 0.8541\n"
          ]
        },
        {
          "output_type": "execute_result",
          "data": {
            "text/plain": [
              "<keras.callbacks.History at 0x7fed9c025f90>"
            ]
          },
          "metadata": {},
          "execution_count": 26
        }
      ],
      "source": [
        "# Remove any previous training data.\n",
        "!rm -rf model\n",
        "\n",
        "model = build_model(base_layers.TRAIN)\n",
        "\n",
        "# Create the optimizer.\n",
        "optimizer = tf.keras.optimizers.Adam(learning_rate=0.00005)\n",
        "\n",
        "# !!Changing the loss function from BinaryCrossEntropy to CrossEntropy!!\n",
        "loss = tf.keras.losses.BinaryCrossentropy(from_logits=False)\n",
        "\n",
        "model.compile(optimizer=optimizer, loss=loss, metrics = ['accuracy', custom_f1])\n",
        "\n",
        "sp_filepath = '/content/drive/MyDrive/266/finetune_goemo/fine_tune_best'\n",
        "\n",
        "model_checkpoint_callback = ModelCheckpoint(\n",
        "    filepath = sp_filepath, \n",
        "    save_weights_only=True,\n",
        "    verbose = 1)\n",
        "\n",
        "model.load_weights(original_model)\n",
        "\n",
        "epochs = int(CONFIG['train_steps'] / CONFIG['save_checkpoints_steps'])\n",
        "model.fit(\n",
        "    x=train_dataset,\n",
        "    epochs= epochs,\n",
        "    validation_data=test_dataset,\n",
        "    steps_per_epoch=CONFIG['save_checkpoints_steps'],\n",
        "    callbacks=[model_checkpoint_callback])"
      ]
    },
    {
      "cell_type": "code",
      "execution_count": null,
      "metadata": {
        "id": "DEJJfjvKYGij"
      },
      "outputs": [],
      "source": [
        "sp_filepath = '/content/drive/MyDrive/266/finetune_goemo/fine_tune_best'"
      ]
    },
    {
      "cell_type": "code",
      "execution_count": null,
      "metadata": {
        "colab": {
          "base_uri": "https://localhost:8080/"
        },
        "id": "Fx89595TdIOP",
        "outputId": "7fa9d409-83cd-4f0d-d215-50ab524fce27"
      },
      "outputs": [
        {
          "output_type": "stream",
          "name": "stdout",
          "text": [
            "2/2 [==============================] - 10s 193ms/step - loss: 0.0000e+00 - precision@0.5/admiration: 1.0000 - recall@0.5/admiration: 0.9925 - precision@0.5/amusement: 1.0000 - recall@0.5/amusement: 0.8000 - precision@0.5/anger: 1.0000 - recall@0.5/anger: 0.8696 - precision@0.5/annoyance: 1.0000 - recall@0.5/annoyance: 0.6667 - precision@0.5/approval: 1.0000 - recall@0.5/approval: 0.9405 - precision@0.5/caring: 1.0000 - recall@0.5/caring: 0.2105 - precision@0.5/confusion: 1.0000 - recall@0.5/confusion: 0.8214 - precision@0.5/curiosity: 0.9900 - recall@0.5/curiosity: 0.9429 - precision@0.5/desire: 0.9286 - recall@0.5/desire: 0.8387 - precision@0.5/disappointment: 1.0000 - recall@0.5/disappointment: 0.9712 - precision@0.5/disapproval: 1.0000 - recall@0.5/disapproval: 0.9551 - precision@0.5/disgust: 1.0000 - recall@0.5/disgust: 0.1818 - precision@0.5/embarrassment: 0.0000e+00 - recall@0.5/embarrassment: 0.0000e+00 - precision@0.5/excitement: 1.0000 - recall@0.5/excitement: 0.5938 - precision@0.5/fear: 1.0000 - recall@0.5/fear: 0.5116 - precision@0.5/gratitude: 0.9737 - recall@0.5/gratitude: 0.9250 - precision@0.5/grief: 1.0000 - recall@0.5/grief: 0.5000 - precision@0.5/joy: 1.0000 - recall@0.5/joy: 0.7143 - precision@0.5/love: 0.8824 - recall@0.5/love: 0.8571 - precision@0.5/nervousness: 1.0000 - recall@0.5/nervousness: 0.0588 - precision@0.5/optimism: 1.0000 - recall@0.5/optimism: 0.9764 - precision@0.5/pride: 1.0000 - recall@0.5/pride: 0.8182 - precision@0.5/realization: 1.0000 - recall@0.5/realization: 0.7089 - precision@0.5/relief: 0.0000e+00 - recall@0.5/relief: 0.0000e+00 - precision@0.5/remorse: 1.0000 - recall@0.5/remorse: 0.8293 - precision@0.5/sadness: 1.0000 - recall@0.5/sadness: 0.5000 - precision@0.5/surprise: 0.0000e+00 - recall@0.5/surprise: 0.0000e+00 - precision@0.5/neutral: 1.0000 - recall@0.5/neutral: 0.9935 - precision@0.5/all: 0.9953 - recall@0.5/all: 0.8758 - custom_f1: 0.9319\n"
          ]
        }
      ],
      "source": [
        "model = build_model(base_layers.EVAL)\n",
        "\n",
        "# Define metrics over each category.\n",
        "metrics = []\n",
        "for i, label in enumerate(LABELS):\n",
        "  metric = tf.keras.metrics.Precision(\n",
        "      thresholds=[0.5],\n",
        "      class_id=i,\n",
        "      name='precision@0.5/{}'.format(label))\n",
        "  metrics.append(metric)\n",
        "  metric = tf.keras.metrics.Recall(\n",
        "      thresholds=[0.5],\n",
        "      class_id=i,\n",
        "      name='recall@0.5/{}'.format(label))\n",
        "  metrics.append(metric)\n",
        "\n",
        "# Define metrics over the entire task.\n",
        "metric = tf.keras.metrics.Precision(thresholds=[0.5], name='precision@0.5/all')\n",
        "metrics.append(metric)\n",
        "metric = tf.keras.metrics.Recall(thresholds=[0.5], name='recall@0.5/all')\n",
        "metrics.append(metric)\n",
        "metric = custom_f1\n",
        "metrics.append(metric)\n",
        "\n",
        "model.compile(metrics=metrics)\n",
        "\n",
        "model.load_weights(sp_filepath)\n",
        "\n",
        "#results = model.evaluate(test_dataset, verbose = 1, steps = 1000)\n",
        "#model.load_weights('model/model_checkpoint')\n",
        "result = model.evaluate(x=test_dataset, return_dict=True)"
      ]
    },
    {
      "cell_type": "code",
      "execution_count": null,
      "metadata": {
        "colab": {
          "base_uri": "https://localhost:8080/"
        },
        "id": "Zf1WNBhdHWr0",
        "outputId": "d9b493d6-c04e-4a10-ead9-5e54cf601a01"
      },
      "outputs": [
        {
          "output_type": "stream",
          "name": "stdout",
          "text": [
            "admiration: (precision@0.5: 1.0, recall@0.5: 0.9925373196601868)\n",
            "amusement: (precision@0.5: 1.0, recall@0.5: 0.800000011920929)\n",
            "anger: (precision@0.5: 1.0, recall@0.5: 0.8695651888847351)\n",
            "annoyance: (precision@0.5: 1.0, recall@0.5: 0.6666666865348816)\n",
            "approval: (precision@0.5: 1.0, recall@0.5: 0.9404761791229248)\n",
            "caring: (precision@0.5: 1.0, recall@0.5: 0.21052631735801697)\n",
            "confusion: (precision@0.5: 1.0, recall@0.5: 0.8214285969734192)\n",
            "curiosity: (precision@0.5: 0.9900000095367432, recall@0.5: 0.9428571462631226)\n",
            "desire: (precision@0.5: 0.9285714030265808, recall@0.5: 0.8387096524238586)\n",
            "disappointment: (precision@0.5: 1.0, recall@0.5: 0.9711538553237915)\n",
            "disapproval: (precision@0.5: 1.0, recall@0.5: 0.9550561904907227)\n",
            "disgust: (precision@0.5: 1.0, recall@0.5: 0.1818181872367859)\n",
            "embarrassment: (precision@0.5: 0.0, recall@0.5: 0.0)\n",
            "excitement: (precision@0.5: 1.0, recall@0.5: 0.59375)\n",
            "fear: (precision@0.5: 1.0, recall@0.5: 0.5116279125213623)\n",
            "gratitude: (precision@0.5: 0.9736841917037964, recall@0.5: 0.925000011920929)\n",
            "grief: (precision@0.5: 1.0, recall@0.5: 0.5)\n",
            "joy: (precision@0.5: 1.0, recall@0.5: 0.7142857313156128)\n",
            "love: (precision@0.5: 0.8823529481887817, recall@0.5: 0.8571428656578064)\n",
            "nervousness: (precision@0.5: 1.0, recall@0.5: 0.05882352963089943)\n",
            "optimism: (precision@0.5: 1.0, recall@0.5: 0.9763779640197754)\n",
            "pride: (precision@0.5: 1.0, recall@0.5: 0.8181818127632141)\n",
            "realization: (precision@0.5: 1.0, recall@0.5: 0.7088607549667358)\n",
            "relief: (precision@0.5: 0.0, recall@0.5: 0.0)\n",
            "remorse: (precision@0.5: 1.0, recall@0.5: 0.8292682766914368)\n",
            "sadness: (precision@0.5: 1.0, recall@0.5: 0.5)\n",
            "surprise: (precision@0.5: 0.0, recall@0.5: 0.0)\n",
            "neutral: (precision@0.5: 1.0, recall@0.5: 0.9935064911842346)\n",
            "all: (precision@0.5: 0.995277464389801, recall@0.5: 0.8758441805839539), f1-score 0.9317491223446218\n"
          ]
        }
      ],
      "source": [
        "for label in LABELS:\n",
        "  precision_key = 'precision@0.5/{}'.format(label)\n",
        "  recall_key = 'recall@0.5/{}'.format(label)\n",
        "  if precision_key in result and recall_key in result:\n",
        "    print('{}: (precision@0.5: {}, recall@0.5: {})'.format(\n",
        "        label, result[precision_key], result[recall_key]))\n",
        "    \n",
        "precision_key = 'precision@0.5/all'\n",
        "recall_key = 'recall@0.5/all'\n",
        "if precision_key in result and recall_key in result:\n",
        "  prec = result[precision_key]\n",
        "  rec = result[recall_key]\n",
        "  f1 = (2 * prec * rec) / (prec + rec)\n",
        "  print('all: (precision@0.5: {}, recall@0.5: {}), f1-score'.format(\n",
        "      result[precision_key], result[recall_key]), f1)"
      ]
    },
    {
      "cell_type": "code",
      "execution_count": null,
      "metadata": {
        "id": "KeS_fQNCUgT9"
      },
      "outputs": [],
      "source": [
        "import pandas as pd"
      ]
    },
    {
      "cell_type": "code",
      "execution_count": null,
      "metadata": {
        "id": "MmkeKdGCVHu-"
      },
      "outputs": [],
      "source": [
        "batch_df = pd.DataFrame()\n",
        "batch_df['batch_size'] = [32, 100, 300, 400, 500, 700]\n",
        "batch_df['f1_score'] = [.58, .73, .87, .89, .912, .929]"
      ]
    },
    {
      "cell_type": "code",
      "execution_count": null,
      "metadata": {
        "colab": {
          "base_uri": "https://localhost:8080/",
          "height": 314
        },
        "id": "hV-Vn9FcU0xc",
        "outputId": "475fd6ed-05e9-48dd-fdc9-d09ad6ddba44"
      },
      "outputs": [
        {
          "data": {
            "text/plain": [
              "<matplotlib.axes._subplots.AxesSubplot at 0x7f4cc1e31690>"
            ]
          },
          "execution_count": 46,
          "metadata": {},
          "output_type": "execute_result"
        },
        {
          "data": {
            "image/png": "[encoded data removed]",
            "text/plain": [
              "<Figure size 432x288 with 1 Axes>"
            ]
          },
          "metadata": {},
          "output_type": "display_data"
        }
      ],
      "source": [
        "batch_df.plot(x='batch_size', y= 'f1_score', title = 'F1 score vs. Batch Size', ylim = [0,1])"
      ]
    }
  ],
  "metadata": {
    "accelerator": "GPU",
    "colab": {
      "collapsed_sections": [],
      "machine_shape": "hm",
      "name": "GoEmotions_Finetuning_On_Spotify.ipynb",
      "provenance": []
    },
    "kernelspec": {
      "display_name": "Python 3",
      "name": "python3"
    },
    "widgets": {
      "application/vnd.jupyter.widget-state+json": {
        "f46be4652f2b46e2866c29ca74be6af0": {
          "model_module": "@jupyter-widgets/controls",
          "model_name": "HBoxModel",
          "model_module_version": "1.5.0",
          "state": {
            "_dom_classes": [],
            "_model_module": "@jupyter-widgets/controls",
            "_model_module_version": "1.5.0",
            "_model_name": "HBoxModel",
            "_view_count": null,
            "_view_module": "@jupyter-widgets/controls",
            "_view_module_version": "1.5.0",
            "_view_name": "HBoxView",
            "box_style": "",
            "children": [
              "IPY_MODEL_b7e95cd8f2c44952b2f9f5e528bcedb8",
              "IPY_MODEL_01d9740914664294bdc2f7abb7363323",
              "IPY_MODEL_421b88f7dc694be5afdbfa8af3e0081f"
            ],
            "layout": "IPY_MODEL_f1311e2bdc6c49b2838c2ea0c945dbdc"
          }
        },
        "b7e95cd8f2c44952b2f9f5e528bcedb8": {
          "model_module": "@jupyter-widgets/controls",
          "model_name": "HTMLModel",
          "model_module_version": "1.5.0",
          "state": {
            "_dom_classes": [],
            "_model_module": "@jupyter-widgets/controls",
            "_model_module_version": "1.5.0",
            "_model_name": "HTMLModel",
            "_view_count": null,
            "_view_module": "@jupyter-widgets/controls",
            "_view_module_version": "1.5.0",
            "_view_name": "HTMLView",
            "description": "",
            "description_tooltip": null,
            "layout": "IPY_MODEL_8c2de234efad47938f47510f6d9e3c84",
            "placeholder": "​",
            "style": "IPY_MODEL_aed576527a07482899abc5c9af530b36",
            "value": "Dl Completed...: 100%"
          }
        },
        "01d9740914664294bdc2f7abb7363323": {
          "model_module": "@jupyter-widgets/controls",
          "model_name": "FloatProgressModel",
          "model_module_version": "1.5.0",
          "state": {
            "_dom_classes": [],
            "_model_module": "@jupyter-widgets/controls",
            "_model_module_version": "1.5.0",
            "_model_name": "FloatProgressModel",
            "_view_count": null,
            "_view_module": "@jupyter-widgets/controls",
            "_view_module_version": "1.5.0",
            "_view_name": "ProgressView",
            "bar_style": "success",
            "description": "",
            "description_tooltip": null,
            "layout": "IPY_MODEL_e7ff19cd8d5245bcb9396de5bb49a69c",
            "max": 1,
            "min": 0,
            "orientation": "horizontal",
            "style": "IPY_MODEL_5731efb3735640c1a5935903577d338d",
            "value": 1
          }
        },
        "421b88f7dc694be5afdbfa8af3e0081f": {
          "model_module": "@jupyter-widgets/controls",
          "model_name": "HTMLModel",
          "model_module_version": "1.5.0",
          "state": {
            "_dom_classes": [],
            "_model_module": "@jupyter-widgets/controls",
            "_model_module_version": "1.5.0",
            "_model_name": "HTMLModel",
            "_view_count": null,
            "_view_module": "@jupyter-widgets/controls",
            "_view_module_version": "1.5.0",
            "_view_name": "HTMLView",
            "description": "",
            "description_tooltip": null,
            "layout": "IPY_MODEL_ec1b9eddd6b246419c6022d52feb91d5",
            "placeholder": "​",
            "style": "IPY_MODEL_983df59e01c74704853c1473b6844eee",
            "value": " 3/3 [00:01&lt;00:00,  1.63 url/s]"
          }
        },
        "f1311e2bdc6c49b2838c2ea0c945dbdc": {
          "model_module": "@jupyter-widgets/base",
          "model_name": "LayoutModel",
          "model_module_version": "1.2.0",
          "state": {
            "_model_module": "@jupyter-widgets/base",
            "_model_module_version": "1.2.0",
            "_model_name": "LayoutModel",
            "_view_count": null,
            "_view_module": "@jupyter-widgets/base",
            "_view_module_version": "1.2.0",
            "_view_name": "LayoutView",
            "align_content": null,
            "align_items": null,
            "align_self": null,
            "border": null,
            "bottom": null,
            "display": null,
            "flex": null,
            "flex_flow": null,
            "grid_area": null,
            "grid_auto_columns": null,
            "grid_auto_flow": null,
            "grid_auto_rows": null,
            "grid_column": null,
            "grid_gap": null,
            "grid_row": null,
            "grid_template_areas": null,
            "grid_template_columns": null,
            "grid_template_rows": null,
            "height": null,
            "justify_content": null,
            "justify_items": null,
            "left": null,
            "margin": null,
            "max_height": null,
            "max_width": null,
            "min_height": null,
            "min_width": null,
            "object_fit": null,
            "object_position": null,
            "order": null,
            "overflow": null,
            "overflow_x": null,
            "overflow_y": null,
            "padding": null,
            "right": null,
            "top": null,
            "visibility": null,
            "width": null
          }
        },
        "8c2de234efad47938f47510f6d9e3c84": {
          "model_module": "@jupyter-widgets/base",
          "model_name": "LayoutModel",
          "model_module_version": "1.2.0",
          "state": {
            "_model_module": "@jupyter-widgets/base",
            "_model_module_version": "1.2.0",
            "_model_name": "LayoutModel",
            "_view_count": null,
            "_view_module": "@jupyter-widgets/base",
            "_view_module_version": "1.2.0",
            "_view_name": "LayoutView",
            "align_content": null,
            "align_items": null,
            "align_self": null,
            "border": null,
            "bottom": null,
            "display": null,
            "flex": null,
            "flex_flow": null,
            "grid_area": null,
            "grid_auto_columns": null,
            "grid_auto_flow": null,
            "grid_auto_rows": null,
            "grid_column": null,
            "grid_gap": null,
            "grid_row": null,
            "grid_template_areas": null,
            "grid_template_columns": null,
            "grid_template_rows": null,
            "height": null,
            "justify_content": null,
            "justify_items": null,
            "left": null,
            "margin": null,
            "max_height": null,
            "max_width": null,
            "min_height": null,
            "min_width": null,
            "object_fit": null,
            "object_position": null,
            "order": null,
            "overflow": null,
            "overflow_x": null,
            "overflow_y": null,
            "padding": null,
            "right": null,
            "top": null,
            "visibility": null,
            "width": null
          }
        },
        "aed576527a07482899abc5c9af530b36": {
          "model_module": "@jupyter-widgets/controls",
          "model_name": "DescriptionStyleModel",
          "model_module_version": "1.5.0",
          "state": {
            "_model_module": "@jupyter-widgets/controls",
            "_model_module_version": "1.5.0",
            "_model_name": "DescriptionStyleModel",
            "_view_count": null,
            "_view_module": "@jupyter-widgets/base",
            "_view_module_version": "1.2.0",
            "_view_name": "StyleView",
            "description_width": ""
          }
        },
        "e7ff19cd8d5245bcb9396de5bb49a69c": {
          "model_module": "@jupyter-widgets/base",
          "model_name": "LayoutModel",
          "model_module_version": "1.2.0",
          "state": {
            "_model_module": "@jupyter-widgets/base",
            "_model_module_version": "1.2.0",
            "_model_name": "LayoutModel",
            "_view_count": null,
            "_view_module": "@jupyter-widgets/base",
            "_view_module_version": "1.2.0",
            "_view_name": "LayoutView",
            "align_content": null,
            "align_items": null,
            "align_self": null,
            "border": null,
            "bottom": null,
            "display": null,
            "flex": null,
            "flex_flow": null,
            "grid_area": null,
            "grid_auto_columns": null,
            "grid_auto_flow": null,
            "grid_auto_rows": null,
            "grid_column": null,
            "grid_gap": null,
            "grid_row": null,
            "grid_template_areas": null,
            "grid_template_columns": null,
            "grid_template_rows": null,
            "height": null,
            "justify_content": null,
            "justify_items": null,
            "left": null,
            "margin": null,
            "max_height": null,
            "max_width": null,
            "min_height": null,
            "min_width": null,
            "object_fit": null,
            "object_position": null,
            "order": null,
            "overflow": null,
            "overflow_x": null,
            "overflow_y": null,
            "padding": null,
            "right": null,
            "top": null,
            "visibility": null,
            "width": "20px"
          }
        },
        "5731efb3735640c1a5935903577d338d": {
          "model_module": "@jupyter-widgets/controls",
          "model_name": "ProgressStyleModel",
          "model_module_version": "1.5.0",
          "state": {
            "_model_module": "@jupyter-widgets/controls",
            "_model_module_version": "1.5.0",
            "_model_name": "ProgressStyleModel",
            "_view_count": null,
            "_view_module": "@jupyter-widgets/base",
            "_view_module_version": "1.2.0",
            "_view_name": "StyleView",
            "bar_color": null,
            "description_width": ""
          }
        },
        "ec1b9eddd6b246419c6022d52feb91d5": {
          "model_module": "@jupyter-widgets/base",
          "model_name": "LayoutModel",
          "model_module_version": "1.2.0",
          "state": {
            "_model_module": "@jupyter-widgets/base",
            "_model_module_version": "1.2.0",
            "_model_name": "LayoutModel",
            "_view_count": null,
            "_view_module": "@jupyter-widgets/base",
            "_view_module_version": "1.2.0",
            "_view_name": "LayoutView",
            "align_content": null,
            "align_items": null,
            "align_self": null,
            "border": null,
            "bottom": null,
            "display": null,
            "flex": null,
            "flex_flow": null,
            "grid_area": null,
            "grid_auto_columns": null,
            "grid_auto_flow": null,
            "grid_auto_rows": null,
            "grid_column": null,
            "grid_gap": null,
            "grid_row": null,
            "grid_template_areas": null,
            "grid_template_columns": null,
            "grid_template_rows": null,
            "height": null,
            "justify_content": null,
            "justify_items": null,
            "left": null,
            "margin": null,
            "max_height": null,
            "max_width": null,
            "min_height": null,
            "min_width": null,
            "object_fit": null,
            "object_position": null,
            "order": null,
            "overflow": null,
            "overflow_x": null,
            "overflow_y": null,
            "padding": null,
            "right": null,
            "top": null,
            "visibility": null,
            "width": null
          }
        },
        "983df59e01c74704853c1473b6844eee": {
          "model_module": "@jupyter-widgets/controls",
          "model_name": "DescriptionStyleModel",
          "model_module_version": "1.5.0",
          "state": {
            "_model_module": "@jupyter-widgets/controls",
            "_model_module_version": "1.5.0",
            "_model_name": "DescriptionStyleModel",
            "_view_count": null,
            "_view_module": "@jupyter-widgets/base",
            "_view_module_version": "1.2.0",
            "_view_name": "StyleView",
            "description_width": ""
          }
        },
        "634dfa92444a481d88ff4aeb8b8ee220": {
          "model_module": "@jupyter-widgets/controls",
          "model_name": "HBoxModel",
          "model_module_version": "1.5.0",
          "state": {
            "_dom_classes": [],
            "_model_module": "@jupyter-widgets/controls",
            "_model_module_version": "1.5.0",
            "_model_name": "HBoxModel",
            "_view_count": null,
            "_view_module": "@jupyter-widgets/controls",
            "_view_module_version": "1.5.0",
            "_view_name": "HBoxView",
            "box_style": "",
            "children": [
              "IPY_MODEL_519ca538f99f4bd986decfd65a4f74e6",
              "IPY_MODEL_db92a5abcdc548cdacc2a1b45a945c28",
              "IPY_MODEL_2b0038dd2a5b46a9bf852c4efceff63a"
            ],
            "layout": "IPY_MODEL_d4161bc42f5248dfb9d796b814a0b8d9"
          }
        },
        "519ca538f99f4bd986decfd65a4f74e6": {
          "model_module": "@jupyter-widgets/controls",
          "model_name": "HTMLModel",
          "model_module_version": "1.5.0",
          "state": {
            "_dom_classes": [],
            "_model_module": "@jupyter-widgets/controls",
            "_model_module_version": "1.5.0",
            "_model_name": "HTMLModel",
            "_view_count": null,
            "_view_module": "@jupyter-widgets/controls",
            "_view_module_version": "1.5.0",
            "_view_name": "HTMLView",
            "description": "",
            "description_tooltip": null,
            "layout": "IPY_MODEL_d26c0608af864c5089bd0b0c01f148ff",
            "placeholder": "​",
            "style": "IPY_MODEL_f13c279bd0b34f72a08acbd88889f03c",
            "value": "Dl Size...: "
          }
        },
        "db92a5abcdc548cdacc2a1b45a945c28": {
          "model_module": "@jupyter-widgets/controls",
          "model_name": "FloatProgressModel",
          "model_module_version": "1.5.0",
          "state": {
            "_dom_classes": [],
            "_model_module": "@jupyter-widgets/controls",
            "_model_module_version": "1.5.0",
            "_model_name": "FloatProgressModel",
            "_view_count": null,
            "_view_module": "@jupyter-widgets/controls",
            "_view_module_version": "1.5.0",
            "_view_name": "ProgressView",
            "bar_style": "success",
            "description": "",
            "description_tooltip": null,
            "layout": "IPY_MODEL_3bd5720a59ad4f39b1838456880c87d9",
            "max": 1,
            "min": 0,
            "orientation": "horizontal",
            "style": "IPY_MODEL_d1503fa7c63c4ea3bcb68764ed452925",
            "value": 1
          }
        },
        "2b0038dd2a5b46a9bf852c4efceff63a": {
          "model_module": "@jupyter-widgets/controls",
          "model_name": "HTMLModel",
          "model_module_version": "1.5.0",
          "state": {
            "_dom_classes": [],
            "_model_module": "@jupyter-widgets/controls",
            "_model_module_version": "1.5.0",
            "_model_name": "HTMLModel",
            "_view_count": null,
            "_view_module": "@jupyter-widgets/controls",
            "_view_module_version": "1.5.0",
            "_view_name": "HTMLView",
            "description": "",
            "description_tooltip": null,
            "layout": "IPY_MODEL_3324e1e9f8d445e5a32da7335eb37e26",
            "placeholder": "​",
            "style": "IPY_MODEL_0a238ade089c408b843e86dfae53b8fc",
            "value": " 3/? [00:01&lt;00:00,  1.78s/ MiB]"
          }
        },
        "d4161bc42f5248dfb9d796b814a0b8d9": {
          "model_module": "@jupyter-widgets/base",
          "model_name": "LayoutModel",
          "model_module_version": "1.2.0",
          "state": {
            "_model_module": "@jupyter-widgets/base",
            "_model_module_version": "1.2.0",
            "_model_name": "LayoutModel",
            "_view_count": null,
            "_view_module": "@jupyter-widgets/base",
            "_view_module_version": "1.2.0",
            "_view_name": "LayoutView",
            "align_content": null,
            "align_items": null,
            "align_self": null,
            "border": null,
            "bottom": null,
            "display": null,
            "flex": null,
            "flex_flow": null,
            "grid_area": null,
            "grid_auto_columns": null,
            "grid_auto_flow": null,
            "grid_auto_rows": null,
            "grid_column": null,
            "grid_gap": null,
            "grid_row": null,
            "grid_template_areas": null,
            "grid_template_columns": null,
            "grid_template_rows": null,
            "height": null,
            "justify_content": null,
            "justify_items": null,
            "left": null,
            "margin": null,
            "max_height": null,
            "max_width": null,
            "min_height": null,
            "min_width": null,
            "object_fit": null,
            "object_position": null,
            "order": null,
            "overflow": null,
            "overflow_x": null,
            "overflow_y": null,
            "padding": null,
            "right": null,
            "top": null,
            "visibility": null,
            "width": null
          }
        },
        "d26c0608af864c5089bd0b0c01f148ff": {
          "model_module": "@jupyter-widgets/base",
          "model_name": "LayoutModel",
          "model_module_version": "1.2.0",
          "state": {
            "_model_module": "@jupyter-widgets/base",
            "_model_module_version": "1.2.0",
            "_model_name": "LayoutModel",
            "_view_count": null,
            "_view_module": "@jupyter-widgets/base",
            "_view_module_version": "1.2.0",
            "_view_name": "LayoutView",
            "align_content": null,
            "align_items": null,
            "align_self": null,
            "border": null,
            "bottom": null,
            "display": null,
            "flex": null,
            "flex_flow": null,
            "grid_area": null,
            "grid_auto_columns": null,
            "grid_auto_flow": null,
            "grid_auto_rows": null,
            "grid_column": null,
            "grid_gap": null,
            "grid_row": null,
            "grid_template_areas": null,
            "grid_template_columns": null,
            "grid_template_rows": null,
            "height": null,
            "justify_content": null,
            "justify_items": null,
            "left": null,
            "margin": null,
            "max_height": null,
            "max_width": null,
            "min_height": null,
            "min_width": null,
            "object_fit": null,
            "object_position": null,
            "order": null,
            "overflow": null,
            "overflow_x": null,
            "overflow_y": null,
            "padding": null,
            "right": null,
            "top": null,
            "visibility": null,
            "width": null
          }
        },
        "f13c279bd0b34f72a08acbd88889f03c": {
          "model_module": "@jupyter-widgets/controls",
          "model_name": "DescriptionStyleModel",
          "model_module_version": "1.5.0",
          "state": {
            "_model_module": "@jupyter-widgets/controls",
            "_model_module_version": "1.5.0",
            "_model_name": "DescriptionStyleModel",
            "_view_count": null,
            "_view_module": "@jupyter-widgets/base",
            "_view_module_version": "1.2.0",
            "_view_name": "StyleView",
            "description_width": ""
          }
        },
        "3bd5720a59ad4f39b1838456880c87d9": {
          "model_module": "@jupyter-widgets/base",
          "model_name": "LayoutModel",
          "model_module_version": "1.2.0",
          "state": {
            "_model_module": "@jupyter-widgets/base",
            "_model_module_version": "1.2.0",
            "_model_name": "LayoutModel",
            "_view_count": null,
            "_view_module": "@jupyter-widgets/base",
            "_view_module_version": "1.2.0",
            "_view_name": "LayoutView",
            "align_content": null,
            "align_items": null,
            "align_self": null,
            "border": null,
            "bottom": null,
            "display": null,
            "flex": null,
            "flex_flow": null,
            "grid_area": null,
            "grid_auto_columns": null,
            "grid_auto_flow": null,
            "grid_auto_rows": null,
            "grid_column": null,
            "grid_gap": null,
            "grid_row": null,
            "grid_template_areas": null,
            "grid_template_columns": null,
            "grid_template_rows": null,
            "height": null,
            "justify_content": null,
            "justify_items": null,
            "left": null,
            "margin": null,
            "max_height": null,
            "max_width": null,
            "min_height": null,
            "min_width": null,
            "object_fit": null,
            "object_position": null,
            "order": null,
            "overflow": null,
            "overflow_x": null,
            "overflow_y": null,
            "padding": null,
            "right": null,
            "top": null,
            "visibility": null,
            "width": "20px"
          }
        },
        "d1503fa7c63c4ea3bcb68764ed452925": {
          "model_module": "@jupyter-widgets/controls",
          "model_name": "ProgressStyleModel",
          "model_module_version": "1.5.0",
          "state": {
            "_model_module": "@jupyter-widgets/controls",
            "_model_module_version": "1.5.0",
            "_model_name": "ProgressStyleModel",
            "_view_count": null,
            "_view_module": "@jupyter-widgets/base",
            "_view_module_version": "1.2.0",
            "_view_name": "StyleView",
            "bar_color": null,
            "description_width": ""
          }
        },
        "3324e1e9f8d445e5a32da7335eb37e26": {
          "model_module": "@jupyter-widgets/base",
          "model_name": "LayoutModel",
          "model_module_version": "1.2.0",
          "state": {
            "_model_module": "@jupyter-widgets/base",
            "_model_module_version": "1.2.0",
            "_model_name": "LayoutModel",
            "_view_count": null,
            "_view_module": "@jupyter-widgets/base",
            "_view_module_version": "1.2.0",
            "_view_name": "LayoutView",
            "align_content": null,
            "align_items": null,
            "align_self": null,
            "border": null,
            "bottom": null,
            "display": null,
            "flex": null,
            "flex_flow": null,
            "grid_area": null,
            "grid_auto_columns": null,
            "grid_auto_flow": null,
            "grid_auto_rows": null,
            "grid_column": null,
            "grid_gap": null,
            "grid_row": null,
            "grid_template_areas": null,
            "grid_template_columns": null,
            "grid_template_rows": null,
            "height": null,
            "justify_content": null,
            "justify_items": null,
            "left": null,
            "margin": null,
            "max_height": null,
            "max_width": null,
            "min_height": null,
            "min_width": null,
            "object_fit": null,
            "object_position": null,
            "order": null,
            "overflow": null,
            "overflow_x": null,
            "overflow_y": null,
            "padding": null,
            "right": null,
            "top": null,
            "visibility": null,
            "width": null
          }
        },
        "0a238ade089c408b843e86dfae53b8fc": {
          "model_module": "@jupyter-widgets/controls",
          "model_name": "DescriptionStyleModel",
          "model_module_version": "1.5.0",
          "state": {
            "_model_module": "@jupyter-widgets/controls",
            "_model_module_version": "1.5.0",
            "_model_name": "DescriptionStyleModel",
            "_view_count": null,
            "_view_module": "@jupyter-widgets/base",
            "_view_module_version": "1.2.0",
            "_view_name": "StyleView",
            "description_width": ""
          }
        },
        "d6d734534bb7412b97d8ef2f310d6f3f": {
          "model_module": "@jupyter-widgets/controls",
          "model_name": "HBoxModel",
          "model_module_version": "1.5.0",
          "state": {
            "_dom_classes": [],
            "_model_module": "@jupyter-widgets/controls",
            "_model_module_version": "1.5.0",
            "_model_name": "HBoxModel",
            "_view_count": null,
            "_view_module": "@jupyter-widgets/controls",
            "_view_module_version": "1.5.0",
            "_view_name": "HBoxView",
            "box_style": "",
            "children": [
              "IPY_MODEL_5d2f6d47713947b8a59954faa8bc1b9c",
              "IPY_MODEL_30b8d4d7bd634e63a2adf37545bf3683",
              "IPY_MODEL_b00d735519cd42239137fd481d81fa75"
            ],
            "layout": "IPY_MODEL_75847ff94f8f4b6193cf13943436f783"
          }
        },
        "5d2f6d47713947b8a59954faa8bc1b9c": {
          "model_module": "@jupyter-widgets/controls",
          "model_name": "HTMLModel",
          "model_module_version": "1.5.0",
          "state": {
            "_dom_classes": [],
            "_model_module": "@jupyter-widgets/controls",
            "_model_module_version": "1.5.0",
            "_model_name": "HTMLModel",
            "_view_count": null,
            "_view_module": "@jupyter-widgets/controls",
            "_view_module_version": "1.5.0",
            "_view_name": "HTMLView",
            "description": "",
            "description_tooltip": null,
            "layout": "IPY_MODEL_677d2c4e87b54b5fac894015a2862599",
            "placeholder": "​",
            "style": "IPY_MODEL_9fa32a111f9540feaf0fb1b330b9d6e3",
            "value": ""
          }
        },
        "30b8d4d7bd634e63a2adf37545bf3683": {
          "model_module": "@jupyter-widgets/controls",
          "model_name": "FloatProgressModel",
          "model_module_version": "1.5.0",
          "state": {
            "_dom_classes": [],
            "_model_module": "@jupyter-widgets/controls",
            "_model_module_version": "1.5.0",
            "_model_name": "FloatProgressModel",
            "_view_count": null,
            "_view_module": "@jupyter-widgets/controls",
            "_view_module_version": "1.5.0",
            "_view_name": "ProgressView",
            "bar_style": "info",
            "description": "",
            "description_tooltip": null,
            "layout": "IPY_MODEL_20e1ee350da845d681e7d633f3bf7558",
            "max": 1,
            "min": 0,
            "orientation": "horizontal",
            "style": "IPY_MODEL_d5e1818d357f47ca88c44e6949a8f1f7",
            "value": 1
          }
        },
        "b00d735519cd42239137fd481d81fa75": {
          "model_module": "@jupyter-widgets/controls",
          "model_name": "HTMLModel",
          "model_module_version": "1.5.0",
          "state": {
            "_dom_classes": [],
            "_model_module": "@jupyter-widgets/controls",
            "_model_module_version": "1.5.0",
            "_model_name": "HTMLModel",
            "_view_count": null,
            "_view_module": "@jupyter-widgets/controls",
            "_view_module_version": "1.5.0",
            "_view_name": "HTMLView",
            "description": "",
            "description_tooltip": null,
            "layout": "IPY_MODEL_3fc5fbbcf1894cf5b3b95b407eab45ce",
            "placeholder": "​",
            "style": "IPY_MODEL_3545a1bb560a4dc38cef688879db39bd",
            "value": " 43349/0 [01:05&lt;00:00, 678.29 examples/s]"
          }
        },
        "75847ff94f8f4b6193cf13943436f783": {
          "model_module": "@jupyter-widgets/base",
          "model_name": "LayoutModel",
          "model_module_version": "1.2.0",
          "state": {
            "_model_module": "@jupyter-widgets/base",
            "_model_module_version": "1.2.0",
            "_model_name": "LayoutModel",
            "_view_count": null,
            "_view_module": "@jupyter-widgets/base",
            "_view_module_version": "1.2.0",
            "_view_name": "LayoutView",
            "align_content": null,
            "align_items": null,
            "align_self": null,
            "border": null,
            "bottom": null,
            "display": null,
            "flex": null,
            "flex_flow": null,
            "grid_area": null,
            "grid_auto_columns": null,
            "grid_auto_flow": null,
            "grid_auto_rows": null,
            "grid_column": null,
            "grid_gap": null,
            "grid_row": null,
            "grid_template_areas": null,
            "grid_template_columns": null,
            "grid_template_rows": null,
            "height": null,
            "justify_content": null,
            "justify_items": null,
            "left": null,
            "margin": null,
            "max_height": null,
            "max_width": null,
            "min_height": null,
            "min_width": null,
            "object_fit": null,
            "object_position": null,
            "order": null,
            "overflow": null,
            "overflow_x": null,
            "overflow_y": null,
            "padding": null,
            "right": null,
            "top": null,
            "visibility": null,
            "width": null
          }
        },
        "677d2c4e87b54b5fac894015a2862599": {
          "model_module": "@jupyter-widgets/base",
          "model_name": "LayoutModel",
          "model_module_version": "1.2.0",
          "state": {
            "_model_module": "@jupyter-widgets/base",
            "_model_module_version": "1.2.0",
            "_model_name": "LayoutModel",
            "_view_count": null,
            "_view_module": "@jupyter-widgets/base",
            "_view_module_version": "1.2.0",
            "_view_name": "LayoutView",
            "align_content": null,
            "align_items": null,
            "align_self": null,
            "border": null,
            "bottom": null,
            "display": null,
            "flex": null,
            "flex_flow": null,
            "grid_area": null,
            "grid_auto_columns": null,
            "grid_auto_flow": null,
            "grid_auto_rows": null,
            "grid_column": null,
            "grid_gap": null,
            "grid_row": null,
            "grid_template_areas": null,
            "grid_template_columns": null,
            "grid_template_rows": null,
            "height": null,
            "justify_content": null,
            "justify_items": null,
            "left": null,
            "margin": null,
            "max_height": null,
            "max_width": null,
            "min_height": null,
            "min_width": null,
            "object_fit": null,
            "object_position": null,
            "order": null,
            "overflow": null,
            "overflow_x": null,
            "overflow_y": null,
            "padding": null,
            "right": null,
            "top": null,
            "visibility": null,
            "width": null
          }
        },
        "9fa32a111f9540feaf0fb1b330b9d6e3": {
          "model_module": "@jupyter-widgets/controls",
          "model_name": "DescriptionStyleModel",
          "model_module_version": "1.5.0",
          "state": {
            "_model_module": "@jupyter-widgets/controls",
            "_model_module_version": "1.5.0",
            "_model_name": "DescriptionStyleModel",
            "_view_count": null,
            "_view_module": "@jupyter-widgets/base",
            "_view_module_version": "1.2.0",
            "_view_name": "StyleView",
            "description_width": ""
          }
        },
        "20e1ee350da845d681e7d633f3bf7558": {
          "model_module": "@jupyter-widgets/base",
          "model_name": "LayoutModel",
          "model_module_version": "1.2.0",
          "state": {
            "_model_module": "@jupyter-widgets/base",
            "_model_module_version": "1.2.0",
            "_model_name": "LayoutModel",
            "_view_count": null,
            "_view_module": "@jupyter-widgets/base",
            "_view_module_version": "1.2.0",
            "_view_name": "LayoutView",
            "align_content": null,
            "align_items": null,
            "align_self": null,
            "border": null,
            "bottom": null,
            "display": null,
            "flex": null,
            "flex_flow": null,
            "grid_area": null,
            "grid_auto_columns": null,
            "grid_auto_flow": null,
            "grid_auto_rows": null,
            "grid_column": null,
            "grid_gap": null,
            "grid_row": null,
            "grid_template_areas": null,
            "grid_template_columns": null,
            "grid_template_rows": null,
            "height": null,
            "justify_content": null,
            "justify_items": null,
            "left": null,
            "margin": null,
            "max_height": null,
            "max_width": null,
            "min_height": null,
            "min_width": null,
            "object_fit": null,
            "object_position": null,
            "order": null,
            "overflow": null,
            "overflow_x": null,
            "overflow_y": null,
            "padding": null,
            "right": null,
            "top": null,
            "visibility": null,
            "width": "20px"
          }
        },
        "d5e1818d357f47ca88c44e6949a8f1f7": {
          "model_module": "@jupyter-widgets/controls",
          "model_name": "ProgressStyleModel",
          "model_module_version": "1.5.0",
          "state": {
            "_model_module": "@jupyter-widgets/controls",
            "_model_module_version": "1.5.0",
            "_model_name": "ProgressStyleModel",
            "_view_count": null,
            "_view_module": "@jupyter-widgets/base",
            "_view_module_version": "1.2.0",
            "_view_name": "StyleView",
            "bar_color": null,
            "description_width": ""
          }
        },
        "3fc5fbbcf1894cf5b3b95b407eab45ce": {
          "model_module": "@jupyter-widgets/base",
          "model_name": "LayoutModel",
          "model_module_version": "1.2.0",
          "state": {
            "_model_module": "@jupyter-widgets/base",
            "_model_module_version": "1.2.0",
            "_model_name": "LayoutModel",
            "_view_count": null,
            "_view_module": "@jupyter-widgets/base",
            "_view_module_version": "1.2.0",
            "_view_name": "LayoutView",
            "align_content": null,
            "align_items": null,
            "align_self": null,
            "border": null,
            "bottom": null,
            "display": null,
            "flex": null,
            "flex_flow": null,
            "grid_area": null,
            "grid_auto_columns": null,
            "grid_auto_flow": null,
            "grid_auto_rows": null,
            "grid_column": null,
            "grid_gap": null,
            "grid_row": null,
            "grid_template_areas": null,
            "grid_template_columns": null,
            "grid_template_rows": null,
            "height": null,
            "justify_content": null,
            "justify_items": null,
            "left": null,
            "margin": null,
            "max_height": null,
            "max_width": null,
            "min_height": null,
            "min_width": null,
            "object_fit": null,
            "object_position": null,
            "order": null,
            "overflow": null,
            "overflow_x": null,
            "overflow_y": null,
            "padding": null,
            "right": null,
            "top": null,
            "visibility": null,
            "width": null
          }
        },
        "3545a1bb560a4dc38cef688879db39bd": {
          "model_module": "@jupyter-widgets/controls",
          "model_name": "DescriptionStyleModel",
          "model_module_version": "1.5.0",
          "state": {
            "_model_module": "@jupyter-widgets/controls",
            "_model_module_version": "1.5.0",
            "_model_name": "DescriptionStyleModel",
            "_view_count": null,
            "_view_module": "@jupyter-widgets/base",
            "_view_module_version": "1.2.0",
            "_view_name": "StyleView",
            "description_width": ""
          }
        },
        "301df2d8151b464b9671bb0cf5512d2f": {
          "model_module": "@jupyter-widgets/controls",
          "model_name": "HBoxModel",
          "model_module_version": "1.5.0",
          "state": {
            "_dom_classes": [],
            "_model_module": "@jupyter-widgets/controls",
            "_model_module_version": "1.5.0",
            "_model_name": "HBoxModel",
            "_view_count": null,
            "_view_module": "@jupyter-widgets/controls",
            "_view_module_version": "1.5.0",
            "_view_name": "HBoxView",
            "box_style": "",
            "children": [
              "IPY_MODEL_ea68363dc5c94292a919444a9bd886ab",
              "IPY_MODEL_58ccf5557497498ba987bc664cb7504e",
              "IPY_MODEL_0e918639c33d48b3a1cad326fe8c74f0"
            ],
            "layout": "IPY_MODEL_d428a7a3c659495fb494ce58ee3caf21"
          }
        },
        "ea68363dc5c94292a919444a9bd886ab": {
          "model_module": "@jupyter-widgets/controls",
          "model_name": "HTMLModel",
          "model_module_version": "1.5.0",
          "state": {
            "_dom_classes": [],
            "_model_module": "@jupyter-widgets/controls",
            "_model_module_version": "1.5.0",
            "_model_name": "HTMLModel",
            "_view_count": null,
            "_view_module": "@jupyter-widgets/controls",
            "_view_module_version": "1.5.0",
            "_view_name": "HTMLView",
            "description": "",
            "description_tooltip": null,
            "layout": "IPY_MODEL_e007e9a6b0f049b9b7526a64fcc37c57",
            "placeholder": "​",
            "style": "IPY_MODEL_b7df5722d58b4290a42daed71297b318",
            "value": "100%"
          }
        },
        "58ccf5557497498ba987bc664cb7504e": {
          "model_module": "@jupyter-widgets/controls",
          "model_name": "FloatProgressModel",
          "model_module_version": "1.5.0",
          "state": {
            "_dom_classes": [],
            "_model_module": "@jupyter-widgets/controls",
            "_model_module_version": "1.5.0",
            "_model_name": "FloatProgressModel",
            "_view_count": null,
            "_view_module": "@jupyter-widgets/controls",
            "_view_module_version": "1.5.0",
            "_view_name": "ProgressView",
            "bar_style": "danger",
            "description": "",
            "description_tooltip": null,
            "layout": "IPY_MODEL_6264b42203964b518b65eb3a36737a79",
            "max": 43410,
            "min": 0,
            "orientation": "horizontal",
            "style": "IPY_MODEL_f8ee01ea27fc4dda96b32607469b4718",
            "value": 43409
          }
        },
        "0e918639c33d48b3a1cad326fe8c74f0": {
          "model_module": "@jupyter-widgets/controls",
          "model_name": "HTMLModel",
          "model_module_version": "1.5.0",
          "state": {
            "_dom_classes": [],
            "_model_module": "@jupyter-widgets/controls",
            "_model_module_version": "1.5.0",
            "_model_name": "HTMLModel",
            "_view_count": null,
            "_view_module": "@jupyter-widgets/controls",
            "_view_module_version": "1.5.0",
            "_view_name": "HTMLView",
            "description": "",
            "description_tooltip": null,
            "layout": "IPY_MODEL_a557b7ba13084e6ca1f4d2ea0379765b",
            "placeholder": "​",
            "style": "IPY_MODEL_14835fa947d74143a9ec4115b00d0251",
            "value": " 43409/43410 [00:00&lt;00:00, 155585.68 examples/s]"
          }
        },
        "d428a7a3c659495fb494ce58ee3caf21": {
          "model_module": "@jupyter-widgets/base",
          "model_name": "LayoutModel",
          "model_module_version": "1.2.0",
          "state": {
            "_model_module": "@jupyter-widgets/base",
            "_model_module_version": "1.2.0",
            "_model_name": "LayoutModel",
            "_view_count": null,
            "_view_module": "@jupyter-widgets/base",
            "_view_module_version": "1.2.0",
            "_view_name": "LayoutView",
            "align_content": null,
            "align_items": null,
            "align_self": null,
            "border": null,
            "bottom": null,
            "display": null,
            "flex": null,
            "flex_flow": null,
            "grid_area": null,
            "grid_auto_columns": null,
            "grid_auto_flow": null,
            "grid_auto_rows": null,
            "grid_column": null,
            "grid_gap": null,
            "grid_row": null,
            "grid_template_areas": null,
            "grid_template_columns": null,
            "grid_template_rows": null,
            "height": null,
            "justify_content": null,
            "justify_items": null,
            "left": null,
            "margin": null,
            "max_height": null,
            "max_width": null,
            "min_height": null,
            "min_width": null,
            "object_fit": null,
            "object_position": null,
            "order": null,
            "overflow": null,
            "overflow_x": null,
            "overflow_y": null,
            "padding": null,
            "right": null,
            "top": null,
            "visibility": null,
            "width": null
          }
        },
        "e007e9a6b0f049b9b7526a64fcc37c57": {
          "model_module": "@jupyter-widgets/base",
          "model_name": "LayoutModel",
          "model_module_version": "1.2.0",
          "state": {
            "_model_module": "@jupyter-widgets/base",
            "_model_module_version": "1.2.0",
            "_model_name": "LayoutModel",
            "_view_count": null,
            "_view_module": "@jupyter-widgets/base",
            "_view_module_version": "1.2.0",
            "_view_name": "LayoutView",
            "align_content": null,
            "align_items": null,
            "align_self": null,
            "border": null,
            "bottom": null,
            "display": null,
            "flex": null,
            "flex_flow": null,
            "grid_area": null,
            "grid_auto_columns": null,
            "grid_auto_flow": null,
            "grid_auto_rows": null,
            "grid_column": null,
            "grid_gap": null,
            "grid_row": null,
            "grid_template_areas": null,
            "grid_template_columns": null,
            "grid_template_rows": null,
            "height": null,
            "justify_content": null,
            "justify_items": null,
            "left": null,
            "margin": null,
            "max_height": null,
            "max_width": null,
            "min_height": null,
            "min_width": null,
            "object_fit": null,
            "object_position": null,
            "order": null,
            "overflow": null,
            "overflow_x": null,
            "overflow_y": null,
            "padding": null,
            "right": null,
            "top": null,
            "visibility": null,
            "width": null
          }
        },
        "b7df5722d58b4290a42daed71297b318": {
          "model_module": "@jupyter-widgets/controls",
          "model_name": "DescriptionStyleModel",
          "model_module_version": "1.5.0",
          "state": {
            "_model_module": "@jupyter-widgets/controls",
            "_model_module_version": "1.5.0",
            "_model_name": "DescriptionStyleModel",
            "_view_count": null,
            "_view_module": "@jupyter-widgets/base",
            "_view_module_version": "1.2.0",
            "_view_name": "StyleView",
            "description_width": ""
          }
        },
        "6264b42203964b518b65eb3a36737a79": {
          "model_module": "@jupyter-widgets/base",
          "model_name": "LayoutModel",
          "model_module_version": "1.2.0",
          "state": {
            "_model_module": "@jupyter-widgets/base",
            "_model_module_version": "1.2.0",
            "_model_name": "LayoutModel",
            "_view_count": null,
            "_view_module": "@jupyter-widgets/base",
            "_view_module_version": "1.2.0",
            "_view_name": "LayoutView",
            "align_content": null,
            "align_items": null,
            "align_self": null,
            "border": null,
            "bottom": null,
            "display": null,
            "flex": null,
            "flex_flow": null,
            "grid_area": null,
            "grid_auto_columns": null,
            "grid_auto_flow": null,
            "grid_auto_rows": null,
            "grid_column": null,
            "grid_gap": null,
            "grid_row": null,
            "grid_template_areas": null,
            "grid_template_columns": null,
            "grid_template_rows": null,
            "height": null,
            "justify_content": null,
            "justify_items": null,
            "left": null,
            "margin": null,
            "max_height": null,
            "max_width": null,
            "min_height": null,
            "min_width": null,
            "object_fit": null,
            "object_position": null,
            "order": null,
            "overflow": null,
            "overflow_x": null,
            "overflow_y": null,
            "padding": null,
            "right": null,
            "top": null,
            "visibility": null,
            "width": null
          }
        },
        "f8ee01ea27fc4dda96b32607469b4718": {
          "model_module": "@jupyter-widgets/controls",
          "model_name": "ProgressStyleModel",
          "model_module_version": "1.5.0",
          "state": {
            "_model_module": "@jupyter-widgets/controls",
            "_model_module_version": "1.5.0",
            "_model_name": "ProgressStyleModel",
            "_view_count": null,
            "_view_module": "@jupyter-widgets/base",
            "_view_module_version": "1.2.0",
            "_view_name": "StyleView",
            "bar_color": null,
            "description_width": ""
          }
        },
        "a557b7ba13084e6ca1f4d2ea0379765b": {
          "model_module": "@jupyter-widgets/base",
          "model_name": "LayoutModel",
          "model_module_version": "1.2.0",
          "state": {
            "_model_module": "@jupyter-widgets/base",
            "_model_module_version": "1.2.0",
            "_model_name": "LayoutModel",
            "_view_count": null,
            "_view_module": "@jupyter-widgets/base",
            "_view_module_version": "1.2.0",
            "_view_name": "LayoutView",
            "align_content": null,
            "align_items": null,
            "align_self": null,
            "border": null,
            "bottom": null,
            "display": null,
            "flex": null,
            "flex_flow": null,
            "grid_area": null,
            "grid_auto_columns": null,
            "grid_auto_flow": null,
            "grid_auto_rows": null,
            "grid_column": null,
            "grid_gap": null,
            "grid_row": null,
            "grid_template_areas": null,
            "grid_template_columns": null,
            "grid_template_rows": null,
            "height": null,
            "justify_content": null,
            "justify_items": null,
            "left": null,
            "margin": null,
            "max_height": null,
            "max_width": null,
            "min_height": null,
            "min_width": null,
            "object_fit": null,
            "object_position": null,
            "order": null,
            "overflow": null,
            "overflow_x": null,
            "overflow_y": null,
            "padding": null,
            "right": null,
            "top": null,
            "visibility": null,
            "width": null
          }
        },
        "14835fa947d74143a9ec4115b00d0251": {
          "model_module": "@jupyter-widgets/controls",
          "model_name": "DescriptionStyleModel",
          "model_module_version": "1.5.0",
          "state": {
            "_model_module": "@jupyter-widgets/controls",
            "_model_module_version": "1.5.0",
            "_model_name": "DescriptionStyleModel",
            "_view_count": null,
            "_view_module": "@jupyter-widgets/base",
            "_view_module_version": "1.2.0",
            "_view_name": "StyleView",
            "description_width": ""
          }
        },
        "6ac72ee26de64c518f47cddb79d7e22a": {
          "model_module": "@jupyter-widgets/controls",
          "model_name": "HBoxModel",
          "model_module_version": "1.5.0",
          "state": {
            "_dom_classes": [],
            "_model_module": "@jupyter-widgets/controls",
            "_model_module_version": "1.5.0",
            "_model_name": "HBoxModel",
            "_view_count": null,
            "_view_module": "@jupyter-widgets/controls",
            "_view_module_version": "1.5.0",
            "_view_name": "HBoxView",
            "box_style": "",
            "children": [
              "IPY_MODEL_14328d74fc644945a14985cfa1347d62",
              "IPY_MODEL_6bf57c8f52544331822e276a3b806f26",
              "IPY_MODEL_aebd95c99b824ba99fa4fd33e6b6972a"
            ],
            "layout": "IPY_MODEL_00b69db44e5b4d958405b99f54189490"
          }
        },
        "14328d74fc644945a14985cfa1347d62": {
          "model_module": "@jupyter-widgets/controls",
          "model_name": "HTMLModel",
          "model_module_version": "1.5.0",
          "state": {
            "_dom_classes": [],
            "_model_module": "@jupyter-widgets/controls",
            "_model_module_version": "1.5.0",
            "_model_name": "HTMLModel",
            "_view_count": null,
            "_view_module": "@jupyter-widgets/controls",
            "_view_module_version": "1.5.0",
            "_view_name": "HTMLView",
            "description": "",
            "description_tooltip": null,
            "layout": "IPY_MODEL_da1b1acf845d42acb71fdd2b87840f4c",
            "placeholder": "​",
            "style": "IPY_MODEL_9fed05c85a1b45698c94922b4c9a4d59",
            "value": ""
          }
        },
        "6bf57c8f52544331822e276a3b806f26": {
          "model_module": "@jupyter-widgets/controls",
          "model_name": "FloatProgressModel",
          "model_module_version": "1.5.0",
          "state": {
            "_dom_classes": [],
            "_model_module": "@jupyter-widgets/controls",
            "_model_module_version": "1.5.0",
            "_model_name": "FloatProgressModel",
            "_view_count": null,
            "_view_module": "@jupyter-widgets/controls",
            "_view_module_version": "1.5.0",
            "_view_name": "ProgressView",
            "bar_style": "info",
            "description": "",
            "description_tooltip": null,
            "layout": "IPY_MODEL_c51e9a4ce03a4a9d8c82eb9588444642",
            "max": 1,
            "min": 0,
            "orientation": "horizontal",
            "style": "IPY_MODEL_d13341f5a4ef4aed8f8c68a350cb6f12",
            "value": 1
          }
        },
        "aebd95c99b824ba99fa4fd33e6b6972a": {
          "model_module": "@jupyter-widgets/controls",
          "model_name": "HTMLModel",
          "model_module_version": "1.5.0",
          "state": {
            "_dom_classes": [],
            "_model_module": "@jupyter-widgets/controls",
            "_model_module_version": "1.5.0",
            "_model_name": "HTMLModel",
            "_view_count": null,
            "_view_module": "@jupyter-widgets/controls",
            "_view_module_version": "1.5.0",
            "_view_name": "HTMLView",
            "description": "",
            "description_tooltip": null,
            "layout": "IPY_MODEL_f0e06246abf445a0a8c273f7c23229e8",
            "placeholder": "​",
            "style": "IPY_MODEL_1a9890682aad404fa67aa06fea63e58b",
            "value": " 5363/0 [00:08&lt;00:00, 687.14 examples/s]"
          }
        },
        "00b69db44e5b4d958405b99f54189490": {
          "model_module": "@jupyter-widgets/base",
          "model_name": "LayoutModel",
          "model_module_version": "1.2.0",
          "state": {
            "_model_module": "@jupyter-widgets/base",
            "_model_module_version": "1.2.0",
            "_model_name": "LayoutModel",
            "_view_count": null,
            "_view_module": "@jupyter-widgets/base",
            "_view_module_version": "1.2.0",
            "_view_name": "LayoutView",
            "align_content": null,
            "align_items": null,
            "align_self": null,
            "border": null,
            "bottom": null,
            "display": null,
            "flex": null,
            "flex_flow": null,
            "grid_area": null,
            "grid_auto_columns": null,
            "grid_auto_flow": null,
            "grid_auto_rows": null,
            "grid_column": null,
            "grid_gap": null,
            "grid_row": null,
            "grid_template_areas": null,
            "grid_template_columns": null,
            "grid_template_rows": null,
            "height": null,
            "justify_content": null,
            "justify_items": null,
            "left": null,
            "margin": null,
            "max_height": null,
            "max_width": null,
            "min_height": null,
            "min_width": null,
            "object_fit": null,
            "object_position": null,
            "order": null,
            "overflow": null,
            "overflow_x": null,
            "overflow_y": null,
            "padding": null,
            "right": null,
            "top": null,
            "visibility": null,
            "width": null
          }
        },
        "da1b1acf845d42acb71fdd2b87840f4c": {
          "model_module": "@jupyter-widgets/base",
          "model_name": "LayoutModel",
          "model_module_version": "1.2.0",
          "state": {
            "_model_module": "@jupyter-widgets/base",
            "_model_module_version": "1.2.0",
            "_model_name": "LayoutModel",
            "_view_count": null,
            "_view_module": "@jupyter-widgets/base",
            "_view_module_version": "1.2.0",
            "_view_name": "LayoutView",
            "align_content": null,
            "align_items": null,
            "align_self": null,
            "border": null,
            "bottom": null,
            "display": null,
            "flex": null,
            "flex_flow": null,
            "grid_area": null,
            "grid_auto_columns": null,
            "grid_auto_flow": null,
            "grid_auto_rows": null,
            "grid_column": null,
            "grid_gap": null,
            "grid_row": null,
            "grid_template_areas": null,
            "grid_template_columns": null,
            "grid_template_rows": null,
            "height": null,
            "justify_content": null,
            "justify_items": null,
            "left": null,
            "margin": null,
            "max_height": null,
            "max_width": null,
            "min_height": null,
            "min_width": null,
            "object_fit": null,
            "object_position": null,
            "order": null,
            "overflow": null,
            "overflow_x": null,
            "overflow_y": null,
            "padding": null,
            "right": null,
            "top": null,
            "visibility": null,
            "width": null
          }
        },
        "9fed05c85a1b45698c94922b4c9a4d59": {
          "model_module": "@jupyter-widgets/controls",
          "model_name": "DescriptionStyleModel",
          "model_module_version": "1.5.0",
          "state": {
            "_model_module": "@jupyter-widgets/controls",
            "_model_module_version": "1.5.0",
            "_model_name": "DescriptionStyleModel",
            "_view_count": null,
            "_view_module": "@jupyter-widgets/base",
            "_view_module_version": "1.2.0",
            "_view_name": "StyleView",
            "description_width": ""
          }
        },
        "c51e9a4ce03a4a9d8c82eb9588444642": {
          "model_module": "@jupyter-widgets/base",
          "model_name": "LayoutModel",
          "model_module_version": "1.2.0",
          "state": {
            "_model_module": "@jupyter-widgets/base",
            "_model_module_version": "1.2.0",
            "_model_name": "LayoutModel",
            "_view_count": null,
            "_view_module": "@jupyter-widgets/base",
            "_view_module_version": "1.2.0",
            "_view_name": "LayoutView",
            "align_content": null,
            "align_items": null,
            "align_self": null,
            "border": null,
            "bottom": null,
            "display": null,
            "flex": null,
            "flex_flow": null,
            "grid_area": null,
            "grid_auto_columns": null,
            "grid_auto_flow": null,
            "grid_auto_rows": null,
            "grid_column": null,
            "grid_gap": null,
            "grid_row": null,
            "grid_template_areas": null,
            "grid_template_columns": null,
            "grid_template_rows": null,
            "height": null,
            "justify_content": null,
            "justify_items": null,
            "left": null,
            "margin": null,
            "max_height": null,
            "max_width": null,
            "min_height": null,
            "min_width": null,
            "object_fit": null,
            "object_position": null,
            "order": null,
            "overflow": null,
            "overflow_x": null,
            "overflow_y": null,
            "padding": null,
            "right": null,
            "top": null,
            "visibility": null,
            "width": "20px"
          }
        },
        "d13341f5a4ef4aed8f8c68a350cb6f12": {
          "model_module": "@jupyter-widgets/controls",
          "model_name": "ProgressStyleModel",
          "model_module_version": "1.5.0",
          "state": {
            "_model_module": "@jupyter-widgets/controls",
            "_model_module_version": "1.5.0",
            "_model_name": "ProgressStyleModel",
            "_view_count": null,
            "_view_module": "@jupyter-widgets/base",
            "_view_module_version": "1.2.0",
            "_view_name": "StyleView",
            "bar_color": null,
            "description_width": ""
          }
        },
        "f0e06246abf445a0a8c273f7c23229e8": {
          "model_module": "@jupyter-widgets/base",
          "model_name": "LayoutModel",
          "model_module_version": "1.2.0",
          "state": {
            "_model_module": "@jupyter-widgets/base",
            "_model_module_version": "1.2.0",
            "_model_name": "LayoutModel",
            "_view_count": null,
            "_view_module": "@jupyter-widgets/base",
            "_view_module_version": "1.2.0",
            "_view_name": "LayoutView",
            "align_content": null,
            "align_items": null,
            "align_self": null,
            "border": null,
            "bottom": null,
            "display": null,
            "flex": null,
            "flex_flow": null,
            "grid_area": null,
            "grid_auto_columns": null,
            "grid_auto_flow": null,
            "grid_auto_rows": null,
            "grid_column": null,
            "grid_gap": null,
            "grid_row": null,
            "grid_template_areas": null,
            "grid_template_columns": null,
            "grid_template_rows": null,
            "height": null,
            "justify_content": null,
            "justify_items": null,
            "left": null,
            "margin": null,
            "max_height": null,
            "max_width": null,
            "min_height": null,
            "min_width": null,
            "object_fit": null,
            "object_position": null,
            "order": null,
            "overflow": null,
            "overflow_x": null,
            "overflow_y": null,
            "padding": null,
            "right": null,
            "top": null,
            "visibility": null,
            "width": null
          }
        },
        "1a9890682aad404fa67aa06fea63e58b": {
          "model_module": "@jupyter-widgets/controls",
          "model_name": "DescriptionStyleModel",
          "model_module_version": "1.5.0",
          "state": {
            "_model_module": "@jupyter-widgets/controls",
            "_model_module_version": "1.5.0",
            "_model_name": "DescriptionStyleModel",
            "_view_count": null,
            "_view_module": "@jupyter-widgets/base",
            "_view_module_version": "1.2.0",
            "_view_name": "StyleView",
            "description_width": ""
          }
        },
        "a8a67e90e3d94af899c5d0dc5691b9d2": {
          "model_module": "@jupyter-widgets/controls",
          "model_name": "HBoxModel",
          "model_module_version": "1.5.0",
          "state": {
            "_dom_classes": [],
            "_model_module": "@jupyter-widgets/controls",
            "_model_module_version": "1.5.0",
            "_model_name": "HBoxModel",
            "_view_count": null,
            "_view_module": "@jupyter-widgets/controls",
            "_view_module_version": "1.5.0",
            "_view_name": "HBoxView",
            "box_style": "",
            "children": [
              "IPY_MODEL_9d4cd322e6e5499788fb1c856104293c",
              "IPY_MODEL_c53967ca466145cfbf242891c5e5dc93",
              "IPY_MODEL_b8db85c1a4254279bb207d41859c1b96"
            ],
            "layout": "IPY_MODEL_9deb7ce8b2dc4733b421d12431238e56"
          }
        },
        "9d4cd322e6e5499788fb1c856104293c": {
          "model_module": "@jupyter-widgets/controls",
          "model_name": "HTMLModel",
          "model_module_version": "1.5.0",
          "state": {
            "_dom_classes": [],
            "_model_module": "@jupyter-widgets/controls",
            "_model_module_version": "1.5.0",
            "_model_name": "HTMLModel",
            "_view_count": null,
            "_view_module": "@jupyter-widgets/controls",
            "_view_module_version": "1.5.0",
            "_view_name": "HTMLView",
            "description": "",
            "description_tooltip": null,
            "layout": "IPY_MODEL_83c6198093a9499a825883012081026a",
            "placeholder": "​",
            "style": "IPY_MODEL_e0432fce35b04624885efa121c38572b",
            "value": "100%"
          }
        },
        "c53967ca466145cfbf242891c5e5dc93": {
          "model_module": "@jupyter-widgets/controls",
          "model_name": "FloatProgressModel",
          "model_module_version": "1.5.0",
          "state": {
            "_dom_classes": [],
            "_model_module": "@jupyter-widgets/controls",
            "_model_module_version": "1.5.0",
            "_model_name": "FloatProgressModel",
            "_view_count": null,
            "_view_module": "@jupyter-widgets/controls",
            "_view_module_version": "1.5.0",
            "_view_name": "ProgressView",
            "bar_style": "danger",
            "description": "",
            "description_tooltip": null,
            "layout": "IPY_MODEL_242fbe30270a49b79bcc7c3c0b5a398b",
            "max": 5426,
            "min": 0,
            "orientation": "horizontal",
            "style": "IPY_MODEL_b3cdc27a366b4e87bee95167aff0b70a",
            "value": 5425
          }
        },
        "b8db85c1a4254279bb207d41859c1b96": {
          "model_module": "@jupyter-widgets/controls",
          "model_name": "HTMLModel",
          "model_module_version": "1.5.0",
          "state": {
            "_dom_classes": [],
            "_model_module": "@jupyter-widgets/controls",
            "_model_module_version": "1.5.0",
            "_model_name": "HTMLModel",
            "_view_count": null,
            "_view_module": "@jupyter-widgets/controls",
            "_view_module_version": "1.5.0",
            "_view_name": "HTMLView",
            "description": "",
            "description_tooltip": null,
            "layout": "IPY_MODEL_5dfb3b3d7a0e408fa07273de0fe21d0b",
            "placeholder": "​",
            "style": "IPY_MODEL_8c9ab4645ee24c12b6c73bc881b9bec1",
            "value": " 5425/5426 [00:00&lt;00:00, 84005.93 examples/s]"
          }
        },
        "9deb7ce8b2dc4733b421d12431238e56": {
          "model_module": "@jupyter-widgets/base",
          "model_name": "LayoutModel",
          "model_module_version": "1.2.0",
          "state": {
            "_model_module": "@jupyter-widgets/base",
            "_model_module_version": "1.2.0",
            "_model_name": "LayoutModel",
            "_view_count": null,
            "_view_module": "@jupyter-widgets/base",
            "_view_module_version": "1.2.0",
            "_view_name": "LayoutView",
            "align_content": null,
            "align_items": null,
            "align_self": null,
            "border": null,
            "bottom": null,
            "display": null,
            "flex": null,
            "flex_flow": null,
            "grid_area": null,
            "grid_auto_columns": null,
            "grid_auto_flow": null,
            "grid_auto_rows": null,
            "grid_column": null,
            "grid_gap": null,
            "grid_row": null,
            "grid_template_areas": null,
            "grid_template_columns": null,
            "grid_template_rows": null,
            "height": null,
            "justify_content": null,
            "justify_items": null,
            "left": null,
            "margin": null,
            "max_height": null,
            "max_width": null,
            "min_height": null,
            "min_width": null,
            "object_fit": null,
            "object_position": null,
            "order": null,
            "overflow": null,
            "overflow_x": null,
            "overflow_y": null,
            "padding": null,
            "right": null,
            "top": null,
            "visibility": null,
            "width": null
          }
        },
        "83c6198093a9499a825883012081026a": {
          "model_module": "@jupyter-widgets/base",
          "model_name": "LayoutModel",
          "model_module_version": "1.2.0",
          "state": {
            "_model_module": "@jupyter-widgets/base",
            "_model_module_version": "1.2.0",
            "_model_name": "LayoutModel",
            "_view_count": null,
            "_view_module": "@jupyter-widgets/base",
            "_view_module_version": "1.2.0",
            "_view_name": "LayoutView",
            "align_content": null,
            "align_items": null,
            "align_self": null,
            "border": null,
            "bottom": null,
            "display": null,
            "flex": null,
            "flex_flow": null,
            "grid_area": null,
            "grid_auto_columns": null,
            "grid_auto_flow": null,
            "grid_auto_rows": null,
            "grid_column": null,
            "grid_gap": null,
            "grid_row": null,
            "grid_template_areas": null,
            "grid_template_columns": null,
            "grid_template_rows": null,
            "height": null,
            "justify_content": null,
            "justify_items": null,
            "left": null,
            "margin": null,
            "max_height": null,
            "max_width": null,
            "min_height": null,
            "min_width": null,
            "object_fit": null,
            "object_position": null,
            "order": null,
            "overflow": null,
            "overflow_x": null,
            "overflow_y": null,
            "padding": null,
            "right": null,
            "top": null,
            "visibility": null,
            "width": null
          }
        },
        "e0432fce35b04624885efa121c38572b": {
          "model_module": "@jupyter-widgets/controls",
          "model_name": "DescriptionStyleModel",
          "model_module_version": "1.5.0",
          "state": {
            "_model_module": "@jupyter-widgets/controls",
            "_model_module_version": "1.5.0",
            "_model_name": "DescriptionStyleModel",
            "_view_count": null,
            "_view_module": "@jupyter-widgets/base",
            "_view_module_version": "1.2.0",
            "_view_name": "StyleView",
            "description_width": ""
          }
        },
        "242fbe30270a49b79bcc7c3c0b5a398b": {
          "model_module": "@jupyter-widgets/base",
          "model_name": "LayoutModel",
          "model_module_version": "1.2.0",
          "state": {
            "_model_module": "@jupyter-widgets/base",
            "_model_module_version": "1.2.0",
            "_model_name": "LayoutModel",
            "_view_count": null,
            "_view_module": "@jupyter-widgets/base",
            "_view_module_version": "1.2.0",
            "_view_name": "LayoutView",
            "align_content": null,
            "align_items": null,
            "align_self": null,
            "border": null,
            "bottom": null,
            "display": null,
            "flex": null,
            "flex_flow": null,
            "grid_area": null,
            "grid_auto_columns": null,
            "grid_auto_flow": null,
            "grid_auto_rows": null,
            "grid_column": null,
            "grid_gap": null,
            "grid_row": null,
            "grid_template_areas": null,
            "grid_template_columns": null,
            "grid_template_rows": null,
            "height": null,
            "justify_content": null,
            "justify_items": null,
            "left": null,
            "margin": null,
            "max_height": null,
            "max_width": null,
            "min_height": null,
            "min_width": null,
            "object_fit": null,
            "object_position": null,
            "order": null,
            "overflow": null,
            "overflow_x": null,
            "overflow_y": null,
            "padding": null,
            "right": null,
            "top": null,
            "visibility": null,
            "width": null
          }
        },
        "b3cdc27a366b4e87bee95167aff0b70a": {
          "model_module": "@jupyter-widgets/controls",
          "model_name": "ProgressStyleModel",
          "model_module_version": "1.5.0",
          "state": {
            "_model_module": "@jupyter-widgets/controls",
            "_model_module_version": "1.5.0",
            "_model_name": "ProgressStyleModel",
            "_view_count": null,
            "_view_module": "@jupyter-widgets/base",
            "_view_module_version": "1.2.0",
            "_view_name": "StyleView",
            "bar_color": null,
            "description_width": ""
          }
        },
        "5dfb3b3d7a0e408fa07273de0fe21d0b": {
          "model_module": "@jupyter-widgets/base",
          "model_name": "LayoutModel",
          "model_module_version": "1.2.0",
          "state": {
            "_model_module": "@jupyter-widgets/base",
            "_model_module_version": "1.2.0",
            "_model_name": "LayoutModel",
            "_view_count": null,
            "_view_module": "@jupyter-widgets/base",
            "_view_module_version": "1.2.0",
            "_view_name": "LayoutView",
            "align_content": null,
            "align_items": null,
            "align_self": null,
            "border": null,
            "bottom": null,
            "display": null,
            "flex": null,
            "flex_flow": null,
            "grid_area": null,
            "grid_auto_columns": null,
            "grid_auto_flow": null,
            "grid_auto_rows": null,
            "grid_column": null,
            "grid_gap": null,
            "grid_row": null,
            "grid_template_areas": null,
            "grid_template_columns": null,
            "grid_template_rows": null,
            "height": null,
            "justify_content": null,
            "justify_items": null,
            "left": null,
            "margin": null,
            "max_height": null,
            "max_width": null,
            "min_height": null,
            "min_width": null,
            "object_fit": null,
            "object_position": null,
            "order": null,
            "overflow": null,
            "overflow_x": null,
            "overflow_y": null,
            "padding": null,
            "right": null,
            "top": null,
            "visibility": null,
            "width": null
          }
        },
        "8c9ab4645ee24c12b6c73bc881b9bec1": {
          "model_module": "@jupyter-widgets/controls",
          "model_name": "DescriptionStyleModel",
          "model_module_version": "1.5.0",
          "state": {
            "_model_module": "@jupyter-widgets/controls",
            "_model_module_version": "1.5.0",
            "_model_name": "DescriptionStyleModel",
            "_view_count": null,
            "_view_module": "@jupyter-widgets/base",
            "_view_module_version": "1.2.0",
            "_view_name": "StyleView",
            "description_width": ""
          }
        },
        "23b03c467258492cab5b2ddb80b4d3de": {
          "model_module": "@jupyter-widgets/controls",
          "model_name": "HBoxModel",
          "model_module_version": "1.5.0",
          "state": {
            "_dom_classes": [],
            "_model_module": "@jupyter-widgets/controls",
            "_model_module_version": "1.5.0",
            "_model_name": "HBoxModel",
            "_view_count": null,
            "_view_module": "@jupyter-widgets/controls",
            "_view_module_version": "1.5.0",
            "_view_name": "HBoxView",
            "box_style": "",
            "children": [
              "IPY_MODEL_ea220738c17b4368871e766d20885562",
              "IPY_MODEL_882c2f19fc78420799eedfe5b86be596",
              "IPY_MODEL_86c4fdc086f042ca84e06f91cd2e8dd8"
            ],
            "layout": "IPY_MODEL_92c8d7c61c534f089114d54de0907328"
          }
        },
        "ea220738c17b4368871e766d20885562": {
          "model_module": "@jupyter-widgets/controls",
          "model_name": "HTMLModel",
          "model_module_version": "1.5.0",
          "state": {
            "_dom_classes": [],
            "_model_module": "@jupyter-widgets/controls",
            "_model_module_version": "1.5.0",
            "_model_name": "HTMLModel",
            "_view_count": null,
            "_view_module": "@jupyter-widgets/controls",
            "_view_module_version": "1.5.0",
            "_view_name": "HTMLView",
            "description": "",
            "description_tooltip": null,
            "layout": "IPY_MODEL_2bcb5d4dab7f41eea4eb7b9260beadca",
            "placeholder": "​",
            "style": "IPY_MODEL_b3a3218fffcc478c89e2de11fb939830",
            "value": ""
          }
        },
        "882c2f19fc78420799eedfe5b86be596": {
          "model_module": "@jupyter-widgets/controls",
          "model_name": "FloatProgressModel",
          "model_module_version": "1.5.0",
          "state": {
            "_dom_classes": [],
            "_model_module": "@jupyter-widgets/controls",
            "_model_module_version": "1.5.0",
            "_model_name": "FloatProgressModel",
            "_view_count": null,
            "_view_module": "@jupyter-widgets/controls",
            "_view_module_version": "1.5.0",
            "_view_name": "ProgressView",
            "bar_style": "info",
            "description": "",
            "description_tooltip": null,
            "layout": "IPY_MODEL_2660b2ad15274abdab76efc548d79b81",
            "max": 1,
            "min": 0,
            "orientation": "horizontal",
            "style": "IPY_MODEL_92e384cb408448b9bf3f6adc2d4544e4",
            "value": 1
          }
        },
        "86c4fdc086f042ca84e06f91cd2e8dd8": {
          "model_module": "@jupyter-widgets/controls",
          "model_name": "HTMLModel",
          "model_module_version": "1.5.0",
          "state": {
            "_dom_classes": [],
            "_model_module": "@jupyter-widgets/controls",
            "_model_module_version": "1.5.0",
            "_model_name": "HTMLModel",
            "_view_count": null,
            "_view_module": "@jupyter-widgets/controls",
            "_view_module_version": "1.5.0",
            "_view_name": "HTMLView",
            "description": "",
            "description_tooltip": null,
            "layout": "IPY_MODEL_230f9ee158154ffb9625d4025c74b9b6",
            "placeholder": "​",
            "style": "IPY_MODEL_b45db35de9554c4abfa81cf03e830db6",
            "value": " 5420/0 [00:08&lt;00:00, 600.00 examples/s]"
          }
        },
        "92c8d7c61c534f089114d54de0907328": {
          "model_module": "@jupyter-widgets/base",
          "model_name": "LayoutModel",
          "model_module_version": "1.2.0",
          "state": {
            "_model_module": "@jupyter-widgets/base",
            "_model_module_version": "1.2.0",
            "_model_name": "LayoutModel",
            "_view_count": null,
            "_view_module": "@jupyter-widgets/base",
            "_view_module_version": "1.2.0",
            "_view_name": "LayoutView",
            "align_content": null,
            "align_items": null,
            "align_self": null,
            "border": null,
            "bottom": null,
            "display": null,
            "flex": null,
            "flex_flow": null,
            "grid_area": null,
            "grid_auto_columns": null,
            "grid_auto_flow": null,
            "grid_auto_rows": null,
            "grid_column": null,
            "grid_gap": null,
            "grid_row": null,
            "grid_template_areas": null,
            "grid_template_columns": null,
            "grid_template_rows": null,
            "height": null,
            "justify_content": null,
            "justify_items": null,
            "left": null,
            "margin": null,
            "max_height": null,
            "max_width": null,
            "min_height": null,
            "min_width": null,
            "object_fit": null,
            "object_position": null,
            "order": null,
            "overflow": null,
            "overflow_x": null,
            "overflow_y": null,
            "padding": null,
            "right": null,
            "top": null,
            "visibility": null,
            "width": null
          }
        },
        "2bcb5d4dab7f41eea4eb7b9260beadca": {
          "model_module": "@jupyter-widgets/base",
          "model_name": "LayoutModel",
          "model_module_version": "1.2.0",
          "state": {
            "_model_module": "@jupyter-widgets/base",
            "_model_module_version": "1.2.0",
            "_model_name": "LayoutModel",
            "_view_count": null,
            "_view_module": "@jupyter-widgets/base",
            "_view_module_version": "1.2.0",
            "_view_name": "LayoutView",
            "align_content": null,
            "align_items": null,
            "align_self": null,
            "border": null,
            "bottom": null,
            "display": null,
            "flex": null,
            "flex_flow": null,
            "grid_area": null,
            "grid_auto_columns": null,
            "grid_auto_flow": null,
            "grid_auto_rows": null,
            "grid_column": null,
            "grid_gap": null,
            "grid_row": null,
            "grid_template_areas": null,
            "grid_template_columns": null,
            "grid_template_rows": null,
            "height": null,
            "justify_content": null,
            "justify_items": null,
            "left": null,
            "margin": null,
            "max_height": null,
            "max_width": null,
            "min_height": null,
            "min_width": null,
            "object_fit": null,
            "object_position": null,
            "order": null,
            "overflow": null,
            "overflow_x": null,
            "overflow_y": null,
            "padding": null,
            "right": null,
            "top": null,
            "visibility": null,
            "width": null
          }
        },
        "b3a3218fffcc478c89e2de11fb939830": {
          "model_module": "@jupyter-widgets/controls",
          "model_name": "DescriptionStyleModel",
          "model_module_version": "1.5.0",
          "state": {
            "_model_module": "@jupyter-widgets/controls",
            "_model_module_version": "1.5.0",
            "_model_name": "DescriptionStyleModel",
            "_view_count": null,
            "_view_module": "@jupyter-widgets/base",
            "_view_module_version": "1.2.0",
            "_view_name": "StyleView",
            "description_width": ""
          }
        },
        "2660b2ad15274abdab76efc548d79b81": {
          "model_module": "@jupyter-widgets/base",
          "model_name": "LayoutModel",
          "model_module_version": "1.2.0",
          "state": {
            "_model_module": "@jupyter-widgets/base",
            "_model_module_version": "1.2.0",
            "_model_name": "LayoutModel",
            "_view_count": null,
            "_view_module": "@jupyter-widgets/base",
            "_view_module_version": "1.2.0",
            "_view_name": "LayoutView",
            "align_content": null,
            "align_items": null,
            "align_self": null,
            "border": null,
            "bottom": null,
            "display": null,
            "flex": null,
            "flex_flow": null,
            "grid_area": null,
            "grid_auto_columns": null,
            "grid_auto_flow": null,
            "grid_auto_rows": null,
            "grid_column": null,
            "grid_gap": null,
            "grid_row": null,
            "grid_template_areas": null,
            "grid_template_columns": null,
            "grid_template_rows": null,
            "height": null,
            "justify_content": null,
            "justify_items": null,
            "left": null,
            "margin": null,
            "max_height": null,
            "max_width": null,
            "min_height": null,
            "min_width": null,
            "object_fit": null,
            "object_position": null,
            "order": null,
            "overflow": null,
            "overflow_x": null,
            "overflow_y": null,
            "padding": null,
            "right": null,
            "top": null,
            "visibility": null,
            "width": "20px"
          }
        },
        "92e384cb408448b9bf3f6adc2d4544e4": {
          "model_module": "@jupyter-widgets/controls",
          "model_name": "ProgressStyleModel",
          "model_module_version": "1.5.0",
          "state": {
            "_model_module": "@jupyter-widgets/controls",
            "_model_module_version": "1.5.0",
            "_model_name": "ProgressStyleModel",
            "_view_count": null,
            "_view_module": "@jupyter-widgets/base",
            "_view_module_version": "1.2.0",
            "_view_name": "StyleView",
            "bar_color": null,
            "description_width": ""
          }
        },
        "230f9ee158154ffb9625d4025c74b9b6": {
          "model_module": "@jupyter-widgets/base",
          "model_name": "LayoutModel",
          "model_module_version": "1.2.0",
          "state": {
            "_model_module": "@jupyter-widgets/base",
            "_model_module_version": "1.2.0",
            "_model_name": "LayoutModel",
            "_view_count": null,
            "_view_module": "@jupyter-widgets/base",
            "_view_module_version": "1.2.0",
            "_view_name": "LayoutView",
            "align_content": null,
            "align_items": null,
            "align_self": null,
            "border": null,
            "bottom": null,
            "display": null,
            "flex": null,
            "flex_flow": null,
            "grid_area": null,
            "grid_auto_columns": null,
            "grid_auto_flow": null,
            "grid_auto_rows": null,
            "grid_column": null,
            "grid_gap": null,
            "grid_row": null,
            "grid_template_areas": null,
            "grid_template_columns": null,
            "grid_template_rows": null,
            "height": null,
            "justify_content": null,
            "justify_items": null,
            "left": null,
            "margin": null,
            "max_height": null,
            "max_width": null,
            "min_height": null,
            "min_width": null,
            "object_fit": null,
            "object_position": null,
            "order": null,
            "overflow": null,
            "overflow_x": null,
            "overflow_y": null,
            "padding": null,
            "right": null,
            "top": null,
            "visibility": null,
            "width": null
          }
        },
        "b45db35de9554c4abfa81cf03e830db6": {
          "model_module": "@jupyter-widgets/controls",
          "model_name": "DescriptionStyleModel",
          "model_module_version": "1.5.0",
          "state": {
            "_model_module": "@jupyter-widgets/controls",
            "_model_module_version": "1.5.0",
            "_model_name": "DescriptionStyleModel",
            "_view_count": null,
            "_view_module": "@jupyter-widgets/base",
            "_view_module_version": "1.2.0",
            "_view_name": "StyleView",
            "description_width": ""
          }
        },
        "fce549909b434b9684f6fd793b898121": {
          "model_module": "@jupyter-widgets/controls",
          "model_name": "HBoxModel",
          "model_module_version": "1.5.0",
          "state": {
            "_dom_classes": [],
            "_model_module": "@jupyter-widgets/controls",
            "_model_module_version": "1.5.0",
            "_model_name": "HBoxModel",
            "_view_count": null,
            "_view_module": "@jupyter-widgets/controls",
            "_view_module_version": "1.5.0",
            "_view_name": "HBoxView",
            "box_style": "",
            "children": [
              "IPY_MODEL_21209dfb570d48b58ad28b818ef4064b",
              "IPY_MODEL_df13f7fc8098449eafd7606b0079c6b6",
              "IPY_MODEL_8f16645c2e994217b3181a76e6fa6ab0"
            ],
            "layout": "IPY_MODEL_e11e6b5ebf404b57b55b7ab764e3ec0f"
          }
        },
        "21209dfb570d48b58ad28b818ef4064b": {
          "model_module": "@jupyter-widgets/controls",
          "model_name": "HTMLModel",
          "model_module_version": "1.5.0",
          "state": {
            "_dom_classes": [],
            "_model_module": "@jupyter-widgets/controls",
            "_model_module_version": "1.5.0",
            "_model_name": "HTMLModel",
            "_view_count": null,
            "_view_module": "@jupyter-widgets/controls",
            "_view_module_version": "1.5.0",
            "_view_name": "HTMLView",
            "description": "",
            "description_tooltip": null,
            "layout": "IPY_MODEL_f4f1d152a78f4883baabd625c99f7dcf",
            "placeholder": "​",
            "style": "IPY_MODEL_d41903ccfe7243bc8b26ed678c89ca93",
            "value": "100%"
          }
        },
        "df13f7fc8098449eafd7606b0079c6b6": {
          "model_module": "@jupyter-widgets/controls",
          "model_name": "FloatProgressModel",
          "model_module_version": "1.5.0",
          "state": {
            "_dom_classes": [],
            "_model_module": "@jupyter-widgets/controls",
            "_model_module_version": "1.5.0",
            "_model_name": "FloatProgressModel",
            "_view_count": null,
            "_view_module": "@jupyter-widgets/controls",
            "_view_module_version": "1.5.0",
            "_view_name": "ProgressView",
            "bar_style": "danger",
            "description": "",
            "description_tooltip": null,
            "layout": "IPY_MODEL_df6719544588479d8dacac9d7ff41e58",
            "max": 5427,
            "min": 0,
            "orientation": "horizontal",
            "style": "IPY_MODEL_97c3932648b84f8795030512f57fa82d",
            "value": 5426
          }
        },
        "8f16645c2e994217b3181a76e6fa6ab0": {
          "model_module": "@jupyter-widgets/controls",
          "model_name": "HTMLModel",
          "model_module_version": "1.5.0",
          "state": {
            "_dom_classes": [],
            "_model_module": "@jupyter-widgets/controls",
            "_model_module_version": "1.5.0",
            "_model_name": "HTMLModel",
            "_view_count": null,
            "_view_module": "@jupyter-widgets/controls",
            "_view_module_version": "1.5.0",
            "_view_name": "HTMLView",
            "description": "",
            "description_tooltip": null,
            "layout": "IPY_MODEL_b8e3ec65db08478484333cee24441efc",
            "placeholder": "​",
            "style": "IPY_MODEL_cd723fc3f89b45f38519bc006e4b8804",
            "value": " 5426/5427 [00:00&lt;00:00, 104232.80 examples/s]"
          }
        },
        "e11e6b5ebf404b57b55b7ab764e3ec0f": {
          "model_module": "@jupyter-widgets/base",
          "model_name": "LayoutModel",
          "model_module_version": "1.2.0",
          "state": {
            "_model_module": "@jupyter-widgets/base",
            "_model_module_version": "1.2.0",
            "_model_name": "LayoutModel",
            "_view_count": null,
            "_view_module": "@jupyter-widgets/base",
            "_view_module_version": "1.2.0",
            "_view_name": "LayoutView",
            "align_content": null,
            "align_items": null,
            "align_self": null,
            "border": null,
            "bottom": null,
            "display": null,
            "flex": null,
            "flex_flow": null,
            "grid_area": null,
            "grid_auto_columns": null,
            "grid_auto_flow": null,
            "grid_auto_rows": null,
            "grid_column": null,
            "grid_gap": null,
            "grid_row": null,
            "grid_template_areas": null,
            "grid_template_columns": null,
            "grid_template_rows": null,
            "height": null,
            "justify_content": null,
            "justify_items": null,
            "left": null,
            "margin": null,
            "max_height": null,
            "max_width": null,
            "min_height": null,
            "min_width": null,
            "object_fit": null,
            "object_position": null,
            "order": null,
            "overflow": null,
            "overflow_x": null,
            "overflow_y": null,
            "padding": null,
            "right": null,
            "top": null,
            "visibility": null,
            "width": null
          }
        },
        "f4f1d152a78f4883baabd625c99f7dcf": {
          "model_module": "@jupyter-widgets/base",
          "model_name": "LayoutModel",
          "model_module_version": "1.2.0",
          "state": {
            "_model_module": "@jupyter-widgets/base",
            "_model_module_version": "1.2.0",
            "_model_name": "LayoutModel",
            "_view_count": null,
            "_view_module": "@jupyter-widgets/base",
            "_view_module_version": "1.2.0",
            "_view_name": "LayoutView",
            "align_content": null,
            "align_items": null,
            "align_self": null,
            "border": null,
            "bottom": null,
            "display": null,
            "flex": null,
            "flex_flow": null,
            "grid_area": null,
            "grid_auto_columns": null,
            "grid_auto_flow": null,
            "grid_auto_rows": null,
            "grid_column": null,
            "grid_gap": null,
            "grid_row": null,
            "grid_template_areas": null,
            "grid_template_columns": null,
            "grid_template_rows": null,
            "height": null,
            "justify_content": null,
            "justify_items": null,
            "left": null,
            "margin": null,
            "max_height": null,
            "max_width": null,
            "min_height": null,
            "min_width": null,
            "object_fit": null,
            "object_position": null,
            "order": null,
            "overflow": null,
            "overflow_x": null,
            "overflow_y": null,
            "padding": null,
            "right": null,
            "top": null,
            "visibility": null,
            "width": null
          }
        },
        "d41903ccfe7243bc8b26ed678c89ca93": {
          "model_module": "@jupyter-widgets/controls",
          "model_name": "DescriptionStyleModel",
          "model_module_version": "1.5.0",
          "state": {
            "_model_module": "@jupyter-widgets/controls",
            "_model_module_version": "1.5.0",
            "_model_name": "DescriptionStyleModel",
            "_view_count": null,
            "_view_module": "@jupyter-widgets/base",
            "_view_module_version": "1.2.0",
            "_view_name": "StyleView",
            "description_width": ""
          }
        },
        "df6719544588479d8dacac9d7ff41e58": {
          "model_module": "@jupyter-widgets/base",
          "model_name": "LayoutModel",
          "model_module_version": "1.2.0",
          "state": {
            "_model_module": "@jupyter-widgets/base",
            "_model_module_version": "1.2.0",
            "_model_name": "LayoutModel",
            "_view_count": null,
            "_view_module": "@jupyter-widgets/base",
            "_view_module_version": "1.2.0",
            "_view_name": "LayoutView",
            "align_content": null,
            "align_items": null,
            "align_self": null,
            "border": null,
            "bottom": null,
            "display": null,
            "flex": null,
            "flex_flow": null,
            "grid_area": null,
            "grid_auto_columns": null,
            "grid_auto_flow": null,
            "grid_auto_rows": null,
            "grid_column": null,
            "grid_gap": null,
            "grid_row": null,
            "grid_template_areas": null,
            "grid_template_columns": null,
            "grid_template_rows": null,
            "height": null,
            "justify_content": null,
            "justify_items": null,
            "left": null,
            "margin": null,
            "max_height": null,
            "max_width": null,
            "min_height": null,
            "min_width": null,
            "object_fit": null,
            "object_position": null,
            "order": null,
            "overflow": null,
            "overflow_x": null,
            "overflow_y": null,
            "padding": null,
            "right": null,
            "top": null,
            "visibility": null,
            "width": null
          }
        },
        "97c3932648b84f8795030512f57fa82d": {
          "model_module": "@jupyter-widgets/controls",
          "model_name": "ProgressStyleModel",
          "model_module_version": "1.5.0",
          "state": {
            "_model_module": "@jupyter-widgets/controls",
            "_model_module_version": "1.5.0",
            "_model_name": "ProgressStyleModel",
            "_view_count": null,
            "_view_module": "@jupyter-widgets/base",
            "_view_module_version": "1.2.0",
            "_view_name": "StyleView",
            "bar_color": null,
            "description_width": ""
          }
        },
        "b8e3ec65db08478484333cee24441efc": {
          "model_module": "@jupyter-widgets/base",
          "model_name": "LayoutModel",
          "model_module_version": "1.2.0",
          "state": {
            "_model_module": "@jupyter-widgets/base",
            "_model_module_version": "1.2.0",
            "_model_name": "LayoutModel",
            "_view_count": null,
            "_view_module": "@jupyter-widgets/base",
            "_view_module_version": "1.2.0",
            "_view_name": "LayoutView",
            "align_content": null,
            "align_items": null,
            "align_self": null,
            "border": null,
            "bottom": null,
            "display": null,
            "flex": null,
            "flex_flow": null,
            "grid_area": null,
            "grid_auto_columns": null,
            "grid_auto_flow": null,
            "grid_auto_rows": null,
            "grid_column": null,
            "grid_gap": null,
            "grid_row": null,
            "grid_template_areas": null,
            "grid_template_columns": null,
            "grid_template_rows": null,
            "height": null,
            "justify_content": null,
            "justify_items": null,
            "left": null,
            "margin": null,
            "max_height": null,
            "max_width": null,
            "min_height": null,
            "min_width": null,
            "object_fit": null,
            "object_position": null,
            "order": null,
            "overflow": null,
            "overflow_x": null,
            "overflow_y": null,
            "padding": null,
            "right": null,
            "top": null,
            "visibility": null,
            "width": null
          }
        },
        "cd723fc3f89b45f38519bc006e4b8804": {
          "model_module": "@jupyter-widgets/controls",
          "model_name": "DescriptionStyleModel",
          "model_module_version": "1.5.0",
          "state": {
            "_model_module": "@jupyter-widgets/controls",
            "_model_module_version": "1.5.0",
            "_model_name": "DescriptionStyleModel",
            "_view_count": null,
            "_view_module": "@jupyter-widgets/base",
            "_view_module_version": "1.2.0",
            "_view_name": "StyleView",
            "description_width": ""
          }
        }
      }
    }
  },
  "nbformat": 4,
  "nbformat_minor": 0
}