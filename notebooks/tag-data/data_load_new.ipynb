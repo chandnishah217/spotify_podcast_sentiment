{
 "cells": [
  {
   "cell_type": "code",
   "execution_count": 2,
   "id": "a1b4ff5e",
   "metadata": {},
   "outputs": [],
   "source": [
    "import copy\n",
    "import matplotlib.pyplot as plt \n",
    "import numpy as np\n",
    "import os \n",
    "import progressbar #pip3 install progressbar2\n",
    "import random\n",
    "import sys\n",
    "import time\n",
    "\n",
    "from PIL import Image\n",
    "from skimage import data, color\n",
    "from skimage.transform import rescale, resize, downscale_local_mean"
   ]
  },
  {
   "cell_type": "code",
   "execution_count": 3,
   "id": "0f7a7253",
   "metadata": {},
   "outputs": [],
   "source": [
    "import json\n",
    "import pandas as pd\n",
    "import csv"
   ]
  },
  {
   "cell_type": "code",
   "execution_count": 3,
   "id": "b84e7e05",
   "metadata": {},
   "outputs": [],
   "source": [
    "#read in CSV for random selection of sentences\n",
    "file = open('podcast_sentences.csv')\n",
    "csvreader = csv.reader(file)"
   ]
  },
  {
   "cell_type": "code",
   "execution_count": 4,
   "id": "2c98ab83",
   "metadata": {},
   "outputs": [
    {
     "data": {
      "text/plain": [
       "['sent']"
      ]
     },
     "execution_count": 4,
     "metadata": {},
     "output_type": "execute_result"
    }
   ],
   "source": [
    "header = []\n",
    "header = next(csvreader)\n",
    "header"
   ]
  },
  {
   "cell_type": "code",
   "execution_count": 5,
   "id": "2b340785",
   "metadata": {},
   "outputs": [
    {
     "data": {
      "text/plain": [
       "12460025"
      ]
     },
     "execution_count": 5,
     "metadata": {},
     "output_type": "execute_result"
    }
   ],
   "source": [
    "rows = []\n",
    "for row in csvreader:\n",
    "        rows.append(row)\n",
    "len(rows)"
   ]
  },
  {
   "cell_type": "code",
   "execution_count": 7,
   "id": "229adb0b",
   "metadata": {},
   "outputs": [],
   "source": [
    "#flatten list of list into list of strings\n",
    "flat_rows = [item for sublist in rows for item in sublist]"
   ]
  },
  {
   "cell_type": "code",
   "execution_count": 26,
   "id": "a60aa282",
   "metadata": {},
   "outputs": [],
   "source": [
    "split_sents_q = []\n",
    "split_sents_ex = []"
   ]
  },
  {
   "cell_type": "code",
   "execution_count": 27,
   "id": "6f84052c",
   "metadata": {},
   "outputs": [],
   "source": [
    "for sent in flat_rows:\n",
    "    sp = sent.split(\"?\")\n",
    "    for s in sp:\n",
    "        sp_strip = s.strip()\n",
    "        words = sp_strip.split(' ')\n",
    "        if len(words) < 4:\n",
    "            continue\n",
    "        else:\n",
    "            split_sents_q.append(sp_strip)"
   ]
  },
  {
   "cell_type": "code",
   "execution_count": 30,
   "id": "f59cb088",
   "metadata": {},
   "outputs": [],
   "source": [
    "for sent_ex in split_sents_q:\n",
    "    s_ex = sent_ex.split(\"!\")\n",
    "    for s2 in s_ex:\n",
    "        s_ex_strip = s2.strip()\n",
    "        words_ex = s_ex_strip.split(' ')\n",
    "        if len(words) < 4:\n",
    "            continue\n",
    "        else:\n",
    "            split_sents_ex.append(s_ex_strip)"
   ]
  },
  {
   "cell_type": "code",
   "execution_count": 32,
   "id": "f85f2a0d",
   "metadata": {},
   "outputs": [],
   "source": [
    "split_sent_final = [i.strip('\"') for i in split_sents_ex]"
   ]
  },
  {
   "cell_type": "code",
   "execution_count": 63,
   "id": "eea810cf",
   "metadata": {},
   "outputs": [],
   "source": [
    "rand_ind = np.random.choice(13089371, 5000, replace=False)"
   ]
  },
  {
   "cell_type": "code",
   "execution_count": 64,
   "id": "effd2715",
   "metadata": {},
   "outputs": [],
   "source": [
    "rand_ind = np.sort(rand_ind)"
   ]
  },
  {
   "cell_type": "code",
   "execution_count": 67,
   "id": "22165e69",
   "metadata": {},
   "outputs": [],
   "source": [
    "targets = []\n",
    "for i in range(0,len(split_sent_final)):\n",
    "    if i in rand_ind:\n",
    "        targets.append(split_sent_final[i])"
   ]
  },
  {
   "cell_type": "code",
   "execution_count": 75,
   "id": "993e0698",
   "metadata": {},
   "outputs": [],
   "source": [
    "contexts = []\n",
    "for j in range(0, len(split_sent_final)):\n",
    "    if j in rand_ind:\n",
    "        cont = split_sent_final[j-1:j+2]\n",
    "        contexts.append(cont)"
   ]
  },
  {
   "cell_type": "code",
   "execution_count": 76,
   "id": "9ef087b8",
   "metadata": {},
   "outputs": [
    {
     "name": "stdout",
     "output_type": "stream",
     "text": [
      "Yeah, it only got to me like straight up\n",
      "[\"Do you have you seen the the the video that's been going around of that like that an abortion clinic are like the guy when he says crying Sarah side\", 'Yeah, it only got to me like straight up', \"I'm gonna see if I can find it\"]\n"
     ]
    }
   ],
   "source": [
    "print(targets[0])\n",
    "print(contexts[0])"
   ]
  },
  {
   "cell_type": "code",
   "execution_count": 77,
   "id": "7390036d",
   "metadata": {},
   "outputs": [],
   "source": [
    "column_names = [\"index\",\"target_sentence\", \"context\"]\n",
    "df = pd.DataFrame(columns = column_names)"
   ]
  },
  {
   "cell_type": "code",
   "execution_count": 78,
   "id": "7abb44a2",
   "metadata": {},
   "outputs": [],
   "source": [
    "df[\"index\"] = rand_ind\n",
    "df[\"target_sentence\"] = targets\n",
    "df[\"context\"] = contexts"
   ]
  },
  {
   "cell_type": "code",
   "execution_count": 86,
   "id": "641a7f43",
   "metadata": {},
   "outputs": [],
   "source": [
    "df.to_csv(\"./podcast_sentences_5000_with_context.csv\", sep=',',index=False)"
   ]
  },
  {
   "cell_type": "code",
   "execution_count": 7,
   "id": "4ff0c44f",
   "metadata": {},
   "outputs": [
    {
     "name": "stdout",
     "output_type": "stream",
     "text": [
      "         index                                    target_sentence  \\\n",
      "0          257           Yeah, it only got to me like straight up   \n",
      "1         2426  At number 4 South East Melbourne gets the ball...   \n",
      "2         4185  And if not as soon as he goes inside the arc, ...   \n",
      "3         4243  So the last thing like you both guys were surp...   \n",
      "4         5466  Listen, he's not always born like how he was w...   \n",
      "...        ...                                                ...   \n",
      "4995  13082812  After that, I went into the cool kids group ch...   \n",
      "4996  13083108      And when they pulled the screen up it grabbed   \n",
      "4997  13085889        They love your band by the way is very nice   \n",
      "4998  13088238  But like I prefer like even music is better th...   \n",
      "4999  13088895  I just think of someone that people think are hot   \n",
      "\n",
      "                                                context  \n",
      "0     [\"Do you have you seen the the the video that'...  \n",
      "1     [\"It's bun deliver in the huge Boom for illawa...  \n",
      "2     [\"The question is how on Earth did he draw all...  \n",
      "3     ['Hello felt like I just bust Scott asked the ...  \n",
      "4     ['So what you saw', \"Listen, he's not always b...  \n",
      "...                                                 ...  \n",
      "4995  ['Back to the grind though like she made money...  \n",
      "4996  [\"I like sat like way up at the top watching J...  \n",
      "4997  ['Yeah, and we talked about you guys a bit', '...  \n",
      "4998  [\"Like I'm used to it like I can do it\", 'But ...  \n",
      "4999  [\"I don't care one of them Ryan Reynolds\", 'I ...  \n",
      "\n",
      "[5000 rows x 3 columns]\n"
     ]
    }
   ],
   "source": [
    "#change context column to string\n",
    "df = pd.read_csv('podcast_sentences_5000_with_context.csv')\n",
    "print(df)"
   ]
  },
  {
   "cell_type": "code",
   "execution_count": 9,
   "id": "84d29a46",
   "metadata": {},
   "outputs": [
    {
     "name": "stdout",
     "output_type": "stream",
     "text": [
      "[\"Do you have you seen the the the video that's been going around of that like that an abortion clinic are like the guy when he says crying Sarah side\", 'Yeah, it only got to me like straight up', \"I'm gonna see if I can find it\"]\n"
     ]
    }
   ],
   "source": [
    "print(df['context'].iloc[0])"
   ]
  },
  {
   "cell_type": "code",
   "execution_count": 18,
   "id": "58980b24",
   "metadata": {},
   "outputs": [],
   "source": [
    "context_list = df['context'].tolist()"
   ]
  },
  {
   "cell_type": "code",
   "execution_count": 22,
   "id": "ad4bf16f",
   "metadata": {},
   "outputs": [
    {
     "name": "stdout",
     "output_type": "stream",
     "text": [
      "['[\"Do you have you seen the the the video that\\'s been going around of that like that an abortion clinic are like the guy when he says crying Sarah side\", \\'Yeah, it only got to me like straight up\\', \"I\\'m gonna see if I can find it\"]', '[\"It\\'s bun deliver in the huge Boom for illawarra in at number 5\", \"At number 4 South East Melbourne gets the ball and we\\'re going the other way and eventually eventually Mitch by the niche and Jake rocket take off like a rocket bringing the truth from the roof for the Phoenix at number four on to number three and The Once and Future\", \\'NBA players are can Slayers on this one Le mellow ball behind the back to Dave Anderson who gets a bucket at the rats\\']', '[\"The question is how on Earth did he draw all those bodies to him what\\'s going on defensively for cans your up three may be foul for one thing send the guy the free throw line\", \\'And if not as soon as he goes inside the arc, let him bill\\', \\'Yeah flare out fine Shooters get on those guys\\']', '[\\'Hello felt like I just bust Scott asked the week before and one in cans so he felt like well, I should have the edge over here at least maybe in his eyes and head cash was number one\\', \"So the last thing like you both guys were surprised when I said I was and I was so I\\'m pretty sure he felt the same way was like I\\'m taking this game person\", \"Alright, and let\\'s not get it twisted\"]', '[\\'So what you saw\\', \"Listen, he\\'s not always born like how he was when you came with who\\'s super quiet, right\", \"I think that\\'s just because she was there because I mean,\"]']\n"
     ]
    }
   ],
   "source": [
    "cont_strs = []\n",
    "for i in context_list:\n",
    "    cont_str = "
   ]
  },
  {
   "cell_type": "code",
   "execution_count": null,
   "id": "ef97adf9",
   "metadata": {},
   "outputs": [],
   "source": []
  }
 ],
 "metadata": {
  "kernelspec": {
   "display_name": "Python 3 (ipykernel)",
   "language": "python",
   "name": "python3"
  },
  "language_info": {
   "codemirror_mode": {
    "name": "ipython",
    "version": 3
   },
   "file_extension": ".py",
   "mimetype": "text/x-python",
   "name": "python",
   "nbconvert_exporter": "python",
   "pygments_lexer": "ipython3",
   "version": "3.8.12"
  }
 },
 "nbformat": 4,
 "nbformat_minor": 5
}
