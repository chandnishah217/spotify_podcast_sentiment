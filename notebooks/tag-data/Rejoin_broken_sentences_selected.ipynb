{
 "cells": [
  {
   "cell_type": "code",
   "execution_count": 1,
   "id": "a1b4ff5e",
   "metadata": {},
   "outputs": [],
   "source": [
    "import matplotlib.pyplot as plt \n",
    "import numpy as np\n",
    "import os \n",
    "import random\n",
    "import sys\n",
    "import pandas as pd\n",
    "import csv\n",
    "import re\n",
    "import time"
   ]
  },
  {
   "cell_type": "code",
   "execution_count": 2,
   "id": "14d2bee6",
   "metadata": {},
   "outputs": [
    {
     "name": "stdout",
     "output_type": "stream",
     "text": [
      "Loaded 34357137 sentences\n"
     ]
    }
   ],
   "source": [
    "#read in CSV for  for full corpus\n",
    "corpus = pd.read_csv('data/interim/extended_podcast_sentences.csv')\n",
    "\n",
    "print(f'Loaded {corpus.shape[0]} sentences')"
   ]
  },
  {
   "cell_type": "code",
   "execution_count": 18,
   "id": "73924dbc",
   "metadata": {},
   "outputs": [],
   "source": [
    "# load target lines\n",
    "selected = pd.read_csv('data/podcast_sentences_high_conf_5000_with_context.csv')"
   ]
  },
  {
   "cell_type": "code",
   "execution_count": 19,
   "id": "6ef01a3d",
   "metadata": {},
   "outputs": [
    {
     "name": "stdout",
     "output_type": "stream",
     "text": [
      "0     3967281\n",
      "1    29184884\n",
      "2    29661525\n",
      "3    31833462\n",
      "4    17157478\n",
      "Name: Unnamed: 0, dtype: int64\n"
     ]
    }
   ],
   "source": [
    "#print(selected.head())\n",
    "indexes = selected.iloc[:,0]\n",
    "print(indexes.head())"
   ]
  },
  {
   "cell_type": "code",
   "execution_count": 21,
   "id": "272ef342",
   "metadata": {},
   "outputs": [
    {
     "name": "stdout",
     "output_type": "stream",
     "text": [
      "Rejoined 802 strings\n"
     ]
    }
   ],
   "source": [
    "# Loop through all rows to find sentences that were split.\n",
    "\n",
    "# This delimiter is found it tagging website to for a line break for the UI\n",
    "UI_delimiter = \"--\"\n",
    "\n",
    "\n",
    "rejoined = 0\n",
    "for (row, i) in enumerate(indexes):\n",
    "    \n",
    "    prior_prior_string = corpus.string[i-2]\n",
    "    prior_prior_source = corpus.source[i-2]\n",
    "    prior_string = corpus.string[i-1]\n",
    "    prior_source = corpus.source[i-1]\n",
    "    selected_string = corpus.string[i]\n",
    "    selected_source = corpus.source[i]\n",
    "    post_string = corpus.string[i+1]\n",
    "    post_source = corpus.source[i+1]\n",
    "    post_post_string = corpus.string[i+2]\n",
    "    post_post_source = corpus.source[i+2]\n",
    "    conf = corpus.confidence[i]\n",
    "    joined = 1\n",
    "    context = \"\"\n",
    "    if (prior_prior_source == selected_source):\n",
    "        context += prior_prior_string\n",
    "        \n",
    "    if (prior_source == selected_source):\n",
    "        if (prior_string[-1] not in  ['.','!','?']):\n",
    "            selected_string = prior_string + \" \" + selected_string\n",
    "            conf += corpus.confidence[i-1]\n",
    "            joined += 1\n",
    "    else:\n",
    "        context += \" \" + prior_source\n",
    "    \n",
    "    \n",
    "    if (post_source == post_source):\n",
    "        if (selected_string[-1] not in  ['.','!','?']):\n",
    "            selected_string = selected_string + \" \" + post_string\n",
    "            conf += corpus.confidence[i+1]\n",
    "            joined += 1\n",
    "            context += \" <b> \" + selected_string +\" </b> \"\n",
    "        else:\n",
    "            context+= \" <b> \" + selected_string +\" </b> \" + post_string\n",
    "            \n",
    "    if (post_post_source == selected_source):\n",
    "        context += \" \" + post_post_string\n",
    "    \n",
    "    # overwrite values in this row with updated versions\n",
    "    if (joined > 1):\n",
    "        rejoined += 1\n",
    "        selected.at[row,\"confidence\"] = conf/joined\n",
    "        selected.at[row,\"string\"] = selected_string\n",
    "        \n",
    "    # always fix the contexts\n",
    "    selected.at[row,\"context\"] = context    \n",
    "    selected.at[row,\"tagging-context\"] = UI_delimiter + context + UI_delimiter + str(i) \n",
    "    #print(f'updated selected row {row}: {selected.iloc[row]}')\n",
    "        \n",
    "        \n",
    "\n",
    "#print(outputDf)\n",
    "print(f'Rejoined {rejoined} strings'  )    "
   ]
  },
  {
   "cell_type": "code",
   "execution_count": 22,
   "id": "936b3721",
   "metadata": {},
   "outputs": [],
   "source": [
    "# output dataframe to file\n",
    "selected.to_csv('data/rejoined_selected_podcast_5000_sentences.csv', sep=',',index=False)"
   ]
  },
  {
   "cell_type": "code",
   "execution_count": 34,
   "id": "d61cde20",
   "metadata": {},
   "outputs": [],
   "source": [
    "# output dataframe to file\n",
    "tc = selected[\"tagging-context\"]\n",
    "tc.iloc[1000:4999].to_csv('data/rejoined_selected_podcast_5000_sentences_untagged_context_only.csv', sep=',',index=False)"
   ]
  }
 ],
 "metadata": {
  "kernelspec": {
   "display_name": "Python 3",
   "language": "python",
   "name": "python3"
  },
  "language_info": {
   "codemirror_mode": {
    "name": "ipython",
    "version": 3
   },
   "file_extension": ".py",
   "mimetype": "text/x-python",
   "name": "python",
   "nbconvert_exporter": "python",
   "pygments_lexer": "ipython3",
   "version": "3.8.8"
  }
 },
 "nbformat": 4,
 "nbformat_minor": 5
}
