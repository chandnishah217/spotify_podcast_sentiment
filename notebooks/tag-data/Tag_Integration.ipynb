{
 "cells": [
  {
   "cell_type": "code",
   "execution_count": 1,
   "id": "97e0f8a1",
   "metadata": {},
   "outputs": [],
   "source": [
    "# Libraries\n",
    "import json\n",
    "import pandas as pd\n",
    "import csv\n",
    "import numpy as np\n",
    "import numpy.random as random\n",
    "import re"
   ]
  },
  {
   "cell_type": "code",
   "execution_count": 2,
   "id": "b95f0fea",
   "metadata": {},
   "outputs": [
    {
     "name": "stdout",
     "output_type": "stream",
     "text": [
      "train/test split: [0.8, 0.15, 0.05]\n"
     ]
    }
   ],
   "source": [
    "# set some constants here\n",
    "\n",
    "tagged_columns = ['admiration', ' amusement', ' anger', ' annoyance', ' approval',\n",
    "       ' caring', ' confusion', ' curiosity', ' desire', ' disappointment',\n",
    "       ' disapproval', ' disgust', ' embarrassment', ' excitement', ' fear',\n",
    "       ' gratitude', ' grief', ' joy', ' love', ' nervousness', ' optimism',\n",
    "       ' pride', ' realization', ' relief', 'remorse', ' sadness', ' surprise',\n",
    "       ' neutral', ' bad_string']\n",
    "\n",
    "# train/test/val percentage\n",
    "split = [.8,.15,.05]\n",
    "split_sum = sum(split)\n",
    "if (not  split_sum == 1):\n",
    "    # rescale to equal 1\n",
    "    split = split/split_sum\n",
    "print(f\"train/test split: {split}\")"
   ]
  },
  {
   "cell_type": "code",
   "execution_count": 3,
   "id": "c7fd92a6",
   "metadata": {
    "scrolled": true
   },
   "outputs": [
    {
     "name": "stdout",
     "output_type": "stream",
     "text": [
      "Loaded 5000 sentences\n",
      "   stringID                                             string  confidence  \\\n",
      "0   3967281  I don't think that we can completely We avoid ...    0.835183   \n",
      "1  29184884  You don't know what you're capable of until yo...    0.901320   \n",
      "2  29661525  Maybe that'll make Thompson climb up my rankin...    0.910218   \n",
      "3  31833462                          Company all about vagina.    0.855159   \n",
      "4  17157478                           That's what we're doing.    0.897044   \n",
      "\n",
      "                                              source  \\\n",
      "0  data/raw/spotify-podcasts-2020/podcasts-transc...   \n",
      "1  data/raw/spotify-podcasts-2020/podcasts-transc...   \n",
      "2  data/raw/spotify-podcasts-2020/podcasts-transc...   \n",
      "3  data/raw/spotify-podcasts-2020/podcasts-transc...   \n",
      "4  data/raw/spotify-podcasts-2020/podcasts-transc...   \n",
      "\n",
      "                                             context  \\\n",
      "0  It's not like people are like turning a blind ...   \n",
      "1  This is about stepping. <b> You don't know wha...   \n",
      "2  Is there a few YouTube prank videos like that ...   \n",
      "3  So I just love jumping on random stuff. <b> Co...   \n",
      "4  That of the symbols generally speaking. <b> Th...   \n",
      "\n",
      "                                     tagging-context  \n",
      "0  --It's not like people are like turning a blin...  \n",
      "1  --This is about stepping. <b> You don't know w...  \n",
      "2  --Is there a few YouTube prank videos like tha...  \n",
      "3  --So I just love jumping on random stuff. <b> ...  \n",
      "4  --That of the symbols generally speaking. <b> ...  \n"
     ]
    }
   ],
   "source": [
    "#read in CSV for  for full selected\n",
    "selected_corpus = pd.read_csv('data/rejoined_selected_podcast_5000_sentences.csv')\n",
    "\n",
    "print(f'Loaded {selected_corpus.shape[0]} sentences')\n",
    "\n",
    "# correct string_id column name\n",
    "#selected_corpus.rename(columns={\"0\":\"StringID\"})\n",
    "print(selected_corpus.head())"
   ]
  },
  {
   "cell_type": "code",
   "execution_count": 4,
   "id": "f4f39532",
   "metadata": {},
   "outputs": [
    {
     "name": "stdout",
     "output_type": "stream",
     "text": [
      "Loaded 5000 sentences\n",
      "   stringID                                             string  confidence  \\\n",
      "0   3967281  We avoid catastrophe and so I you know, if I i...    0.891355   \n",
      "1  29184884  You don't know what you're capable of until yo...    0.901320   \n",
      "2  29661525  Would be so courageous as to do that then what...    0.912839   \n",
      "3  31833462                          Company all about vagina.    0.855159   \n",
      "4  17157478                           That's what we're doing.    0.897044   \n",
      "\n",
      "                                              source  \\\n",
      "0  data/raw/spotify-podcasts-2020/podcasts-transc...   \n",
      "1  data/raw/spotify-podcasts-2020/podcasts-transc...   \n",
      "2  data/raw/spotify-podcasts-2020/podcasts-transc...   \n",
      "3  data/raw/spotify-podcasts-2020/podcasts-transc...   \n",
      "4  data/raw/spotify-podcasts-2020/podcasts-transc...   \n",
      "\n",
      "                                             context  \\\n",
      "0   It's not like people are like turning a blind...   \n",
      "1   This is about stepping. Into the unknown to d...   \n",
      "2   Is there a few YouTube prank videos like that...   \n",
      "3   So I just love jumping on random stuff. I'm g...   \n",
      "4   That of the symbols generally speaking. There...   \n",
      "\n",
      "                                     tagging-context  \n",
      "0  We avoid catastrophe and so I you know, if I i...  \n",
      "1  You don't know what you're capable of until yo...  \n",
      "2  Would be so courageous as to do that then what...  \n",
      "3  Company all about vagina.-- So I just love jum...  \n",
      "4  That's what we're doing.-- That of the symbols...  \n"
     ]
    }
   ],
   "source": [
    "#read in CSV for string before we did string rejoining\n",
    "old_selected_corpus = pd.read_csv('data/podcast_sentences_high_conf_5000_with_context.csv')\n",
    "\n",
    "print(f'Loaded {old_selected_corpus.shape[0]} sentences')\n",
    "\n",
    "print(old_selected_corpus.head())"
   ]
  },
  {
   "cell_type": "code",
   "execution_count": 5,
   "id": "0d354e46",
   "metadata": {},
   "outputs": [
    {
     "name": "stdout",
     "output_type": "stream",
     "text": [
      "Loaded 1074 sentences from first 1k\n",
      "Loaded 1289 sentences from next 4k\n",
      "(2363, 32)\n",
      "   user                                             string        id  \\\n",
      "0  anne  I think that that's-- She's having would they ...  31169979   \n",
      "1  anne  o it was March this year and my coat was actua...  17245440   \n",
      "2  anne  Yes, and I just I really appreciate the experi...  12712664   \n",
      "3  anne  So they need a lot of food.-- Yeah, and then t...  13471336   \n",
      "4  anne  Okay, they treated them like they were a joke....  34267843   \n",
      "\n",
      "   admiration   amusement   anger   annoyance   approval   caring   confusion  \\\n",
      "0           0           0       0           0          0        0           0   \n",
      "1           0           0       0           0          0        0           0   \n",
      "2           0           0       0           0          0        0           0   \n",
      "3           0           0       0           0          0        0           0   \n",
      "4           0           0       1           0          0        0           0   \n",
      "\n",
      "   ...   nervousness   optimism   pride   realization   relief  remorse  \\\n",
      "0  ...             0          0       0             0        0        0   \n",
      "1  ...             0          0       0             0        0        0   \n",
      "2  ...             0          0       1             0        0        0   \n",
      "3  ...             0          0       0             0        0        0   \n",
      "4  ...             0          0       0             0        0        0   \n",
      "\n",
      "    sadness   surprise   neutral   bad_string  \n",
      "0         0          0         0            1  \n",
      "1         0          0         0            1  \n",
      "2         0          0         0            0  \n",
      "3         0          0         1            0  \n",
      "4         0          0         0            0  \n",
      "\n",
      "[5 rows x 32 columns]\n"
     ]
    }
   ],
   "source": [
    "# load first 1 tagged\n",
    "tagged_1k = pd.read_csv('tag-data/latest-first-1k.csv')\n",
    "print(f'Loaded {tagged_1k.shape[0]} sentences from first 1k')\n",
    "\n",
    "# latest set of tags on the other 4 k\n",
    "tagged_4k = pd.read_csv('tag-data/latest-4k.csv')\n",
    "print(f'Loaded {tagged_4k.shape[0]} sentences from next 4k')\n",
    "\n",
    "tagged = pd.concat([tagged_1k, tagged_4k])\n",
    "print(tagged.shape)\n",
    "print(tagged.head()) "
   ]
  },
  {
   "cell_type": "code",
   "execution_count": 6,
   "id": "4d954d2c",
   "metadata": {},
   "outputs": [
    {
     "name": "stdout",
     "output_type": "stream",
     "text": [
      "(2006, 30)\n",
      "Dropping 146 strings tagged as bad\n",
      "#strings with no tags:\t7\n",
      "#strings with some tags:\t2006\n",
      "#strings with agreement of at least 2:\t73\n",
      "#strings with agreement of 3:\t3\n"
     ]
    }
   ],
   "source": [
    "# Aggregate tags\n",
    "aggregate_cols = np.concatenate((tagged_columns,[\"id\"]))\n",
    "df_tagged_sum = tagged.groupby('id').sum()\n",
    "\n",
    "# find the maximum count for any one tag\n",
    "df_tagged_sum['tag_agreement'] = df_tagged_sum.max(axis=1)\n",
    "\n",
    "\n",
    "# keep only strings with at least one tag, and which aren't flagged as bad\n",
    "good_tags = df_tagged_sum[(df_tagged_sum[\" bad_string\"] == 0) &\n",
    "                          (df_tagged_sum[\"tag_agreement\"] > 0)]\n",
    "\n",
    "print(good_tags.shape)\n",
    "\n",
    "# print out some status\n",
    "print(f'Dropping {sum(df_tagged_sum[\" bad_string\"] >0)} strings tagged as bad')\n",
    "no_tags = df_tagged_sum[df_tagged_sum[\"tag_agreement\"] <1]\n",
    "print(f'#strings with no tags:\\t{ no_tags.shape[0]}')\n",
    "one_tag = good_tags[good_tags[\"tag_agreement\"] >=1 ]\n",
    "print(f'#strings with some tags:\\t{one_tag.shape[0]}')\n",
    "two_or_more  = good_tags[good_tags[\"tag_agreement\"] >=2 ]\n",
    "print(f'#strings with agreement of at least 2:\\t{sum(good_tags[\"tag_agreement\"] >1) }')\n",
    "                                               \n",
    "print(f'#strings with agreement of 3:\\t{sum(good_tags[\"tag_agreement\"] >2) }')\n",
    "\n"
   ]
  },
  {
   "cell_type": "code",
   "execution_count": 7,
   "id": "2d9d8b28",
   "metadata": {},
   "outputs": [
    {
     "name": "stdout",
     "output_type": "stream",
     "text": [
      "(2006, 30)\n",
      "(2006, 32)\n"
     ]
    }
   ],
   "source": [
    "# merge back in strings\n",
    "print(good_tags.shape)\n",
    "good_tagged_strings = good_tags.merge(tagged[[\"id\",\"string\"]],\n",
    "                                      left_on='id',right_on='id',\n",
    "                                      how=\"left\").drop_duplicates() \n",
    "print(good_tagged_strings.shape)\n",
    "#print(good_tagged_strings.head)"
   ]
  },
  {
   "cell_type": "code",
   "execution_count": 8,
   "id": "9ca6dea1",
   "metadata": {},
   "outputs": [
    {
     "name": "stdout",
     "output_type": "stream",
     "text": [
      "      id  admiration   amusement   anger   annoyance   approval   caring  \\\n",
      "0   4847           0           0       0           0          0        0   \n",
      "1  32364           0           0       1           0          0        0   \n",
      "2  44522           0           0       0           0          0        0   \n",
      "4  53582           0           0       0           0          0        0   \n",
      "5  59047           0           0       0           0          0        0   \n",
      "\n",
      "    confusion   curiosity   desire  ...   pride   realization   relief  \\\n",
      "0           0           0        0  ...       0             0        0   \n",
      "1           0           0        0  ...       0             0        0   \n",
      "2           1           1        0  ...       0             0        0   \n",
      "4           0           0        0  ...       0             0        0   \n",
      "5           0           1        0  ...       0             0        0   \n",
      "\n",
      "   remorse   sadness   surprise   neutral   bad_string  tag_agreement  \\\n",
      "0        0         0          0         1            0              1   \n",
      "1        0         0          0         0            0              1   \n",
      "2        0         0          0         0            0              1   \n",
      "4        0         0          0         1            0              1   \n",
      "5        0         0          0         0            0              1   \n",
      "\n",
      "                                              string  \n",
      "0  -So the thing about what's also it's in the Ge...  \n",
      "1  -They believed that England had written the te...  \n",
      "2  -Yeah the super like double decker buses you n...  \n",
      "4  --It's a good question. <b> I don't you got to...  \n",
      "5  -Was some who still claim that the work of tho...  \n",
      "\n",
      "[5 rows x 32 columns]\n",
      "      id  admiration   amusement   anger   annoyance   approval   caring  \\\n",
      "0   4847           0           0       0           0          0        0   \n",
      "1  32364           0           0       1           0          0        0   \n",
      "2  44522           0           0       0           0          0        0   \n",
      "4  53582           0           0       0           0          0        0   \n",
      "5  59047           0           0       0           0          0        0   \n",
      "\n",
      "    confusion   curiosity   desire  ...   realization   relief  remorse  \\\n",
      "0           0           0        0  ...             0        0        0   \n",
      "1           0           0        0  ...             0        0        0   \n",
      "2           1           1        0  ...             0        0        0   \n",
      "4           0           0        0  ...             0        0        0   \n",
      "5           0           1        0  ...             0        0        0   \n",
      "\n",
      "    sadness   surprise   neutral   bad_string  tag_agreement  \\\n",
      "0         0          0         1            0              1   \n",
      "1         0          0         0            0              1   \n",
      "2         0          0         0            0              1   \n",
      "4         0          0         1            0              1   \n",
      "5         0          0         0            0              1   \n",
      "\n",
      "                                              string  \\\n",
      "0  -So the thing about what's also it's in the Ge...   \n",
      "1  -They believed that England had written the te...   \n",
      "2  -Yeah the super like double decker buses you n...   \n",
      "4  --It's a good question. <b> I don't you got to...   \n",
      "5  -Was some who still claim that the work of tho...   \n",
      "\n",
      "                                       target_string  \n",
      "0         You can debug almost with United Nations.   \n",
      "1   Even the khedive the Islamic head of state hi...  \n",
      "2                           Is that Canadian shade?   \n",
      "4   I don't you got to pick your name right now, ...  \n",
      "5   Up next we'll explore the Y2K debate further ...  \n",
      "\n",
      "[5 rows x 33 columns]\n"
     ]
    }
   ],
   "source": [
    "print(good_tagged_strings.head())\n",
    "\n",
    "# we have an issue with our tag ids getting corrupted in the tagging output just go \n",
    "# back to raw strings that were displayed for outout.\n",
    "# regex for pulling the strings out of the tagging context\n",
    "# throw away everything before the > save char until </b>\n",
    "pattern = '(.*)>(.*)</b>'\n",
    "prog = re.compile(pattern)\n",
    "\n",
    "#Extract target string from string block\n",
    "for irow, row in good_tagged_strings.iterrows(): \n",
    "    tag_context = row[\"string\"]\n",
    "    \n",
    "    match = prog.match(tag_context)\n",
    "    if (match != None):\n",
    "        #print(match.group(2)) # group 2 matches our characters between <b> </b>\n",
    "        good_tagged_strings.at[irow,\"target_string\"]= match.group(2)\n",
    "    else:\n",
    "        print(f'did not find substring for {tag_context}') # get the strings from the saved chars\n",
    "\n",
    "print(good_tagged_strings.head())"
   ]
  },
  {
   "cell_type": "code",
   "execution_count": 9,
   "id": "22aa533a",
   "metadata": {
    "scrolled": true
   },
   "outputs": [
    {
     "name": "stdout",
     "output_type": "stream",
     "text": [
      "            id  admiration   amusement   anger   annoyance   approval  \\\n",
      "0         4847           0           0       0           0          0   \n",
      "1        32364           0           0       1           0          0   \n",
      "2        44522           0           0       0           0          0   \n",
      "4        53582           0           0       0           0          0   \n",
      "5        59047           0           0       0           0          0   \n",
      "...        ...         ...         ...     ...         ...        ...   \n",
      "2188  34290070           0           0       0           0          0   \n",
      "2189  34298061           0           0       0           0          0   \n",
      "2190  34309661           0           0       0           0          1   \n",
      "2191  34310858           0           0       0           0          0   \n",
      "2192  34317582           0           0       0           0          1   \n",
      "\n",
      "       caring   confusion   curiosity   desire  ...   relief  remorse  \\\n",
      "0           0           0           0        0  ...        0        0   \n",
      "1           0           0           0        0  ...        0        0   \n",
      "2           0           1           1        0  ...        0        0   \n",
      "4           0           0           0        0  ...        0        0   \n",
      "5           0           0           1        0  ...        0        0   \n",
      "...       ...         ...         ...      ...  ...      ...      ...   \n",
      "2188        0           0           0        0  ...        0        0   \n",
      "2189        0           0           0        0  ...        0        0   \n",
      "2190        0           0           0        0  ...        0        0   \n",
      "2191        0           0           0        0  ...        0        0   \n",
      "2192        0           0           0        0  ...        0        0   \n",
      "\n",
      "       sadness   surprise   neutral   bad_string  tag_agreement  \\\n",
      "0            0          0         1            0              1   \n",
      "1            0          0         0            0              1   \n",
      "2            0          0         0            0              1   \n",
      "4            0          0         1            0              1   \n",
      "5            0          0         0            0              1   \n",
      "...        ...        ...       ...          ...            ...   \n",
      "2188         0          0         0            0              1   \n",
      "2189         0          0         1            0              1   \n",
      "2190         0          0         0            0              1   \n",
      "2191         0          1         0            0              1   \n",
      "2192         0          0         0            0              1   \n",
      "\n",
      "                                                 string  \\\n",
      "0     -So the thing about what's also it's in the Ge...   \n",
      "1     -They believed that England had written the te...   \n",
      "2     -Yeah the super like double decker buses you n...   \n",
      "4     --It's a good question. <b> I don't you got to...   \n",
      "5     -Was some who still claim that the work of tho...   \n",
      "...                                                 ...   \n",
      "2188  --Hey, it's AJ again. <b> As much as I did I l...   \n",
      "2189   would like to remind everyone listening in th...   \n",
      "2190  --And it does not like it depends if I'm like ...   \n",
      "2191  --He's a he's taking on that role and he and h...   \n",
      "2192  Care I am I am very accepting of anybody's bel...   \n",
      "\n",
      "                                          target_string     top_tag  \n",
      "0            You can debug almost with United Nations.      neutral  \n",
      "1      Even the khedive the Islamic head of state hi...       anger  \n",
      "2                              Is that Canadian shade?    confusion  \n",
      "4      I don't you got to pick your name right now, ...     neutral  \n",
      "5      Up next we'll explore the Y2K debate further ...   curiosity  \n",
      "...                                                 ...         ...  \n",
      "2188   As much as I did I learned a ton about workin...       pride  \n",
      "2189   I would like to remind everyone listening in ...     neutral  \n",
      "2190   I think but I also want someone who's driven ...    approval  \n",
      "2191   Was scheduled on Saturday I would have though...    surprise  \n",
      "2192   Care I am I am very accepting of anybody's be...    approval  \n",
      "\n",
      "[2006 rows x 34 columns]\n"
     ]
    }
   ],
   "source": [
    "# convert the indicator flags into best tag selection\n",
    "\n",
    "# in case of a tie, this will return the earliest in tag order - Sub optimal\n",
    "good_tagged_strings[\"top_tag\"] = good_tagged_strings[tagged_columns].idxmax(axis=1)\n",
    "print(good_tagged_strings)"
   ]
  },
  {
   "cell_type": "code",
   "execution_count": 10,
   "id": "5d900823",
   "metadata": {},
   "outputs": [
    {
     "name": "stdout",
     "output_type": "stream",
     "text": [
      "Loaded (2006,) sentences \n",
      "Training set: 1628 sentences\n",
      "Test set: 285 sentences\n",
      "Validation set: 93 sentences\n",
      "(1628, 34) (285, 34) (93, 34)\n"
     ]
    }
   ],
   "source": [
    "# split into train/test/val\n",
    "\n",
    "# based of the 266 utils split, but with validation also\n",
    "def get_train_test_sents(df, p=[.8,.1,.1]):\n",
    "    \"\"\"Generate train/test split for unsupervised tasks.\n",
    "\n",
    "    Args:\n",
    "      corpus: nltk.corpus that supports sents() function\n",
    "      split (double): fraction to use as training set\n",
    "      shuffle (int or bool): seed for shuffle of input data, or False to just\n",
    "      take the training data as the first xx% contiguously.\n",
    "\n",
    "    Returns:\n",
    "      train_sentences, test_sentences ( list(list(string)) ): the train and test\n",
    "      splits\n",
    "    \"\"\"\n",
    "\n",
    "    index_values = random.choice([0,1,2], size=df.shape[0], replace=True, p=p)\n",
    "    print(f\"Loaded {index_values.shape} sentences \")\n",
    "\n",
    "    \n",
    "    train_sentences = df.iloc[index_values == 0]\n",
    "    \n",
    "    test_sentences = df.iloc[index_values == 1]\n",
    "    \n",
    "    val_sentences = df.iloc[index_values == 2]\n",
    "\n",
    "    print(f\"Training set: {train_sentences.shape[0]} sentences\")\n",
    "    print(f\"Test set: {test_sentences.shape[0]} sentences\")\n",
    "    print(f\"Validation set: {val_sentences.shape[0]} sentences\")\n",
    "    \n",
    "    return train_sentences, test_sentences, val_sentences\n",
    "\n",
    "train_df, test_df, val_df = get_train_test_sents(good_tagged_strings,p=split)\n",
    "print(train_df.shape, test_df.shape, val_df.shape)"
   ]
  },
  {
   "cell_type": "code",
   "execution_count": 11,
   "id": "cb349915",
   "metadata": {},
   "outputs": [],
   "source": [
    "# write out data files\n",
    "train_df.to_csv('data/training.csv', sep=',',index=False)\n",
    "test_df.to_csv('data/test.csv', sep=',',index=False)\n",
    "val_df.to_csv('data/val.csv', sep=',',index=False)"
   ]
  },
  {
   "cell_type": "code",
   "execution_count": 3,
   "id": "fb646ef6",
   "metadata": {},
   "outputs": [],
   "source": [
    "train_df = pd.read_csv('data/training.csv', sep=',')\n",
    "test_df = pd.read_csv('data/test.csv', sep=',')\n",
    "val_df = pd.read_csv('data/val.csv', sep=',')\n",
    "\n"
   ]
  },
  {
   "cell_type": "code",
   "execution_count": 4,
   "id": "e76bbbda",
   "metadata": {},
   "outputs": [
    {
     "data": {
      "image/png": "[encoded data removed]",
      "text/plain": [
       "<Figure size 288x504 with 1 Axes>"
      ]
     },
     "metadata": {
      "needs_background": "light"
     },
     "output_type": "display_data"
    }
   ],
   "source": [
    "train_df['top_tag'].value_counts().tail(-1).plot(kind='barh',figsize=(4,7)).invert_yaxis()"
   ]
  },
  {
   "cell_type": "code",
   "execution_count": 5,
   "id": "6aca5790",
   "metadata": {},
   "outputs": [
    {
     "data": {
      "image/png": "[encoded data removed]",
      "text/plain": [
       "<Figure size 288x504 with 1 Axes>"
      ]
     },
     "metadata": {
      "needs_background": "light"
     },
     "output_type": "display_data"
    }
   ],
   "source": [
    "test_df['top_tag'].value_counts().tail(-1).plot(kind='barh',figsize=(4,7)).invert_yaxis()"
   ]
  },
  {
   "cell_type": "code",
   "execution_count": 6,
   "id": "a48dba6f",
   "metadata": {},
   "outputs": [
    {
     "data": {
      "image/png": "[encoded data removed]",
      "text/plain": [
       "<Figure size 288x504 with 1 Axes>"
      ]
     },
     "metadata": {
      "needs_background": "light"
     },
     "output_type": "display_data"
    }
   ],
   "source": [
    "\n",
    "val_df['top_tag'].value_counts().tail(-1).plot(kind='barh',figsize=(4,7)).invert_yaxis()"
   ]
  },
  {
   "cell_type": "code",
   "execution_count": 9,
   "id": "687079cc",
   "metadata": {},
   "outputs": [
    {
     "name": "stdout",
     "output_type": "stream",
     "text": [
      "            id  admiration   amusement   anger   annoyance   approval  \\\n",
      "2        44522           0           0       0           0          0   \n",
      "14      170313           1           0       0           0          1   \n",
      "18      225608           1           0       0           0          0   \n",
      "23      268163           0           0       0           0          0   \n",
      "28      298445           1           0       0           0          1   \n",
      "...        ...         ...         ...     ...         ...        ...   \n",
      "1613  34137337           0           0       0           0          0   \n",
      "1615  34171624           0           0       0           0          0   \n",
      "1621  34259924           0           0       0           0          0   \n",
      "1622  34267843           0           0       1           0          0   \n",
      "1627  34317582           0           0       0           0          1   \n",
      "\n",
      "       caring   confusion   curiosity   desire  ...  remorse   sadness  \\\n",
      "2           0           1           1        0  ...        0         0   \n",
      "14          0           0           0        0  ...        0         0   \n",
      "18          0           0           0        0  ...        0         0   \n",
      "23          0           0           0        0  ...        0         0   \n",
      "28          0           0           0        0  ...        0         0   \n",
      "...       ...         ...         ...      ...  ...      ...       ...   \n",
      "1613        0           0           0        0  ...        0         0   \n",
      "1615        0           0           0        0  ...        0         0   \n",
      "1621        1           0           0        0  ...        0         0   \n",
      "1622        0           0           0        0  ...        0         0   \n",
      "1627        0           0           0        0  ...        0         0   \n",
      "\n",
      "       surprise   neutral   bad_string  tag_agreement  \\\n",
      "2             0         0            0              1   \n",
      "14            0         0            0              1   \n",
      "18            0         0            0              1   \n",
      "23            0         0            0              1   \n",
      "28            0         0            0              1   \n",
      "...         ...       ...          ...            ...   \n",
      "1613          0         0            0              1   \n",
      "1615          0         0            0              1   \n",
      "1621          0         0            0              1   \n",
      "1622          0         0            0              1   \n",
      "1627          0         0            0              1   \n",
      "\n",
      "                                                 string  \\\n",
      "2     -Yeah the super like double decker buses you n...   \n",
      "14    -They stopped him from scoring touchdowns in t...   \n",
      "18    -So if you've always wanted to start a pod and...   \n",
      "23    She's like Daddy make me lunch right away swee...   \n",
      "28    It was a great experience.-- We sit back, and ...   \n",
      "...                                                 ...   \n",
      "1613  She's like, oh my gosh, I so needed this and I...   \n",
      "1615  I love the way that I'm able to forgive myself...   \n",
      "1621  We need in life, you know language and math an...   \n",
      "1622  Okay, they treated them like they were a joke....   \n",
      "1627  Care I am I am very accepting of anybody's bel...   \n",
      "\n",
      "                                          target_string     top_tag  \\\n",
      "2                              Is that Canadian shade?    confusion   \n",
      "14     They're great on third and fourth down there ...  admiration   \n",
      "18            I cannot wait to listen to your podcast.   admiration   \n",
      "23     She's like Daddy make me lunch right away swe...        love   \n",
      "28                           It was a great experience.  admiration   \n",
      "...                                                 ...         ...   \n",
      "1613   She's like, oh my gosh, I so needed this and ...         joy   \n",
      "1615   I love the way that I'm able to forgive mysel...   gratitude   \n",
      "1621   We need in life, you know language and math a...      caring   \n",
      "1622     Okay, they treated them like they were a joke.       anger   \n",
      "1627   Care I am I am very accepting of anybody's be...    approval   \n",
      "\n",
      "      total_tags  \n",
      "2              2  \n",
      "14             2  \n",
      "18             3  \n",
      "23             2  \n",
      "28             3  \n",
      "...          ...  \n",
      "1613           2  \n",
      "1615           5  \n",
      "1621           3  \n",
      "1622           2  \n",
      "1627           2  \n",
      "\n",
      "[473 rows x 35 columns]\n"
     ]
    }
   ],
   "source": [
    "def count_tie_tags(data):\n",
    "    data[\"total_tags\"] = data[tagged_columns].sum(axis=1)\n",
    "    print(data[data[\"total_tags\"] != data[\"tag_agreement\"]])\n",
    "    \n",
    "count_tie_tags(train_df)"
   ]
  }
 ],
 "metadata": {
  "kernelspec": {
   "display_name": "Python 3",
   "language": "python",
   "name": "python3"
  },
  "language_info": {
   "codemirror_mode": {
    "name": "ipython",
    "version": 3
   },
   "file_extension": ".py",
   "mimetype": "text/x-python",
   "name": "python",
   "nbconvert_exporter": "python",
   "pygments_lexer": "ipython3",
   "version": "3.8.8"
  }
 },
 "nbformat": 4,
 "nbformat_minor": 5
}
