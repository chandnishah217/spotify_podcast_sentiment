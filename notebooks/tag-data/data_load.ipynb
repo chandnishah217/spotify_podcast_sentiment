{
 "cells": [
  {
   "cell_type": "code",
   "execution_count": 2,
   "id": "d7da214d",
   "metadata": {},
   "outputs": [],
   "source": [
    "import copy\n",
    "import matplotlib.pyplot as plt \n",
    "import numpy as np\n",
    "import os \n",
    "import progressbar #pip3 install progressbar2\n",
    "import random\n",
    "import sys\n",
    "import time\n",
    "\n",
    "from PIL import Image\n",
    "from skimage import data, color\n",
    "from skimage.transform import rescale, resize, downscale_local_mean"
   ]
  },
  {
   "cell_type": "code",
   "execution_count": 4,
   "id": "91c1d49b",
   "metadata": {},
   "outputs": [],
   "source": [
    "import json\n",
    "import pandas as pd\n",
    "import csv"
   ]
  },
  {
   "cell_type": "code",
   "execution_count": 8,
   "id": "88c93444",
   "metadata": {},
   "outputs": [],
   "source": [
    "my_dir = 'data/'\n",
    "\n",
    "def load_files(data_dir):\n",
    "    transcripts = []\n",
    "    count = 0\n",
    "    \n",
    "    for dir_name, sub_dir_list, file_list in os.walk(data_dir):\n",
    "        if dir_name == data_dir:\n",
    "            continue \n",
    "        for file_name in file_list:\n",
    "            if '.json' in file_name: \n",
    "                if '.icloud' in file_name:\n",
    "                    continue\n",
    "            #if file_name == \"2zFFZcJ4ZMhRk5OdNSk3Dh.json\":\n",
    "                file_path = os.path.join(dir_name, file_name)\n",
    "                f = open(file_path)\n",
    "                file_json = json.load(f)\n",
    "                \n",
    "                for result in file_json['results']:\n",
    "                    for alternative in result['alternatives']:\n",
    "                        transcripts.append(alternative.get('transcript'))\n",
    "            else:\n",
    "                continue\n",
    "    return transcripts   "
   ]
  },
  {
   "cell_type": "code",
   "execution_count": 9,
   "id": "2e2e78ba",
   "metadata": {},
   "outputs": [],
   "source": [
    "tr = load_files(my_dir)"
   ]
  },
  {
   "cell_type": "code",
   "execution_count": 14,
   "id": "36d43b3b",
   "metadata": {},
   "outputs": [
    {
     "name": "stdout",
     "output_type": "stream",
     "text": [
      "3382781\n"
     ]
    }
   ],
   "source": [
    "print(len(tr))"
   ]
  },
  {
   "cell_type": "code",
   "execution_count": 11,
   "id": "6c3f2aaa",
   "metadata": {},
   "outputs": [
    {
     "name": "stdout",
     "output_type": "stream",
     "text": [
      " Kristin take a little bitch, you fucking all my fucking dick. I was attacked with a mixed tag with the triple jab with a Crip. I ain't gonna wait for No slamming no bitch heart away. Now shorty think I'm on the Sun but you bring me some cash and I'll bring you some last shit. I'm gonna lash out like holdaway know when I pass out my pass out with a back out. I ain't gonna get slapped on my slap you at bit.\n"
     ]
    }
   ],
   "source": [
    "print(tr[2])"
   ]
  },
  {
   "cell_type": "code",
   "execution_count": 42,
   "id": "d8d42953",
   "metadata": {},
   "outputs": [],
   "source": [
    "sentences = []"
   ]
  },
  {
   "cell_type": "code",
   "execution_count": 43,
   "id": "02fe6dd2",
   "metadata": {},
   "outputs": [],
   "source": [
    "for t in tr:\n",
    "    if t is None:\n",
    "        continue\n",
    "    else:\n",
    "        sent = t.split('.')\n",
    "        for s in sent:\n",
    "            s_strip = s.strip()\n",
    "            words = s_strip.split(' ')\n",
    "            if len(words) < 4:\n",
    "                continue\n",
    "            else:\n",
    "                sentences.append(s_strip)"
   ]
  },
  {
   "cell_type": "code",
   "execution_count": 46,
   "id": "1c7022b8",
   "metadata": {},
   "outputs": [],
   "source": [
    "#save sentences into csv using pandas\n",
    "df = pd.DataFrame(data={\"sent\": sentences})\n",
    "df.to_csv(\"./podcast_sentences.csv\", sep=',',index=False)"
   ]
  },
  {
   "cell_type": "code",
   "execution_count": 5,
   "id": "2eee0216",
   "metadata": {},
   "outputs": [],
   "source": [
    "#read in CSV for random selection of sentences\n",
    "file = open('podcast_sentences.csv')\n",
    "csvreader = csv.reader(file)"
   ]
  },
  {
   "cell_type": "code",
   "execution_count": 6,
   "id": "c3bfea90",
   "metadata": {},
   "outputs": [
    {
     "data": {
      "text/plain": [
       "['sent']"
      ]
     },
     "execution_count": 6,
     "metadata": {},
     "output_type": "execute_result"
    }
   ],
   "source": [
    "header = []\n",
    "header = next(csvreader)\n",
    "header"
   ]
  },
  {
   "cell_type": "code",
   "execution_count": 7,
   "id": "6bccb661",
   "metadata": {},
   "outputs": [
    {
     "data": {
      "text/plain": [
       "12460025"
      ]
     },
     "execution_count": 7,
     "metadata": {},
     "output_type": "execute_result"
    }
   ],
   "source": [
    "rows = []\n",
    "for row in csvreader:\n",
    "        rows.append(row)\n",
    "len(rows)"
   ]
  },
  {
   "cell_type": "code",
   "execution_count": 8,
   "id": "0d0fea9b",
   "metadata": {},
   "outputs": [],
   "source": [
    "#flatten list of list into list of strings\n",
    "flat_rows = [item for sublist in rows for item in sublist]"
   ]
  },
  {
   "cell_type": "code",
   "execution_count": 61,
   "id": "a84281a5",
   "metadata": {},
   "outputs": [
    {
     "name": "stdout",
     "output_type": "stream",
     "text": [
      "[\"yeah, I'm going to put it back in the side with the trunk of my rice all the way shotty gotta get to my side Charlie went to my little sad\", 'She wanted to look at me', \"Like I might I'm wearing red my blue moon called my thing that you want to give to myself\", \"So I am I read but I think I'ma go but you think I'm a blow but I think I'm a toast toast in the back pull away track\", 'I am tracking with knowing a back']\n"
     ]
    }
   ],
   "source": [
    "print(flat_rows[0:5])"
   ]
  },
  {
   "cell_type": "code",
   "execution_count": 9,
   "id": "c6564e84",
   "metadata": {},
   "outputs": [],
   "source": [
    "import re"
   ]
  },
  {
   "cell_type": "code",
   "execution_count": 24,
   "id": "2d5b7689",
   "metadata": {},
   "outputs": [],
   "source": [
    "split_sents_q = []\n",
    "split_sents_ex = []"
   ]
  },
  {
   "cell_type": "code",
   "execution_count": 25,
   "id": "3928993a",
   "metadata": {},
   "outputs": [],
   "source": [
    "#get split on ! and ?\n",
    "for sent in flat_rows:\n",
    "    sp = sent.split(\"?\")\n",
    "    for s in sp:\n",
    "        sp_strip = s.strip()\n",
    "        words = sp_strip.split(' ')\n",
    "        if len(words) < 4:\n",
    "            continue\n",
    "        else:\n",
    "            split_sents.append(sp_strip)\n"
   ]
  },
  {
   "cell_type": "code",
   "execution_count": 26,
   "id": "ceaeed3f",
   "metadata": {},
   "outputs": [
    {
     "data": {
      "text/plain": [
       "13088804"
      ]
     },
     "execution_count": 26,
     "metadata": {},
     "output_type": "execute_result"
    }
   ],
   "source": [
    "len(split_sents)"
   ]
  },
  {
   "cell_type": "code",
   "execution_count": 27,
   "id": "9ab6994e",
   "metadata": {},
   "outputs": [],
   "source": [
    "rand_ind = np.random.choice(13088804, 5000, replace=False)"
   ]
  },
  {
   "cell_type": "code",
   "execution_count": 28,
   "id": "148d626d",
   "metadata": {},
   "outputs": [],
   "source": [
    "sentences_to_label = []\n",
    "for i in range(0,len(split_sents)):\n",
    "    if i in rand_ind:\n",
    "        sentences_to_label.append(split_sents[i])"
   ]
  },
  {
   "cell_type": "code",
   "execution_count": 29,
   "id": "efc2bb46",
   "metadata": {},
   "outputs": [],
   "source": [
    "#save final selected sentences into csv using pandas\n",
    "df_final = pd.DataFrame(data= sentences_to_label)\n",
    "df_final.to_csv(\"./podcast_sentences_5000.csv\", sep=',',index=False)"
   ]
  }
 ],
 "metadata": {
  "kernelspec": {
   "display_name": "Python 3 (ipykernel)",
   "language": "python",
   "name": "python3"
  },
  "language_info": {
   "codemirror_mode": {
    "name": "ipython",
    "version": 3
   },
   "file_extension": ".py",
   "mimetype": "text/x-python",
   "name": "python",
   "nbconvert_exporter": "python",
   "pygments_lexer": "ipython3",
   "version": "3.8.12"
  }
 },
 "nbformat": 4,
 "nbformat_minor": 5
}
