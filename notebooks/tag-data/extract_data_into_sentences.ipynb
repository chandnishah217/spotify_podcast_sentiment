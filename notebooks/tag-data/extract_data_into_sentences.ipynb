{
 "cells": [
  {
   "cell_type": "code",
   "execution_count": 1,
   "id": "d7da214d",
   "metadata": {},
   "outputs": [],
   "source": [
    "import numpy as np\n",
    "import os \n",
    "import sys\n",
    "import time\n",
    "import json\n",
    "import pandas as pd\n",
    "import csv"
   ]
  },
  {
   "cell_type": "code",
   "execution_count": 2,
   "id": "88c93444",
   "metadata": {},
   "outputs": [],
   "source": [
    "my_dir = 'data/raw/spotify-podcasts-2020/podcasts-transcripts'\n",
    "\n",
    "def load_files(data_dir):\n",
    "    transcripts = []\n",
    "    confidences = []\n",
    "    sources = []\n",
    "    \n",
    "    for dir_name, sub_dir_list, file_list in os.walk(data_dir):\n",
    "        #print(f'processing dir {dir_name} len {len(transcripts)}')\n",
    "        if dir_name == data_dir:\n",
    "            continue \n",
    "        for file_name in file_list:\n",
    "            if '.json' in file_name: \n",
    "                if '.icloud' in file_name:\n",
    "                    continue\n",
    "            #if file_name == \"2zFFZcJ4ZMhRk5OdNSk3Dh.json\":\n",
    "                file_path = os.path.join(dir_name, file_name)\n",
    "                f = open(file_path)\n",
    "                file_json = json.load(f)\n",
    "                \n",
    "                for result in file_json['results']:\n",
    "                    for alternative in result['alternatives']:\n",
    "                        transcripts.append(alternative.get('transcript'))\n",
    "                        confidences.append(alternative.get('confidence'))\n",
    "                        sources.append(dir_name +\"/\"+ file_name)\n",
    "            else:\n",
    "                continue\n",
    "        if len(transcripts) % 1000 == 0:\n",
    "            print(f'{dir_name} len: {len(transcripts)}')\n",
    "\n",
    "    return transcripts, confidences , sources  "
   ]
  },
  {
   "cell_type": "code",
   "execution_count": 3,
   "id": "2e2e78ba",
   "metadata": {},
   "outputs": [
    {
     "name": "stdout",
     "output_type": "stream",
     "text": [
      "<module 'time' (built-in)>\n",
      "data/raw/spotify-podcasts-2020/podcasts-transcripts/0 len: 0\n",
      "data/raw/spotify-podcasts-2020/podcasts-transcripts/0/0 len: 0\n",
      "data/raw/spotify-podcasts-2020/podcasts-transcripts/0/I/show_0IVSRCi3apyeL6YAc4eixK len: 404000\n",
      "data/raw/spotify-podcasts-2020/podcasts-transcripts/4/R/show_4rX095i8DRJHF2cfrDJW7c len: 1271000\n",
      "data/raw/spotify-podcasts-2020/podcasts-transcripts/4/T/show_4t0M0JVwMNUlcwqxXp1TiD len: 1403000\n",
      "data/raw/spotify-podcasts-2020/podcasts-transcripts/4/X/show_4XInkPOtKLXTMmNxMXrgTX len: 1625000\n",
      "data/raw/spotify-podcasts-2020/podcasts-transcripts/6/H/show_6HphnnaMGfQMxJFIY0VsMi len: 2917000\n",
      "data/raw/spotify-podcasts-2020/podcasts-transcripts/6/3/show_639pcXTPIwJLEe361nqkU3 len: 3232000\n",
      "data/raw/spotify-podcasts-2020/podcasts-transcripts/6/U/show_6UUIzrMgzSyKi1Rjt26yQM len: 3269000\n",
      "data/raw/spotify-podcasts-2020/podcasts-transcripts/6/O/show_6OUmYXPo78opQFutV9UHX8 len: 3442000\n",
      "data/raw/spotify-podcasts-2020/podcasts-transcripts/2/M/show_2MuSUr3weIYKhz49PycAIg len: 4283000\n",
      "data/raw/spotify-podcasts-2020/podcasts-transcripts/1/I/show_1iWjx4bhSocvcuedNmxmFl len: 5074000\n",
      "data/raw/spotify-podcasts-2020/podcasts-transcripts/1/9/show_19Gw8MZNXnRd32wBrAr5C2 len: 5403000\n",
      "data/raw/spotify-podcasts-2020/podcasts-transcripts/1/P/show_1PRHQDpPPEKO6YXbzhqwPJ len: 5611000\n",
      "data/raw/spotify-podcasts-2020/podcasts-transcripts/7/4/show_74V2KeN63U8QzUVbs12PEe len: 5868000\n",
      "data/raw/spotify-podcasts-2020/podcasts-transcripts/7/S/show_7sTMSY30mDkwKsQ7TPUa5J len: 6371000\n",
      "data/raw/spotify-podcasts-2020/podcasts-transcripts/5/N/show_5ng4osArg2fqtyDiPMhsAv len: 6699000\n",
      "data/raw/spotify-podcasts-2020/podcasts-transcripts/5/4/show_54RONBsLqEaroEK5z7GRSh len: 6727000\n",
      "data/raw/spotify-podcasts-2020/podcasts-transcripts/5/K/show_5kCXFEwuysKlAVS1rkKKd3 len: 7004000\n",
      "data/raw/spotify-podcasts-2020/podcasts-transcripts/5/2/show_52TNytamb2olyOnNgVtxWn len: 7032000\n",
      "data/raw/spotify-podcasts-2020/podcasts-transcripts/5/F/show_5FdscSbpWxHq8lKOedx1BZ len: 7727000\n",
      "data/raw/spotify-podcasts-2020/podcasts-transcripts/5/D/show_5d8i1J1n41SaxmzMJ1Gcgx len: 7733000\n",
      "data/raw/spotify-podcasts-2020/podcasts-transcripts/5/D/show_5dEhMKM8OOgPPzmihqVkcf len: 7749000\n",
      "data/raw/spotify-podcasts-2020/podcasts-transcripts/3/A/show_3aNZXX2MdP0q8Em8BxFPPW len: 8034000\n",
      "data/raw/spotify-podcasts-2020/podcasts-transcripts/3/Y/show_3YG4dYOvwAruBq6qeydwtc len: 8113000\n",
      "data/raw/spotify-podcasts-2020/podcasts-transcripts/3/O/show_3OJqlzD6DjgrM8xJN0ztec len: 9063000\n",
      "<module 'time' (built-in)>\n"
     ]
    }
   ],
   "source": [
    "print (time.time())\n",
    "tr, conf , source = load_files(my_dir)\n",
    "print(time.time())"
   ]
  },
  {
   "cell_type": "code",
   "execution_count": 4,
   "id": "36d43b3b",
   "metadata": {},
   "outputs": [
    {
     "name": "stdout",
     "output_type": "stream",
     "text": [
      "9107309 9107309\n"
     ]
    }
   ],
   "source": [
    "print(len(tr), len(conf))"
   ]
  },
  {
   "cell_type": "code",
   "execution_count": 5,
   "id": "6c3f2aaa",
   "metadata": {},
   "outputs": [
    {
     "name": "stdout",
     "output_type": "stream",
     "text": [
      " a about the way she was eating which let me first and first and foremost say that it's never okay to be sending death threats to people. I really don't understand what is wrong with people on the Internet is never okay to be sending threats death threats to people that you don't even know in real life and y'all are sending death threats based off of how she's eating. That's OD that's never okay, and nobody should be doing that. Nobody should be bullying each other on the internet and that's just on period 0.8975074887275696\n"
     ]
    }
   ],
   "source": [
    "print(tr[20], conf[20])"
   ]
  },
  {
   "cell_type": "code",
   "execution_count": 6,
   "id": "d8d42953",
   "metadata": {},
   "outputs": [],
   "source": [
    "sentences = []\n",
    "sent_conf = []\n",
    "sent_source= []"
   ]
  },
  {
   "cell_type": "code",
   "execution_count": 7,
   "id": "16befbe4",
   "metadata": {},
   "outputs": [],
   "source": [
    "for i, t in enumerate(tr):\n",
    "    if t is None:\n",
    "        continue\n",
    "    else:\n",
    "        # replace punctuation with itself followed by a delimiter, so we can split stentences\n",
    "        # but retain punctuation\n",
    "        sent =  t.replace(\".\",\".###\").replace(\"!\",\"!###\").replace(\"?\",\"?###\").split(\"###\")\n",
    "        for s in sent:\n",
    "            s_strip = s.strip()\n",
    "            words = s_strip.split()\n",
    "            if len(words) < 4:\n",
    "                continue\n",
    "            else:\n",
    "                sentences.append(s_strip)\n",
    "                sent_conf.append(conf[i])\n",
    "                sent_source.append(source[i])\n",
    " "
   ]
  },
  {
   "cell_type": "code",
   "execution_count": 10,
   "id": "02fe6dd2",
   "metadata": {},
   "outputs": [
    {
     "name": "stdout",
     "output_type": "stream",
     "text": [
      "the business business website in the description and I'm also going to put the link to the CEOs Instagram as well. 0.8485910892486572 data/raw/spotify-podcasts-2020/podcasts-transcripts/3/Q/show_3QvPETy7fr61hSLA2bsrgd/7zSRT3yTwjkBF8bzQtVgyW.json\n",
      "34357137\n",
      "[\"the business business website in the description and I'm also going to put the link to the CEOs Instagram as well.\", '']\n"
     ]
    }
   ],
   "source": [
    "print(sentences[20], sent_conf[20],source[i])\n",
    "print(len(sentences))\n",
    "\n",
    "sent = sentences[20]\n",
    "# replace punctuation with itself followed by a delimiter, so we can split stenteces\n",
    "# but retain punctuation\n",
    "sent = sent.replace(\".\",\".###\").replace(\"!\",\"!###\").replace(\"?\",\"?###\")\n",
    "print(sent.split('###'))"
   ]
  },
  {
   "cell_type": "code",
   "execution_count": 11,
   "id": "1c7022b8",
   "metadata": {},
   "outputs": [],
   "source": [
    "#save sentences into csv using pandas\n",
    "df = pd.DataFrame(data={\"string\": sentences, \"confidence\":sent_conf,\"source\":sent_source})\n",
    "df.to_csv(\"data/interim/extended_podcast_sentences.csv\", sep=',',index=False)"
   ]
  },
  {
   "cell_type": "code",
   "execution_count": 12,
   "id": "101f2570",
   "metadata": {},
   "outputs": [
    {
     "name": "stdout",
     "output_type": "stream",
     "text": [
      "1.6695180884503602 -0.30084153041775996 2.17865216896912\n"
     ]
    }
   ],
   "source": [
    "a = .2447284710548\n",
    "b = .66524095577482\n",
    "c = .09003057317038\n",
    "#[3, 2, -8], [1, -2, 5], [3, 6, 9]\n",
    "\n",
    "a1 = a*3 + b *1 + c * 3\n",
    "a2 = a*2 + b * -2 + c * 6\n",
    "a3 = a*-8 + b *5 + c * 9\n",
    "print(f'{a1} {a2} {a3}')"
   ]
  }
 ],
 "metadata": {
  "kernelspec": {
   "display_name": "Python 3",
   "language": "python",
   "name": "python3"
  },
  "language_info": {
   "codemirror_mode": {
    "name": "ipython",
    "version": 3
   },
   "file_extension": ".py",
   "mimetype": "text/x-python",
   "name": "python",
   "nbconvert_exporter": "python",
   "pygments_lexer": "ipython3",
   "version": "3.8.8"
  }
 },
 "nbformat": 4,
 "nbformat_minor": 5
}
