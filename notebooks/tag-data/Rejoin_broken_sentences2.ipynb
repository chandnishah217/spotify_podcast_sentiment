{
 "cells": [
  {
   "cell_type": "code",
   "execution_count": 1,
   "id": "a1b4ff5e",
   "metadata": {},
   "outputs": [],
   "source": [
    "import matplotlib.pyplot as plt \n",
    "import numpy as np\n",
    "import os \n",
    "import random\n",
    "import sys\n",
    "import pandas as pd\n",
    "import csv\n",
    "import re"
   ]
  },
  {
   "cell_type": "code",
   "execution_count": 2,
   "id": "14d2bee6",
   "metadata": {},
   "outputs": [
    {
     "name": "stdout",
     "output_type": "stream",
     "text": [
      "Loaded 34357137 sentences\n"
     ]
    }
   ],
   "source": [
    "#read in CSV line by line\n",
    "line = pd.read_csv('data/interim/extended_podcast_sentences.csv',nrows=1)\n",
    "while (line.shape[0]>0)\n",
    "    first_part = line.string[0]\n",
    "    first_source = line.source[0]\n",
    "    conf = line.confidence[0]\n",
    "    term = first_part[-1]\n",
    "    n = 1\n",
    "    used=0\n",
    "    while (term not in ['.','!','?']):\n",
    "        line = pd.read_csv('data/interim/extended_podcast_sentences.csv',nrows=1)\n",
    "        used=0\n",
    "        if (first_source == line.source[0]):\n",
    "            second_part = line.string[0]\n",
    "            conf += line.confidence[0]\n",
    "            first_part = first_part + \" \" + second_part\n",
    "            #print(first_part,i)\n",
    "            rejoined += 1\n",
    "            n += 1\n",
    "            term=first_part[-1]\n",
    "            used=1\n",
    "            \n",
    "    conf = conf/n\n",
    "    outputDf = outputDf.append( {\"string\":first_part, \"confidence\":conf, \"source\":line.source[i]},\n",
    "                    ignore_index=True)\n",
    "       \n",
    "    if i % 10000 == 0:\n",
    "        print(f'line {i}')\n",
    "    line = pd.read_csv('data/interim/extended_podcast_sentences.csv',nrows=1)\n",
    "\n",
    "#print(outputDf)\n",
    "print(f'Rejoined {rejoined} strings'  )    "
   ]
  },
  {
   "cell_type": "code",
   "execution_count": null,
   "id": "26ca4540",
   "metadata": {},
   "outputs": [],
   "source": [
    "# output dataframe to file\n",
    "outputDf.to_csv('data/interim/rejoined_extended_podcast_sentences.csv', sep=',',index=False)"
   ]
  }
 ],
 "metadata": {
  "kernelspec": {
   "display_name": "Python 3",
   "language": "python",
   "name": "python3"
  },
  "language_info": {
   "codemirror_mode": {
    "name": "ipython",
    "version": 3
   },
   "file_extension": ".py",
   "mimetype": "text/x-python",
   "name": "python",
   "nbconvert_exporter": "python",
   "pygments_lexer": "ipython3",
   "version": "3.8.8"
  }
 },
 "nbformat": 4,
 "nbformat_minor": 5
}
